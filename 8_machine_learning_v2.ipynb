{
 "cells": [
  {
   "cell_type": "code",
   "execution_count": 64,
   "id": "a6a8525a",
   "metadata": {},
   "outputs": [],
   "source": [
    "from sklearn.model_selection import StratifiedKFold, GridSearchCV, train_test_split, cross_val_predict\n",
    "from sklearn.pipeline import Pipeline\n",
    "from sklearn.preprocessing import StandardScaler, LabelEncoder\n",
    "\n",
    "from sklearn.metrics import classification_report, confusion_matrix\n",
    "from sklearn.metrics import accuracy_score, f1_score, classification_report, confusion_matrix\n",
    "from sklearn.ensemble import RandomForestClassifier, GradientBoostingClassifier, ExtraTreesClassifier\n",
    "from sklearn.svm import SVC\n",
    "from sklearn.neural_network import MLPClassifier\n",
    "from joblib import parallel_backend\n",
    "\n",
    "import numpy as np\n",
    "import pandas as pd\n",
    "import time, warnings\n",
    "import rasterio\n",
    "import os\n",
    "\n",
    "warnings.filterwarnings(\"ignore\")"
   ]
  },
  {
   "cell_type": "code",
   "execution_count": 65,
   "id": "4ab1cc83",
   "metadata": {},
   "outputs": [
    {
     "data": {
      "application/vnd.microsoft.datawrangler.viewer.v0+json": {
       "columns": [
        {
         "name": "index",
         "rawType": "int64",
         "type": "integer"
        },
        {
         "name": "id",
         "rawType": "int64",
         "type": "integer"
        },
        {
         "name": "ciudad",
         "rawType": "object",
         "type": "string"
        },
        {
         "name": "cobertura",
         "rawType": "object",
         "type": "string"
        },
        {
         "name": "anio",
         "rawType": "int64",
         "type": "integer"
        },
        {
         "name": "b2",
         "rawType": "float64",
         "type": "float"
        },
        {
         "name": "b3",
         "rawType": "float64",
         "type": "float"
        },
        {
         "name": "b4",
         "rawType": "float64",
         "type": "float"
        },
        {
         "name": "b5",
         "rawType": "float64",
         "type": "float"
        },
        {
         "name": "b6",
         "rawType": "float64",
         "type": "float"
        },
        {
         "name": "b7",
         "rawType": "float64",
         "type": "float"
        },
        {
         "name": "b8",
         "rawType": "float64",
         "type": "float"
        },
        {
         "name": "lst",
         "rawType": "float64",
         "type": "float"
        },
        {
         "name": "ndvi",
         "rawType": "float64",
         "type": "float"
        },
        {
         "name": "ndbi",
         "rawType": "float64",
         "type": "float"
        },
        {
         "name": "ndwi",
         "rawType": "float64",
         "type": "float"
        },
        {
         "name": "geometria",
         "rawType": "object",
         "type": "string"
        }
       ],
       "ref": "b1a950b9-361f-4c32-9880-b410c05b093d",
       "rows": [
        [
         "0",
         "1",
         "cartagena",
         "Agua de mar",
         "2020",
         "0.0290475003421306",
         "0.058032501488924",
         "0.0179650001227855",
         "0.006085000000894",
         "0.0086975004523992",
         "0.0081749996170401",
         "0.1063673123717308",
         "29.910430908203125",
         "-0.4939709007740021",
         "0.1767292618751526",
         "0.7393226623535156",
         "POINT (-75.57684056914488 10.2832248167126)"
        ],
        [
         "1",
         "2",
         "barranquilla",
         "Suelo desnudo",
         "2022",
         "0.0507724992930889",
         "0.0785475000739097",
         "0.1039299964904785",
         "0.3059724867343902",
         "0.2904075086116791",
         "0.1592874974012375",
         "0.109770767390728",
         "39.039947509765625",
         "0.4929037988185882",
         "-0.026099095121026",
         "-0.574216365814209",
         "POINT (-74.89247223516077 10.981728222216416)"
        ],
        [
         "2",
         "3",
         "santa_marta",
         "Construcciones",
         "2022",
         "0.073184996843338",
         "0.1001074984669685",
         "0.114655002951622",
         "0.2737149894237518",
         "0.2434100061655044",
         "0.1664925068616867",
         "0.1485538184642791",
         "42.495574951171875",
         "0.4095578789710998",
         "-0.0586028210818767",
         "-0.4171621799468994",
         "POINT (-74.19021265998644 11.22816510954076)"
        ],
        [
         "3",
         "4",
         "barranquilla",
         "Agua dulce",
         "2024",
         "0.0653475001454353",
         "0.0931499972939491",
         "0.0972200036048889",
         "0.0428799986839294",
         "0.0101274996995925",
         "0.006085000000894",
         "0.1140989661216735",
         "31.75958251953125",
         "-0.3878658413887024",
         "-0.6178842782974243",
         "0.8038778901100159",
         "POINT (-74.799935240058 11.031285067372442)"
        ],
        [
         "4",
         "5",
         "santa_marta",
         "Construcciones",
         "2022",
         "0.0855600014328956",
         "0.1199349984526634",
         "0.1412200033664703",
         "0.2480574995279312",
         "0.2649975121021271",
         "0.2181649953126907",
         "0.1336051672697067",
         "43.469696044921875",
         "0.2744507193565368",
         "0.0330179259181022",
         "-0.3768517971038818",
         "POINT (-74.1657521159878 11.228641543231959)"
        ]
       ],
       "shape": {
        "columns": 16,
        "rows": 5
       }
      },
      "text/html": [
       "<div>\n",
       "<style scoped>\n",
       "    .dataframe tbody tr th:only-of-type {\n",
       "        vertical-align: middle;\n",
       "    }\n",
       "\n",
       "    .dataframe tbody tr th {\n",
       "        vertical-align: top;\n",
       "    }\n",
       "\n",
       "    .dataframe thead th {\n",
       "        text-align: right;\n",
       "    }\n",
       "</style>\n",
       "<table border=\"1\" class=\"dataframe\">\n",
       "  <thead>\n",
       "    <tr style=\"text-align: right;\">\n",
       "      <th></th>\n",
       "      <th>id</th>\n",
       "      <th>ciudad</th>\n",
       "      <th>cobertura</th>\n",
       "      <th>anio</th>\n",
       "      <th>b2</th>\n",
       "      <th>b3</th>\n",
       "      <th>b4</th>\n",
       "      <th>b5</th>\n",
       "      <th>b6</th>\n",
       "      <th>b7</th>\n",
       "      <th>b8</th>\n",
       "      <th>lst</th>\n",
       "      <th>ndvi</th>\n",
       "      <th>ndbi</th>\n",
       "      <th>ndwi</th>\n",
       "      <th>geometria</th>\n",
       "    </tr>\n",
       "  </thead>\n",
       "  <tbody>\n",
       "    <tr>\n",
       "      <th>0</th>\n",
       "      <td>1</td>\n",
       "      <td>cartagena</td>\n",
       "      <td>Agua de mar</td>\n",
       "      <td>2020</td>\n",
       "      <td>0.029048</td>\n",
       "      <td>0.058033</td>\n",
       "      <td>0.017965</td>\n",
       "      <td>0.006085</td>\n",
       "      <td>0.008698</td>\n",
       "      <td>0.008175</td>\n",
       "      <td>0.106367</td>\n",
       "      <td>29.910431</td>\n",
       "      <td>-0.493971</td>\n",
       "      <td>0.176729</td>\n",
       "      <td>0.739323</td>\n",
       "      <td>POINT (-75.57684056914488 10.2832248167126)</td>\n",
       "    </tr>\n",
       "    <tr>\n",
       "      <th>1</th>\n",
       "      <td>2</td>\n",
       "      <td>barranquilla</td>\n",
       "      <td>Suelo desnudo</td>\n",
       "      <td>2022</td>\n",
       "      <td>0.050772</td>\n",
       "      <td>0.078548</td>\n",
       "      <td>0.103930</td>\n",
       "      <td>0.305972</td>\n",
       "      <td>0.290408</td>\n",
       "      <td>0.159287</td>\n",
       "      <td>0.109771</td>\n",
       "      <td>39.039948</td>\n",
       "      <td>0.492904</td>\n",
       "      <td>-0.026099</td>\n",
       "      <td>-0.574216</td>\n",
       "      <td>POINT (-74.89247223516077 10.981728222216416)</td>\n",
       "    </tr>\n",
       "    <tr>\n",
       "      <th>2</th>\n",
       "      <td>3</td>\n",
       "      <td>santa_marta</td>\n",
       "      <td>Construcciones</td>\n",
       "      <td>2022</td>\n",
       "      <td>0.073185</td>\n",
       "      <td>0.100107</td>\n",
       "      <td>0.114655</td>\n",
       "      <td>0.273715</td>\n",
       "      <td>0.243410</td>\n",
       "      <td>0.166493</td>\n",
       "      <td>0.148554</td>\n",
       "      <td>42.495575</td>\n",
       "      <td>0.409558</td>\n",
       "      <td>-0.058603</td>\n",
       "      <td>-0.417162</td>\n",
       "      <td>POINT (-74.19021265998644 11.22816510954076)</td>\n",
       "    </tr>\n",
       "    <tr>\n",
       "      <th>3</th>\n",
       "      <td>4</td>\n",
       "      <td>barranquilla</td>\n",
       "      <td>Agua dulce</td>\n",
       "      <td>2024</td>\n",
       "      <td>0.065348</td>\n",
       "      <td>0.093150</td>\n",
       "      <td>0.097220</td>\n",
       "      <td>0.042880</td>\n",
       "      <td>0.010127</td>\n",
       "      <td>0.006085</td>\n",
       "      <td>0.114099</td>\n",
       "      <td>31.759583</td>\n",
       "      <td>-0.387866</td>\n",
       "      <td>-0.617884</td>\n",
       "      <td>0.803878</td>\n",
       "      <td>POINT (-74.799935240058 11.031285067372442)</td>\n",
       "    </tr>\n",
       "    <tr>\n",
       "      <th>4</th>\n",
       "      <td>5</td>\n",
       "      <td>santa_marta</td>\n",
       "      <td>Construcciones</td>\n",
       "      <td>2022</td>\n",
       "      <td>0.085560</td>\n",
       "      <td>0.119935</td>\n",
       "      <td>0.141220</td>\n",
       "      <td>0.248057</td>\n",
       "      <td>0.264998</td>\n",
       "      <td>0.218165</td>\n",
       "      <td>0.133605</td>\n",
       "      <td>43.469696</td>\n",
       "      <td>0.274451</td>\n",
       "      <td>0.033018</td>\n",
       "      <td>-0.376852</td>\n",
       "      <td>POINT (-74.1657521159878 11.228641543231959)</td>\n",
       "    </tr>\n",
       "  </tbody>\n",
       "</table>\n",
       "</div>"
      ],
      "text/plain": [
       "   id        ciudad       cobertura  anio        b2        b3        b4  \\\n",
       "0   1     cartagena     Agua de mar  2020  0.029048  0.058033  0.017965   \n",
       "1   2  barranquilla   Suelo desnudo  2022  0.050772  0.078548  0.103930   \n",
       "2   3   santa_marta  Construcciones  2022  0.073185  0.100107  0.114655   \n",
       "3   4  barranquilla      Agua dulce  2024  0.065348  0.093150  0.097220   \n",
       "4   5   santa_marta  Construcciones  2022  0.085560  0.119935  0.141220   \n",
       "\n",
       "         b5        b6        b7        b8        lst      ndvi      ndbi  \\\n",
       "0  0.006085  0.008698  0.008175  0.106367  29.910431 -0.493971  0.176729   \n",
       "1  0.305972  0.290408  0.159287  0.109771  39.039948  0.492904 -0.026099   \n",
       "2  0.273715  0.243410  0.166493  0.148554  42.495575  0.409558 -0.058603   \n",
       "3  0.042880  0.010127  0.006085  0.114099  31.759583 -0.387866 -0.617884   \n",
       "4  0.248057  0.264998  0.218165  0.133605  43.469696  0.274451  0.033018   \n",
       "\n",
       "       ndwi                                      geometria  \n",
       "0  0.739323    POINT (-75.57684056914488 10.2832248167126)  \n",
       "1 -0.574216  POINT (-74.89247223516077 10.981728222216416)  \n",
       "2 -0.417162   POINT (-74.19021265998644 11.22816510954076)  \n",
       "3  0.803878    POINT (-74.799935240058 11.031285067372442)  \n",
       "4 -0.376852   POINT (-74.1657521159878 11.228641543231959)  "
      ]
     },
     "execution_count": 65,
     "metadata": {},
     "output_type": "execute_result"
    }
   ],
   "source": [
    "df = pd.read_csv('/Users/jonny.sanchez/Documents/tesis/data_maestria_final.csv')\n",
    "df.head(5)"
   ]
  },
  {
   "cell_type": "code",
   "execution_count": 66,
   "id": "7b9c9f00",
   "metadata": {},
   "outputs": [],
   "source": [
    "le = LabelEncoder()\n",
    "\n",
    "df['cobertura_le'] = le.fit_transform(df['cobertura'])\n",
    "y = df['cobertura_le'].values\n",
    "\n",
    "bands = ['b2','b3','b4','b6','lst','ndvi','ndbi']\n",
    "available_cols = [c for c in bands if c in df.columns]\n",
    "\n",
    "X = df[available_cols]\n",
    "\n",
    "labels = le.classes_"
   ]
  },
  {
   "cell_type": "code",
   "execution_count": 67,
   "id": "8f5636b1",
   "metadata": {},
   "outputs": [],
   "source": [
    "X_train, X_test, y_train, y_test = train_test_split(X, y, test_size=0.3, random_state=42)\n",
    "\n",
    "models = {\n",
    "    'RandomForest': (\n",
    "        Pipeline([(\"model\", RandomForestClassifier(random_state=42, n_jobs=-1, class_weight='balanced'))]),\n",
    "        {\"model__n_estimators\": [200],\n",
    "        \"model__max_depth\": [None, 8],\n",
    "        \"model__min_samples_split\": [2, 5],\n",
    "        \"model__min_samples_leaf\": [1, 2]}\n",
    "        ),\n",
    "    'ExtraTrees':(\n",
    "        Pipeline([(\"model\",ExtraTreesClassifier(random_state=42,n_jobs=-1))]),\n",
    "        {\n",
    "        \"model__n_estimators\": [300, 500],\n",
    "        \"model__max_depth\": [None, 15],\n",
    "        \"model__min_samples_split\": [2, 5],\n",
    "        \"model__min_samples_leaf\": [1, 2]\n",
    "        }\n",
    "    ),\n",
    "    'GradientBoosting': (\n",
    "        Pipeline([(\"model\", GradientBoostingClassifier(random_state=42))]),\n",
    "        {\"model__n_estimators\": [200, 400],\n",
    "        \"model__learning_rate\": [0.05, 0.1],\n",
    "        \"model__max_depth\": [2, 3]}\n",
    "        ),\n",
    "    'SVC': (\n",
    "        Pipeline([(\"scaler\", StandardScaler()), (\"model\", SVC(probability=True, class_weight='balanced', random_state=42))]),\n",
    "        {\n",
    "        \"model__C\": [0.5, 1, 2],\n",
    "        \"model__gamma\": [\"scale\", \"auto\"],\n",
    "        \"model__kernel\": [\"rbf\"]\n",
    "        }\n",
    "        ),\n",
    "    'MLP': (\n",
    "        Pipeline([(\"scaler\", StandardScaler()),(\"model\", MLPClassifier(max_iter=1000, early_stopping=True, n_iter_no_change=25, random_state=42))]),\n",
    "        {\"model__hidden_layer_sizes\": [(64, 32), (128, 64, 32)], \n",
    "         \"model__alpha\": [1e-5, 1e-4, 1e-3, 1e-2], \n",
    "         \"model__activation\": [\"relu\",\"tanh\"],\n",
    "         \"model__solver\": [\"adam\"]}\n",
    "    ),\n",
    "}"
   ]
  },
  {
   "cell_type": "code",
   "execution_count": 68,
   "id": "f7421213",
   "metadata": {},
   "outputs": [
    {
     "name": "stdout",
     "output_type": "stream",
     "text": [
      "\n",
      "=== RandomForest ===\n",
      "Mejores params CV: {'model__max_depth': None, 'model__min_samples_leaf': 1, 'model__min_samples_split': 2, 'model__n_estimators': 200}\n",
      "Tiempo entrenamiento: 9.083s | Tiempo OOF-predict: 2.200s\n",
      "[TEST]   ACC=0.974  F1=0.976\n",
      "[OOF-CV] ACC=0.973  F1=0.976\n",
      "Reporte de clasificación (TEST):\n"
     ]
    },
    {
     "data": {
      "application/vnd.microsoft.datawrangler.viewer.v0+json": {
       "columns": [
        {
         "name": "index",
         "rawType": "object",
         "type": "string"
        },
        {
         "name": "precision",
         "rawType": "float64",
         "type": "float"
        },
        {
         "name": "recall",
         "rawType": "float64",
         "type": "float"
        },
        {
         "name": "f1-score",
         "rawType": "float64",
         "type": "float"
        },
        {
         "name": "support",
         "rawType": "float64",
         "type": "float"
        }
       ],
       "ref": "0d3b8a22-118e-4f65-a8a5-605bc4fc3546",
       "rows": [
        [
         "0",
         "0.971",
         "0.975",
         "0.973",
         "408.0"
        ],
        [
         "1",
         "0.961",
         "0.955",
         "0.958",
         "287.0"
        ],
        [
         "2",
         "0.979",
         "0.981",
         "0.98",
         "698.0"
        ],
        [
         "3",
         "1.0",
         "1.0",
         "1.0",
         "140.0"
        ],
        [
         "4",
         "0.968",
         "0.962",
         "0.965",
         "599.0"
        ],
        [
         "5",
         "0.977",
         "0.98",
         "0.978",
         "644.0"
        ],
        [
         "accuracy",
         "0.974",
         "0.974",
         "0.974",
         "0.974"
        ],
        [
         "macro avg",
         "0.976",
         "0.975",
         "0.976",
         "2776.0"
        ],
        [
         "weighted avg",
         "0.974",
         "0.974",
         "0.974",
         "2776.0"
        ]
       ],
       "shape": {
        "columns": 4,
        "rows": 9
       }
      },
      "text/html": [
       "<div>\n",
       "<style scoped>\n",
       "    .dataframe tbody tr th:only-of-type {\n",
       "        vertical-align: middle;\n",
       "    }\n",
       "\n",
       "    .dataframe tbody tr th {\n",
       "        vertical-align: top;\n",
       "    }\n",
       "\n",
       "    .dataframe thead th {\n",
       "        text-align: right;\n",
       "    }\n",
       "</style>\n",
       "<table border=\"1\" class=\"dataframe\">\n",
       "  <thead>\n",
       "    <tr style=\"text-align: right;\">\n",
       "      <th></th>\n",
       "      <th>precision</th>\n",
       "      <th>recall</th>\n",
       "      <th>f1-score</th>\n",
       "      <th>support</th>\n",
       "    </tr>\n",
       "  </thead>\n",
       "  <tbody>\n",
       "    <tr>\n",
       "      <th>0</th>\n",
       "      <td>0.971</td>\n",
       "      <td>0.975</td>\n",
       "      <td>0.973</td>\n",
       "      <td>408.000</td>\n",
       "    </tr>\n",
       "    <tr>\n",
       "      <th>1</th>\n",
       "      <td>0.961</td>\n",
       "      <td>0.955</td>\n",
       "      <td>0.958</td>\n",
       "      <td>287.000</td>\n",
       "    </tr>\n",
       "    <tr>\n",
       "      <th>2</th>\n",
       "      <td>0.979</td>\n",
       "      <td>0.981</td>\n",
       "      <td>0.980</td>\n",
       "      <td>698.000</td>\n",
       "    </tr>\n",
       "    <tr>\n",
       "      <th>3</th>\n",
       "      <td>1.000</td>\n",
       "      <td>1.000</td>\n",
       "      <td>1.000</td>\n",
       "      <td>140.000</td>\n",
       "    </tr>\n",
       "    <tr>\n",
       "      <th>4</th>\n",
       "      <td>0.968</td>\n",
       "      <td>0.962</td>\n",
       "      <td>0.965</td>\n",
       "      <td>599.000</td>\n",
       "    </tr>\n",
       "    <tr>\n",
       "      <th>5</th>\n",
       "      <td>0.977</td>\n",
       "      <td>0.980</td>\n",
       "      <td>0.978</td>\n",
       "      <td>644.000</td>\n",
       "    </tr>\n",
       "    <tr>\n",
       "      <th>accuracy</th>\n",
       "      <td>0.974</td>\n",
       "      <td>0.974</td>\n",
       "      <td>0.974</td>\n",
       "      <td>0.974</td>\n",
       "    </tr>\n",
       "    <tr>\n",
       "      <th>macro avg</th>\n",
       "      <td>0.976</td>\n",
       "      <td>0.975</td>\n",
       "      <td>0.976</td>\n",
       "      <td>2776.000</td>\n",
       "    </tr>\n",
       "    <tr>\n",
       "      <th>weighted avg</th>\n",
       "      <td>0.974</td>\n",
       "      <td>0.974</td>\n",
       "      <td>0.974</td>\n",
       "      <td>2776.000</td>\n",
       "    </tr>\n",
       "  </tbody>\n",
       "</table>\n",
       "</div>"
      ],
      "text/plain": [
       "              precision  recall  f1-score   support\n",
       "0                 0.971   0.975     0.973   408.000\n",
       "1                 0.961   0.955     0.958   287.000\n",
       "2                 0.979   0.981     0.980   698.000\n",
       "3                 1.000   1.000     1.000   140.000\n",
       "4                 0.968   0.962     0.965   599.000\n",
       "5                 0.977   0.980     0.978   644.000\n",
       "accuracy          0.974   0.974     0.974     0.974\n",
       "macro avg         0.976   0.975     0.976  2776.000\n",
       "weighted avg      0.974   0.974     0.974  2776.000"
      ]
     },
     "metadata": {},
     "output_type": "display_data"
    },
    {
     "name": "stdout",
     "output_type": "stream",
     "text": [
      "Matriz de confusión (TEST):\n"
     ]
    },
    {
     "data": {
      "application/vnd.microsoft.datawrangler.viewer.v0+json": {
       "columns": [
        {
         "name": "index",
         "rawType": "int64",
         "type": "integer"
        },
        {
         "name": "0",
         "rawType": "int64",
         "type": "integer"
        },
        {
         "name": "1",
         "rawType": "int64",
         "type": "integer"
        },
        {
         "name": "2",
         "rawType": "int64",
         "type": "integer"
        },
        {
         "name": "3",
         "rawType": "int64",
         "type": "integer"
        },
        {
         "name": "4",
         "rawType": "int64",
         "type": "integer"
        },
        {
         "name": "5",
         "rawType": "int64",
         "type": "integer"
        }
       ],
       "ref": "e3f49cc5-1f54-4706-abec-7e00b2a72f47",
       "rows": [
        [
         "0",
         "398",
         "10",
         "0",
         "0",
         "0",
         "0"
        ],
        [
         "1",
         "12",
         "274",
         "0",
         "0",
         "0",
         "1"
        ],
        [
         "2",
         "0",
         "0",
         "685",
         "0",
         "9",
         "4"
        ],
        [
         "3",
         "0",
         "0",
         "0",
         "140",
         "0",
         "0"
        ],
        [
         "4",
         "0",
         "0",
         "13",
         "0",
         "576",
         "10"
        ],
        [
         "5",
         "0",
         "1",
         "2",
         "0",
         "10",
         "631"
        ]
       ],
       "shape": {
        "columns": 6,
        "rows": 6
       }
      },
      "text/html": [
       "<div>\n",
       "<style scoped>\n",
       "    .dataframe tbody tr th:only-of-type {\n",
       "        vertical-align: middle;\n",
       "    }\n",
       "\n",
       "    .dataframe tbody tr th {\n",
       "        vertical-align: top;\n",
       "    }\n",
       "\n",
       "    .dataframe thead th {\n",
       "        text-align: right;\n",
       "    }\n",
       "</style>\n",
       "<table border=\"1\" class=\"dataframe\">\n",
       "  <thead>\n",
       "    <tr style=\"text-align: right;\">\n",
       "      <th></th>\n",
       "      <th>0</th>\n",
       "      <th>1</th>\n",
       "      <th>2</th>\n",
       "      <th>3</th>\n",
       "      <th>4</th>\n",
       "      <th>5</th>\n",
       "    </tr>\n",
       "  </thead>\n",
       "  <tbody>\n",
       "    <tr>\n",
       "      <th>0</th>\n",
       "      <td>398</td>\n",
       "      <td>10</td>\n",
       "      <td>0</td>\n",
       "      <td>0</td>\n",
       "      <td>0</td>\n",
       "      <td>0</td>\n",
       "    </tr>\n",
       "    <tr>\n",
       "      <th>1</th>\n",
       "      <td>12</td>\n",
       "      <td>274</td>\n",
       "      <td>0</td>\n",
       "      <td>0</td>\n",
       "      <td>0</td>\n",
       "      <td>1</td>\n",
       "    </tr>\n",
       "    <tr>\n",
       "      <th>2</th>\n",
       "      <td>0</td>\n",
       "      <td>0</td>\n",
       "      <td>685</td>\n",
       "      <td>0</td>\n",
       "      <td>9</td>\n",
       "      <td>4</td>\n",
       "    </tr>\n",
       "    <tr>\n",
       "      <th>3</th>\n",
       "      <td>0</td>\n",
       "      <td>0</td>\n",
       "      <td>0</td>\n",
       "      <td>140</td>\n",
       "      <td>0</td>\n",
       "      <td>0</td>\n",
       "    </tr>\n",
       "    <tr>\n",
       "      <th>4</th>\n",
       "      <td>0</td>\n",
       "      <td>0</td>\n",
       "      <td>13</td>\n",
       "      <td>0</td>\n",
       "      <td>576</td>\n",
       "      <td>10</td>\n",
       "    </tr>\n",
       "    <tr>\n",
       "      <th>5</th>\n",
       "      <td>0</td>\n",
       "      <td>1</td>\n",
       "      <td>2</td>\n",
       "      <td>0</td>\n",
       "      <td>10</td>\n",
       "      <td>631</td>\n",
       "    </tr>\n",
       "  </tbody>\n",
       "</table>\n",
       "</div>"
      ],
      "text/plain": [
       "     0    1    2    3    4    5\n",
       "0  398   10    0    0    0    0\n",
       "1   12  274    0    0    0    1\n",
       "2    0    0  685    0    9    4\n",
       "3    0    0    0  140    0    0\n",
       "4    0    0   13    0  576   10\n",
       "5    0    1    2    0   10  631"
      ]
     },
     "metadata": {},
     "output_type": "display_data"
    },
    {
     "name": "stdout",
     "output_type": "stream",
     "text": [
      "Matriz de confusión (OOF-CV):\n"
     ]
    },
    {
     "data": {
      "application/vnd.microsoft.datawrangler.viewer.v0+json": {
       "columns": [
        {
         "name": "index",
         "rawType": "int64",
         "type": "integer"
        },
        {
         "name": "0",
         "rawType": "int64",
         "type": "integer"
        },
        {
         "name": "1",
         "rawType": "int64",
         "type": "integer"
        },
        {
         "name": "2",
         "rawType": "int64",
         "type": "integer"
        },
        {
         "name": "3",
         "rawType": "int64",
         "type": "integer"
        },
        {
         "name": "4",
         "rawType": "int64",
         "type": "integer"
        },
        {
         "name": "5",
         "rawType": "int64",
         "type": "integer"
        }
       ],
       "ref": "dbdb765a-4d91-491f-b1df-664f35d61fda",
       "rows": [
        [
         "0",
         "1380",
         "21",
         "0",
         "0",
         "1",
         "1"
        ],
        [
         "1",
         "34",
         "898",
         "0",
         "0",
         "1",
         "3"
        ],
        [
         "2",
         "0",
         "0",
         "2191",
         "0",
         "46",
         "15"
        ],
        [
         "3",
         "0",
         "0",
         "0",
         "469",
         "0",
         "0"
        ],
        [
         "4",
         "0",
         "0",
         "32",
         "0",
         "1986",
         "41"
        ],
        [
         "5",
         "1",
         "6",
         "7",
         "0",
         "37",
         "2082"
        ]
       ],
       "shape": {
        "columns": 6,
        "rows": 6
       }
      },
      "text/html": [
       "<div>\n",
       "<style scoped>\n",
       "    .dataframe tbody tr th:only-of-type {\n",
       "        vertical-align: middle;\n",
       "    }\n",
       "\n",
       "    .dataframe tbody tr th {\n",
       "        vertical-align: top;\n",
       "    }\n",
       "\n",
       "    .dataframe thead th {\n",
       "        text-align: right;\n",
       "    }\n",
       "</style>\n",
       "<table border=\"1\" class=\"dataframe\">\n",
       "  <thead>\n",
       "    <tr style=\"text-align: right;\">\n",
       "      <th></th>\n",
       "      <th>0</th>\n",
       "      <th>1</th>\n",
       "      <th>2</th>\n",
       "      <th>3</th>\n",
       "      <th>4</th>\n",
       "      <th>5</th>\n",
       "    </tr>\n",
       "  </thead>\n",
       "  <tbody>\n",
       "    <tr>\n",
       "      <th>0</th>\n",
       "      <td>1380</td>\n",
       "      <td>21</td>\n",
       "      <td>0</td>\n",
       "      <td>0</td>\n",
       "      <td>1</td>\n",
       "      <td>1</td>\n",
       "    </tr>\n",
       "    <tr>\n",
       "      <th>1</th>\n",
       "      <td>34</td>\n",
       "      <td>898</td>\n",
       "      <td>0</td>\n",
       "      <td>0</td>\n",
       "      <td>1</td>\n",
       "      <td>3</td>\n",
       "    </tr>\n",
       "    <tr>\n",
       "      <th>2</th>\n",
       "      <td>0</td>\n",
       "      <td>0</td>\n",
       "      <td>2191</td>\n",
       "      <td>0</td>\n",
       "      <td>46</td>\n",
       "      <td>15</td>\n",
       "    </tr>\n",
       "    <tr>\n",
       "      <th>3</th>\n",
       "      <td>0</td>\n",
       "      <td>0</td>\n",
       "      <td>0</td>\n",
       "      <td>469</td>\n",
       "      <td>0</td>\n",
       "      <td>0</td>\n",
       "    </tr>\n",
       "    <tr>\n",
       "      <th>4</th>\n",
       "      <td>0</td>\n",
       "      <td>0</td>\n",
       "      <td>32</td>\n",
       "      <td>0</td>\n",
       "      <td>1986</td>\n",
       "      <td>41</td>\n",
       "    </tr>\n",
       "    <tr>\n",
       "      <th>5</th>\n",
       "      <td>1</td>\n",
       "      <td>6</td>\n",
       "      <td>7</td>\n",
       "      <td>0</td>\n",
       "      <td>37</td>\n",
       "      <td>2082</td>\n",
       "    </tr>\n",
       "  </tbody>\n",
       "</table>\n",
       "</div>"
      ],
      "text/plain": [
       "      0    1     2    3     4     5\n",
       "0  1380   21     0    0     1     1\n",
       "1    34  898     0    0     1     3\n",
       "2     0    0  2191    0    46    15\n",
       "3     0    0     0  469     0     0\n",
       "4     0    0    32    0  1986    41\n",
       "5     1    6     7    0    37  2082"
      ]
     },
     "metadata": {},
     "output_type": "display_data"
    },
    {
     "name": "stdout",
     "output_type": "stream",
     "text": [
      "\n",
      "=== ExtraTrees ===\n",
      "Mejores params CV: {'model__max_depth': None, 'model__min_samples_leaf': 1, 'model__min_samples_split': 2, 'model__n_estimators': 300}\n",
      "Tiempo entrenamiento: 9.008s | Tiempo OOF-predict: 1.630s\n",
      "[TEST]   ACC=0.978  F1=0.980\n",
      "[OOF-CV] ACC=0.978  F1=0.982\n",
      "Reporte de clasificación (TEST):\n"
     ]
    },
    {
     "data": {
      "application/vnd.microsoft.datawrangler.viewer.v0+json": {
       "columns": [
        {
         "name": "index",
         "rawType": "object",
         "type": "string"
        },
        {
         "name": "precision",
         "rawType": "float64",
         "type": "float"
        },
        {
         "name": "recall",
         "rawType": "float64",
         "type": "float"
        },
        {
         "name": "f1-score",
         "rawType": "float64",
         "type": "float"
        },
        {
         "name": "support",
         "rawType": "float64",
         "type": "float"
        }
       ],
       "ref": "52f2d958-bb09-4187-bf9d-b3c7f6534df8",
       "rows": [
        [
         "0",
         "0.978",
         "0.988",
         "0.983",
         "408.0"
        ],
        [
         "1",
         "0.979",
         "0.965",
         "0.972",
         "287.0"
        ],
        [
         "2",
         "0.983",
         "0.979",
         "0.981",
         "698.0"
        ],
        [
         "3",
         "1.0",
         "1.0",
         "1.0",
         "140.0"
        ],
        [
         "4",
         "0.97",
         "0.965",
         "0.967",
         "599.0"
        ],
        [
         "5",
         "0.975",
         "0.984",
         "0.98",
         "644.0"
        ],
        [
         "accuracy",
         "0.978",
         "0.978",
         "0.978",
         "0.978"
        ],
        [
         "macro avg",
         "0.981",
         "0.98",
         "0.98",
         "2776.0"
        ],
        [
         "weighted avg",
         "0.978",
         "0.978",
         "0.978",
         "2776.0"
        ]
       ],
       "shape": {
        "columns": 4,
        "rows": 9
       }
      },
      "text/html": [
       "<div>\n",
       "<style scoped>\n",
       "    .dataframe tbody tr th:only-of-type {\n",
       "        vertical-align: middle;\n",
       "    }\n",
       "\n",
       "    .dataframe tbody tr th {\n",
       "        vertical-align: top;\n",
       "    }\n",
       "\n",
       "    .dataframe thead th {\n",
       "        text-align: right;\n",
       "    }\n",
       "</style>\n",
       "<table border=\"1\" class=\"dataframe\">\n",
       "  <thead>\n",
       "    <tr style=\"text-align: right;\">\n",
       "      <th></th>\n",
       "      <th>precision</th>\n",
       "      <th>recall</th>\n",
       "      <th>f1-score</th>\n",
       "      <th>support</th>\n",
       "    </tr>\n",
       "  </thead>\n",
       "  <tbody>\n",
       "    <tr>\n",
       "      <th>0</th>\n",
       "      <td>0.978</td>\n",
       "      <td>0.988</td>\n",
       "      <td>0.983</td>\n",
       "      <td>408.000</td>\n",
       "    </tr>\n",
       "    <tr>\n",
       "      <th>1</th>\n",
       "      <td>0.979</td>\n",
       "      <td>0.965</td>\n",
       "      <td>0.972</td>\n",
       "      <td>287.000</td>\n",
       "    </tr>\n",
       "    <tr>\n",
       "      <th>2</th>\n",
       "      <td>0.983</td>\n",
       "      <td>0.979</td>\n",
       "      <td>0.981</td>\n",
       "      <td>698.000</td>\n",
       "    </tr>\n",
       "    <tr>\n",
       "      <th>3</th>\n",
       "      <td>1.000</td>\n",
       "      <td>1.000</td>\n",
       "      <td>1.000</td>\n",
       "      <td>140.000</td>\n",
       "    </tr>\n",
       "    <tr>\n",
       "      <th>4</th>\n",
       "      <td>0.970</td>\n",
       "      <td>0.965</td>\n",
       "      <td>0.967</td>\n",
       "      <td>599.000</td>\n",
       "    </tr>\n",
       "    <tr>\n",
       "      <th>5</th>\n",
       "      <td>0.975</td>\n",
       "      <td>0.984</td>\n",
       "      <td>0.980</td>\n",
       "      <td>644.000</td>\n",
       "    </tr>\n",
       "    <tr>\n",
       "      <th>accuracy</th>\n",
       "      <td>0.978</td>\n",
       "      <td>0.978</td>\n",
       "      <td>0.978</td>\n",
       "      <td>0.978</td>\n",
       "    </tr>\n",
       "    <tr>\n",
       "      <th>macro avg</th>\n",
       "      <td>0.981</td>\n",
       "      <td>0.980</td>\n",
       "      <td>0.980</td>\n",
       "      <td>2776.000</td>\n",
       "    </tr>\n",
       "    <tr>\n",
       "      <th>weighted avg</th>\n",
       "      <td>0.978</td>\n",
       "      <td>0.978</td>\n",
       "      <td>0.978</td>\n",
       "      <td>2776.000</td>\n",
       "    </tr>\n",
       "  </tbody>\n",
       "</table>\n",
       "</div>"
      ],
      "text/plain": [
       "              precision  recall  f1-score   support\n",
       "0                 0.978   0.988     0.983   408.000\n",
       "1                 0.979   0.965     0.972   287.000\n",
       "2                 0.983   0.979     0.981   698.000\n",
       "3                 1.000   1.000     1.000   140.000\n",
       "4                 0.970   0.965     0.967   599.000\n",
       "5                 0.975   0.984     0.980   644.000\n",
       "accuracy          0.978   0.978     0.978     0.978\n",
       "macro avg         0.981   0.980     0.980  2776.000\n",
       "weighted avg      0.978   0.978     0.978  2776.000"
      ]
     },
     "metadata": {},
     "output_type": "display_data"
    },
    {
     "name": "stdout",
     "output_type": "stream",
     "text": [
      "Matriz de confusión (TEST):\n"
     ]
    },
    {
     "data": {
      "application/vnd.microsoft.datawrangler.viewer.v0+json": {
       "columns": [
        {
         "name": "index",
         "rawType": "int64",
         "type": "integer"
        },
        {
         "name": "0",
         "rawType": "int64",
         "type": "integer"
        },
        {
         "name": "1",
         "rawType": "int64",
         "type": "integer"
        },
        {
         "name": "2",
         "rawType": "int64",
         "type": "integer"
        },
        {
         "name": "3",
         "rawType": "int64",
         "type": "integer"
        },
        {
         "name": "4",
         "rawType": "int64",
         "type": "integer"
        },
        {
         "name": "5",
         "rawType": "int64",
         "type": "integer"
        }
       ],
       "ref": "9ca080b0-a34f-45f6-a3b6-57e21cf720a3",
       "rows": [
        [
         "0",
         "403",
         "5",
         "0",
         "0",
         "0",
         "0"
        ],
        [
         "1",
         "9",
         "277",
         "0",
         "0",
         "0",
         "1"
        ],
        [
         "2",
         "0",
         "0",
         "683",
         "0",
         "10",
         "5"
        ],
        [
         "3",
         "0",
         "0",
         "0",
         "140",
         "0",
         "0"
        ],
        [
         "4",
         "0",
         "0",
         "11",
         "0",
         "578",
         "10"
        ],
        [
         "5",
         "0",
         "1",
         "1",
         "0",
         "8",
         "634"
        ]
       ],
       "shape": {
        "columns": 6,
        "rows": 6
       }
      },
      "text/html": [
       "<div>\n",
       "<style scoped>\n",
       "    .dataframe tbody tr th:only-of-type {\n",
       "        vertical-align: middle;\n",
       "    }\n",
       "\n",
       "    .dataframe tbody tr th {\n",
       "        vertical-align: top;\n",
       "    }\n",
       "\n",
       "    .dataframe thead th {\n",
       "        text-align: right;\n",
       "    }\n",
       "</style>\n",
       "<table border=\"1\" class=\"dataframe\">\n",
       "  <thead>\n",
       "    <tr style=\"text-align: right;\">\n",
       "      <th></th>\n",
       "      <th>0</th>\n",
       "      <th>1</th>\n",
       "      <th>2</th>\n",
       "      <th>3</th>\n",
       "      <th>4</th>\n",
       "      <th>5</th>\n",
       "    </tr>\n",
       "  </thead>\n",
       "  <tbody>\n",
       "    <tr>\n",
       "      <th>0</th>\n",
       "      <td>403</td>\n",
       "      <td>5</td>\n",
       "      <td>0</td>\n",
       "      <td>0</td>\n",
       "      <td>0</td>\n",
       "      <td>0</td>\n",
       "    </tr>\n",
       "    <tr>\n",
       "      <th>1</th>\n",
       "      <td>9</td>\n",
       "      <td>277</td>\n",
       "      <td>0</td>\n",
       "      <td>0</td>\n",
       "      <td>0</td>\n",
       "      <td>1</td>\n",
       "    </tr>\n",
       "    <tr>\n",
       "      <th>2</th>\n",
       "      <td>0</td>\n",
       "      <td>0</td>\n",
       "      <td>683</td>\n",
       "      <td>0</td>\n",
       "      <td>10</td>\n",
       "      <td>5</td>\n",
       "    </tr>\n",
       "    <tr>\n",
       "      <th>3</th>\n",
       "      <td>0</td>\n",
       "      <td>0</td>\n",
       "      <td>0</td>\n",
       "      <td>140</td>\n",
       "      <td>0</td>\n",
       "      <td>0</td>\n",
       "    </tr>\n",
       "    <tr>\n",
       "      <th>4</th>\n",
       "      <td>0</td>\n",
       "      <td>0</td>\n",
       "      <td>11</td>\n",
       "      <td>0</td>\n",
       "      <td>578</td>\n",
       "      <td>10</td>\n",
       "    </tr>\n",
       "    <tr>\n",
       "      <th>5</th>\n",
       "      <td>0</td>\n",
       "      <td>1</td>\n",
       "      <td>1</td>\n",
       "      <td>0</td>\n",
       "      <td>8</td>\n",
       "      <td>634</td>\n",
       "    </tr>\n",
       "  </tbody>\n",
       "</table>\n",
       "</div>"
      ],
      "text/plain": [
       "     0    1    2    3    4    5\n",
       "0  403    5    0    0    0    0\n",
       "1    9  277    0    0    0    1\n",
       "2    0    0  683    0   10    5\n",
       "3    0    0    0  140    0    0\n",
       "4    0    0   11    0  578   10\n",
       "5    0    1    1    0    8  634"
      ]
     },
     "metadata": {},
     "output_type": "display_data"
    },
    {
     "name": "stdout",
     "output_type": "stream",
     "text": [
      "Matriz de confusión (OOF-CV):\n"
     ]
    },
    {
     "data": {
      "application/vnd.microsoft.datawrangler.viewer.v0+json": {
       "columns": [
        {
         "name": "index",
         "rawType": "int64",
         "type": "integer"
        },
        {
         "name": "0",
         "rawType": "int64",
         "type": "integer"
        },
        {
         "name": "1",
         "rawType": "int64",
         "type": "integer"
        },
        {
         "name": "2",
         "rawType": "int64",
         "type": "integer"
        },
        {
         "name": "3",
         "rawType": "int64",
         "type": "integer"
        },
        {
         "name": "4",
         "rawType": "int64",
         "type": "integer"
        },
        {
         "name": "5",
         "rawType": "int64",
         "type": "integer"
        }
       ],
       "ref": "b30a2c38-18ec-418f-a46b-cf51e7cac25b",
       "rows": [
        [
         "0",
         "1390",
         "11",
         "0",
         "0",
         "1",
         "1"
        ],
        [
         "1",
         "19",
         "914",
         "0",
         "0",
         "0",
         "3"
        ],
        [
         "2",
         "0",
         "0",
         "2182",
         "0",
         "52",
         "18"
        ],
        [
         "3",
         "0",
         "0",
         "0",
         "469",
         "0",
         "0"
        ],
        [
         "4",
         "0",
         "0",
         "20",
         "0",
         "2004",
         "35"
        ],
        [
         "5",
         "0",
         "5",
         "7",
         "0",
         "28",
         "2093"
        ]
       ],
       "shape": {
        "columns": 6,
        "rows": 6
       }
      },
      "text/html": [
       "<div>\n",
       "<style scoped>\n",
       "    .dataframe tbody tr th:only-of-type {\n",
       "        vertical-align: middle;\n",
       "    }\n",
       "\n",
       "    .dataframe tbody tr th {\n",
       "        vertical-align: top;\n",
       "    }\n",
       "\n",
       "    .dataframe thead th {\n",
       "        text-align: right;\n",
       "    }\n",
       "</style>\n",
       "<table border=\"1\" class=\"dataframe\">\n",
       "  <thead>\n",
       "    <tr style=\"text-align: right;\">\n",
       "      <th></th>\n",
       "      <th>0</th>\n",
       "      <th>1</th>\n",
       "      <th>2</th>\n",
       "      <th>3</th>\n",
       "      <th>4</th>\n",
       "      <th>5</th>\n",
       "    </tr>\n",
       "  </thead>\n",
       "  <tbody>\n",
       "    <tr>\n",
       "      <th>0</th>\n",
       "      <td>1390</td>\n",
       "      <td>11</td>\n",
       "      <td>0</td>\n",
       "      <td>0</td>\n",
       "      <td>1</td>\n",
       "      <td>1</td>\n",
       "    </tr>\n",
       "    <tr>\n",
       "      <th>1</th>\n",
       "      <td>19</td>\n",
       "      <td>914</td>\n",
       "      <td>0</td>\n",
       "      <td>0</td>\n",
       "      <td>0</td>\n",
       "      <td>3</td>\n",
       "    </tr>\n",
       "    <tr>\n",
       "      <th>2</th>\n",
       "      <td>0</td>\n",
       "      <td>0</td>\n",
       "      <td>2182</td>\n",
       "      <td>0</td>\n",
       "      <td>52</td>\n",
       "      <td>18</td>\n",
       "    </tr>\n",
       "    <tr>\n",
       "      <th>3</th>\n",
       "      <td>0</td>\n",
       "      <td>0</td>\n",
       "      <td>0</td>\n",
       "      <td>469</td>\n",
       "      <td>0</td>\n",
       "      <td>0</td>\n",
       "    </tr>\n",
       "    <tr>\n",
       "      <th>4</th>\n",
       "      <td>0</td>\n",
       "      <td>0</td>\n",
       "      <td>20</td>\n",
       "      <td>0</td>\n",
       "      <td>2004</td>\n",
       "      <td>35</td>\n",
       "    </tr>\n",
       "    <tr>\n",
       "      <th>5</th>\n",
       "      <td>0</td>\n",
       "      <td>5</td>\n",
       "      <td>7</td>\n",
       "      <td>0</td>\n",
       "      <td>28</td>\n",
       "      <td>2093</td>\n",
       "    </tr>\n",
       "  </tbody>\n",
       "</table>\n",
       "</div>"
      ],
      "text/plain": [
       "      0    1     2    3     4     5\n",
       "0  1390   11     0    0     1     1\n",
       "1    19  914     0    0     0     3\n",
       "2     0    0  2182    0    52    18\n",
       "3     0    0     0  469     0     0\n",
       "4     0    0    20    0  2004    35\n",
       "5     0    5     7    0    28  2093"
      ]
     },
     "metadata": {},
     "output_type": "display_data"
    },
    {
     "name": "stdout",
     "output_type": "stream",
     "text": [
      "\n",
      "=== GradientBoosting ===\n",
      "Mejores params CV: {'model__learning_rate': 0.1, 'model__max_depth': 2, 'model__n_estimators': 400}\n",
      "Tiempo entrenamiento: 103.265s | Tiempo OOF-predict: 19.826s\n",
      "[TEST]   ACC=0.971  F1=0.973\n",
      "[OOF-CV] ACC=0.971  F1=0.973\n",
      "Reporte de clasificación (TEST):\n"
     ]
    },
    {
     "data": {
      "application/vnd.microsoft.datawrangler.viewer.v0+json": {
       "columns": [
        {
         "name": "index",
         "rawType": "object",
         "type": "string"
        },
        {
         "name": "precision",
         "rawType": "float64",
         "type": "float"
        },
        {
         "name": "recall",
         "rawType": "float64",
         "type": "float"
        },
        {
         "name": "f1-score",
         "rawType": "float64",
         "type": "float"
        },
        {
         "name": "support",
         "rawType": "float64",
         "type": "float"
        }
       ],
       "ref": "2af861fc-e6b2-4d90-afa7-cbcb1e905cf9",
       "rows": [
        [
         "0",
         "0.968",
         "0.978",
         "0.973",
         "408.0"
        ],
        [
         "1",
         "0.961",
         "0.944",
         "0.953",
         "287.0"
        ],
        [
         "2",
         "0.97",
         "0.974",
         "0.972",
         "698.0"
        ],
        [
         "3",
         "1.0",
         "1.0",
         "1.0",
         "140.0"
        ],
        [
         "4",
         "0.971",
         "0.958",
         "0.965",
         "599.0"
        ],
        [
         "5",
         "0.972",
         "0.981",
         "0.977",
         "644.0"
        ],
        [
         "accuracy",
         "0.971",
         "0.971",
         "0.971",
         "0.971"
        ],
        [
         "macro avg",
         "0.974",
         "0.973",
         "0.973",
         "2776.0"
        ],
        [
         "weighted avg",
         "0.971",
         "0.971",
         "0.971",
         "2776.0"
        ]
       ],
       "shape": {
        "columns": 4,
        "rows": 9
       }
      },
      "text/html": [
       "<div>\n",
       "<style scoped>\n",
       "    .dataframe tbody tr th:only-of-type {\n",
       "        vertical-align: middle;\n",
       "    }\n",
       "\n",
       "    .dataframe tbody tr th {\n",
       "        vertical-align: top;\n",
       "    }\n",
       "\n",
       "    .dataframe thead th {\n",
       "        text-align: right;\n",
       "    }\n",
       "</style>\n",
       "<table border=\"1\" class=\"dataframe\">\n",
       "  <thead>\n",
       "    <tr style=\"text-align: right;\">\n",
       "      <th></th>\n",
       "      <th>precision</th>\n",
       "      <th>recall</th>\n",
       "      <th>f1-score</th>\n",
       "      <th>support</th>\n",
       "    </tr>\n",
       "  </thead>\n",
       "  <tbody>\n",
       "    <tr>\n",
       "      <th>0</th>\n",
       "      <td>0.968</td>\n",
       "      <td>0.978</td>\n",
       "      <td>0.973</td>\n",
       "      <td>408.000</td>\n",
       "    </tr>\n",
       "    <tr>\n",
       "      <th>1</th>\n",
       "      <td>0.961</td>\n",
       "      <td>0.944</td>\n",
       "      <td>0.953</td>\n",
       "      <td>287.000</td>\n",
       "    </tr>\n",
       "    <tr>\n",
       "      <th>2</th>\n",
       "      <td>0.970</td>\n",
       "      <td>0.974</td>\n",
       "      <td>0.972</td>\n",
       "      <td>698.000</td>\n",
       "    </tr>\n",
       "    <tr>\n",
       "      <th>3</th>\n",
       "      <td>1.000</td>\n",
       "      <td>1.000</td>\n",
       "      <td>1.000</td>\n",
       "      <td>140.000</td>\n",
       "    </tr>\n",
       "    <tr>\n",
       "      <th>4</th>\n",
       "      <td>0.971</td>\n",
       "      <td>0.958</td>\n",
       "      <td>0.965</td>\n",
       "      <td>599.000</td>\n",
       "    </tr>\n",
       "    <tr>\n",
       "      <th>5</th>\n",
       "      <td>0.972</td>\n",
       "      <td>0.981</td>\n",
       "      <td>0.977</td>\n",
       "      <td>644.000</td>\n",
       "    </tr>\n",
       "    <tr>\n",
       "      <th>accuracy</th>\n",
       "      <td>0.971</td>\n",
       "      <td>0.971</td>\n",
       "      <td>0.971</td>\n",
       "      <td>0.971</td>\n",
       "    </tr>\n",
       "    <tr>\n",
       "      <th>macro avg</th>\n",
       "      <td>0.974</td>\n",
       "      <td>0.973</td>\n",
       "      <td>0.973</td>\n",
       "      <td>2776.000</td>\n",
       "    </tr>\n",
       "    <tr>\n",
       "      <th>weighted avg</th>\n",
       "      <td>0.971</td>\n",
       "      <td>0.971</td>\n",
       "      <td>0.971</td>\n",
       "      <td>2776.000</td>\n",
       "    </tr>\n",
       "  </tbody>\n",
       "</table>\n",
       "</div>"
      ],
      "text/plain": [
       "              precision  recall  f1-score   support\n",
       "0                 0.968   0.978     0.973   408.000\n",
       "1                 0.961   0.944     0.953   287.000\n",
       "2                 0.970   0.974     0.972   698.000\n",
       "3                 1.000   1.000     1.000   140.000\n",
       "4                 0.971   0.958     0.965   599.000\n",
       "5                 0.972   0.981     0.977   644.000\n",
       "accuracy          0.971   0.971     0.971     0.971\n",
       "macro avg         0.974   0.973     0.973  2776.000\n",
       "weighted avg      0.971   0.971     0.971  2776.000"
      ]
     },
     "metadata": {},
     "output_type": "display_data"
    },
    {
     "name": "stdout",
     "output_type": "stream",
     "text": [
      "Matriz de confusión (TEST):\n"
     ]
    },
    {
     "data": {
      "application/vnd.microsoft.datawrangler.viewer.v0+json": {
       "columns": [
        {
         "name": "index",
         "rawType": "int64",
         "type": "integer"
        },
        {
         "name": "0",
         "rawType": "int64",
         "type": "integer"
        },
        {
         "name": "1",
         "rawType": "int64",
         "type": "integer"
        },
        {
         "name": "2",
         "rawType": "int64",
         "type": "integer"
        },
        {
         "name": "3",
         "rawType": "int64",
         "type": "integer"
        },
        {
         "name": "4",
         "rawType": "int64",
         "type": "integer"
        },
        {
         "name": "5",
         "rawType": "int64",
         "type": "integer"
        }
       ],
       "ref": "b0e2a911-0fda-4edf-b78d-7b09445ea218",
       "rows": [
        [
         "0",
         "399",
         "9",
         "0",
         "0",
         "0",
         "0"
        ],
        [
         "1",
         "13",
         "271",
         "0",
         "0",
         "0",
         "3"
        ],
        [
         "2",
         "0",
         "0",
         "680",
         "0",
         "11",
         "7"
        ],
        [
         "3",
         "0",
         "0",
         "0",
         "140",
         "0",
         "0"
        ],
        [
         "4",
         "0",
         "0",
         "17",
         "0",
         "574",
         "8"
        ],
        [
         "5",
         "0",
         "2",
         "4",
         "0",
         "6",
         "632"
        ]
       ],
       "shape": {
        "columns": 6,
        "rows": 6
       }
      },
      "text/html": [
       "<div>\n",
       "<style scoped>\n",
       "    .dataframe tbody tr th:only-of-type {\n",
       "        vertical-align: middle;\n",
       "    }\n",
       "\n",
       "    .dataframe tbody tr th {\n",
       "        vertical-align: top;\n",
       "    }\n",
       "\n",
       "    .dataframe thead th {\n",
       "        text-align: right;\n",
       "    }\n",
       "</style>\n",
       "<table border=\"1\" class=\"dataframe\">\n",
       "  <thead>\n",
       "    <tr style=\"text-align: right;\">\n",
       "      <th></th>\n",
       "      <th>0</th>\n",
       "      <th>1</th>\n",
       "      <th>2</th>\n",
       "      <th>3</th>\n",
       "      <th>4</th>\n",
       "      <th>5</th>\n",
       "    </tr>\n",
       "  </thead>\n",
       "  <tbody>\n",
       "    <tr>\n",
       "      <th>0</th>\n",
       "      <td>399</td>\n",
       "      <td>9</td>\n",
       "      <td>0</td>\n",
       "      <td>0</td>\n",
       "      <td>0</td>\n",
       "      <td>0</td>\n",
       "    </tr>\n",
       "    <tr>\n",
       "      <th>1</th>\n",
       "      <td>13</td>\n",
       "      <td>271</td>\n",
       "      <td>0</td>\n",
       "      <td>0</td>\n",
       "      <td>0</td>\n",
       "      <td>3</td>\n",
       "    </tr>\n",
       "    <tr>\n",
       "      <th>2</th>\n",
       "      <td>0</td>\n",
       "      <td>0</td>\n",
       "      <td>680</td>\n",
       "      <td>0</td>\n",
       "      <td>11</td>\n",
       "      <td>7</td>\n",
       "    </tr>\n",
       "    <tr>\n",
       "      <th>3</th>\n",
       "      <td>0</td>\n",
       "      <td>0</td>\n",
       "      <td>0</td>\n",
       "      <td>140</td>\n",
       "      <td>0</td>\n",
       "      <td>0</td>\n",
       "    </tr>\n",
       "    <tr>\n",
       "      <th>4</th>\n",
       "      <td>0</td>\n",
       "      <td>0</td>\n",
       "      <td>17</td>\n",
       "      <td>0</td>\n",
       "      <td>574</td>\n",
       "      <td>8</td>\n",
       "    </tr>\n",
       "    <tr>\n",
       "      <th>5</th>\n",
       "      <td>0</td>\n",
       "      <td>2</td>\n",
       "      <td>4</td>\n",
       "      <td>0</td>\n",
       "      <td>6</td>\n",
       "      <td>632</td>\n",
       "    </tr>\n",
       "  </tbody>\n",
       "</table>\n",
       "</div>"
      ],
      "text/plain": [
       "     0    1    2    3    4    5\n",
       "0  399    9    0    0    0    0\n",
       "1   13  271    0    0    0    3\n",
       "2    0    0  680    0   11    7\n",
       "3    0    0    0  140    0    0\n",
       "4    0    0   17    0  574    8\n",
       "5    0    2    4    0    6  632"
      ]
     },
     "metadata": {},
     "output_type": "display_data"
    },
    {
     "name": "stdout",
     "output_type": "stream",
     "text": [
      "Matriz de confusión (OOF-CV):\n"
     ]
    },
    {
     "data": {
      "application/vnd.microsoft.datawrangler.viewer.v0+json": {
       "columns": [
        {
         "name": "index",
         "rawType": "int64",
         "type": "integer"
        },
        {
         "name": "0",
         "rawType": "int64",
         "type": "integer"
        },
        {
         "name": "1",
         "rawType": "int64",
         "type": "integer"
        },
        {
         "name": "2",
         "rawType": "int64",
         "type": "integer"
        },
        {
         "name": "3",
         "rawType": "int64",
         "type": "integer"
        },
        {
         "name": "4",
         "rawType": "int64",
         "type": "integer"
        },
        {
         "name": "5",
         "rawType": "int64",
         "type": "integer"
        }
       ],
       "ref": "f39ab55d-0d2e-416e-a9ef-7909ad640695",
       "rows": [
        [
         "0",
         "1364",
         "37",
         "0",
         "0",
         "1",
         "1"
        ],
        [
         "1",
         "35",
         "896",
         "1",
         "0",
         "0",
         "4"
        ],
        [
         "2",
         "0",
         "0",
         "2186",
         "0",
         "51",
         "15"
        ],
        [
         "3",
         "0",
         "0",
         "0",
         "468",
         "1",
         "0"
        ],
        [
         "4",
         "0",
         "0",
         "35",
         "0",
         "1989",
         "35"
        ],
        [
         "5",
         "1",
         "9",
         "12",
         "0",
         "29",
         "2082"
        ]
       ],
       "shape": {
        "columns": 6,
        "rows": 6
       }
      },
      "text/html": [
       "<div>\n",
       "<style scoped>\n",
       "    .dataframe tbody tr th:only-of-type {\n",
       "        vertical-align: middle;\n",
       "    }\n",
       "\n",
       "    .dataframe tbody tr th {\n",
       "        vertical-align: top;\n",
       "    }\n",
       "\n",
       "    .dataframe thead th {\n",
       "        text-align: right;\n",
       "    }\n",
       "</style>\n",
       "<table border=\"1\" class=\"dataframe\">\n",
       "  <thead>\n",
       "    <tr style=\"text-align: right;\">\n",
       "      <th></th>\n",
       "      <th>0</th>\n",
       "      <th>1</th>\n",
       "      <th>2</th>\n",
       "      <th>3</th>\n",
       "      <th>4</th>\n",
       "      <th>5</th>\n",
       "    </tr>\n",
       "  </thead>\n",
       "  <tbody>\n",
       "    <tr>\n",
       "      <th>0</th>\n",
       "      <td>1364</td>\n",
       "      <td>37</td>\n",
       "      <td>0</td>\n",
       "      <td>0</td>\n",
       "      <td>1</td>\n",
       "      <td>1</td>\n",
       "    </tr>\n",
       "    <tr>\n",
       "      <th>1</th>\n",
       "      <td>35</td>\n",
       "      <td>896</td>\n",
       "      <td>1</td>\n",
       "      <td>0</td>\n",
       "      <td>0</td>\n",
       "      <td>4</td>\n",
       "    </tr>\n",
       "    <tr>\n",
       "      <th>2</th>\n",
       "      <td>0</td>\n",
       "      <td>0</td>\n",
       "      <td>2186</td>\n",
       "      <td>0</td>\n",
       "      <td>51</td>\n",
       "      <td>15</td>\n",
       "    </tr>\n",
       "    <tr>\n",
       "      <th>3</th>\n",
       "      <td>0</td>\n",
       "      <td>0</td>\n",
       "      <td>0</td>\n",
       "      <td>468</td>\n",
       "      <td>1</td>\n",
       "      <td>0</td>\n",
       "    </tr>\n",
       "    <tr>\n",
       "      <th>4</th>\n",
       "      <td>0</td>\n",
       "      <td>0</td>\n",
       "      <td>35</td>\n",
       "      <td>0</td>\n",
       "      <td>1989</td>\n",
       "      <td>35</td>\n",
       "    </tr>\n",
       "    <tr>\n",
       "      <th>5</th>\n",
       "      <td>1</td>\n",
       "      <td>9</td>\n",
       "      <td>12</td>\n",
       "      <td>0</td>\n",
       "      <td>29</td>\n",
       "      <td>2082</td>\n",
       "    </tr>\n",
       "  </tbody>\n",
       "</table>\n",
       "</div>"
      ],
      "text/plain": [
       "      0    1     2    3     4     5\n",
       "0  1364   37     0    0     1     1\n",
       "1    35  896     1    0     0     4\n",
       "2     0    0  2186    0    51    15\n",
       "3     0    0     0  468     1     0\n",
       "4     0    0    35    0  1989    35\n",
       "5     1    9    12    0    29  2082"
      ]
     },
     "metadata": {},
     "output_type": "display_data"
    },
    {
     "name": "stdout",
     "output_type": "stream",
     "text": [
      "\n",
      "=== SVC ===\n",
      "Mejores params CV: {'model__C': 2, 'model__gamma': 'scale', 'model__kernel': 'rbf'}\n",
      "Tiempo entrenamiento: 3.827s | Tiempo OOF-predict: 1.066s\n",
      "[TEST]   ACC=0.943  F1=0.940\n",
      "[OOF-CV] ACC=0.943  F1=0.942\n",
      "Reporte de clasificación (TEST):\n"
     ]
    },
    {
     "data": {
      "application/vnd.microsoft.datawrangler.viewer.v0+json": {
       "columns": [
        {
         "name": "index",
         "rawType": "object",
         "type": "string"
        },
        {
         "name": "precision",
         "rawType": "float64",
         "type": "float"
        },
        {
         "name": "recall",
         "rawType": "float64",
         "type": "float"
        },
        {
         "name": "f1-score",
         "rawType": "float64",
         "type": "float"
        },
        {
         "name": "support",
         "rawType": "float64",
         "type": "float"
        }
       ],
       "ref": "ee213260-7f2c-4b70-9d58-93ce1963e1cc",
       "rows": [
        [
         "0",
         "0.927",
         "0.873",
         "0.899",
         "408.0"
        ],
        [
         "1",
         "0.816",
         "0.909",
         "0.86",
         "287.0"
        ],
        [
         "2",
         "0.978",
         "0.97",
         "0.974",
         "698.0"
        ],
        [
         "3",
         "1.0",
         "1.0",
         "1.0",
         "140.0"
        ],
        [
         "4",
         "0.948",
         "0.94",
         "0.944",
         "599.0"
        ],
        [
         "5",
         "0.96",
         "0.963",
         "0.961",
         "644.0"
        ],
        [
         "accuracy",
         "0.943",
         "0.943",
         "0.943",
         "0.943"
        ],
        [
         "macro avg",
         "0.938",
         "0.942",
         "0.94",
         "2776.0"
        ],
        [
         "weighted avg",
         "0.944",
         "0.943",
         "0.943",
         "2776.0"
        ]
       ],
       "shape": {
        "columns": 4,
        "rows": 9
       }
      },
      "text/html": [
       "<div>\n",
       "<style scoped>\n",
       "    .dataframe tbody tr th:only-of-type {\n",
       "        vertical-align: middle;\n",
       "    }\n",
       "\n",
       "    .dataframe tbody tr th {\n",
       "        vertical-align: top;\n",
       "    }\n",
       "\n",
       "    .dataframe thead th {\n",
       "        text-align: right;\n",
       "    }\n",
       "</style>\n",
       "<table border=\"1\" class=\"dataframe\">\n",
       "  <thead>\n",
       "    <tr style=\"text-align: right;\">\n",
       "      <th></th>\n",
       "      <th>precision</th>\n",
       "      <th>recall</th>\n",
       "      <th>f1-score</th>\n",
       "      <th>support</th>\n",
       "    </tr>\n",
       "  </thead>\n",
       "  <tbody>\n",
       "    <tr>\n",
       "      <th>0</th>\n",
       "      <td>0.927</td>\n",
       "      <td>0.873</td>\n",
       "      <td>0.899</td>\n",
       "      <td>408.000</td>\n",
       "    </tr>\n",
       "    <tr>\n",
       "      <th>1</th>\n",
       "      <td>0.816</td>\n",
       "      <td>0.909</td>\n",
       "      <td>0.860</td>\n",
       "      <td>287.000</td>\n",
       "    </tr>\n",
       "    <tr>\n",
       "      <th>2</th>\n",
       "      <td>0.978</td>\n",
       "      <td>0.970</td>\n",
       "      <td>0.974</td>\n",
       "      <td>698.000</td>\n",
       "    </tr>\n",
       "    <tr>\n",
       "      <th>3</th>\n",
       "      <td>1.000</td>\n",
       "      <td>1.000</td>\n",
       "      <td>1.000</td>\n",
       "      <td>140.000</td>\n",
       "    </tr>\n",
       "    <tr>\n",
       "      <th>4</th>\n",
       "      <td>0.948</td>\n",
       "      <td>0.940</td>\n",
       "      <td>0.944</td>\n",
       "      <td>599.000</td>\n",
       "    </tr>\n",
       "    <tr>\n",
       "      <th>5</th>\n",
       "      <td>0.960</td>\n",
       "      <td>0.963</td>\n",
       "      <td>0.961</td>\n",
       "      <td>644.000</td>\n",
       "    </tr>\n",
       "    <tr>\n",
       "      <th>accuracy</th>\n",
       "      <td>0.943</td>\n",
       "      <td>0.943</td>\n",
       "      <td>0.943</td>\n",
       "      <td>0.943</td>\n",
       "    </tr>\n",
       "    <tr>\n",
       "      <th>macro avg</th>\n",
       "      <td>0.938</td>\n",
       "      <td>0.942</td>\n",
       "      <td>0.940</td>\n",
       "      <td>2776.000</td>\n",
       "    </tr>\n",
       "    <tr>\n",
       "      <th>weighted avg</th>\n",
       "      <td>0.944</td>\n",
       "      <td>0.943</td>\n",
       "      <td>0.943</td>\n",
       "      <td>2776.000</td>\n",
       "    </tr>\n",
       "  </tbody>\n",
       "</table>\n",
       "</div>"
      ],
      "text/plain": [
       "              precision  recall  f1-score   support\n",
       "0                 0.927   0.873     0.899   408.000\n",
       "1                 0.816   0.909     0.860   287.000\n",
       "2                 0.978   0.970     0.974   698.000\n",
       "3                 1.000   1.000     1.000   140.000\n",
       "4                 0.948   0.940     0.944   599.000\n",
       "5                 0.960   0.963     0.961   644.000\n",
       "accuracy          0.943   0.943     0.943     0.943\n",
       "macro avg         0.938   0.942     0.940  2776.000\n",
       "weighted avg      0.944   0.943     0.943  2776.000"
      ]
     },
     "metadata": {},
     "output_type": "display_data"
    },
    {
     "name": "stdout",
     "output_type": "stream",
     "text": [
      "Matriz de confusión (TEST):\n"
     ]
    },
    {
     "data": {
      "application/vnd.microsoft.datawrangler.viewer.v0+json": {
       "columns": [
        {
         "name": "index",
         "rawType": "int64",
         "type": "integer"
        },
        {
         "name": "0",
         "rawType": "int64",
         "type": "integer"
        },
        {
         "name": "1",
         "rawType": "int64",
         "type": "integer"
        },
        {
         "name": "2",
         "rawType": "int64",
         "type": "integer"
        },
        {
         "name": "3",
         "rawType": "int64",
         "type": "integer"
        },
        {
         "name": "4",
         "rawType": "int64",
         "type": "integer"
        },
        {
         "name": "5",
         "rawType": "int64",
         "type": "integer"
        }
       ],
       "ref": "9e2b7f0c-7667-4599-b94a-b5a5714b025a",
       "rows": [
        [
         "0",
         "356",
         "52",
         "0",
         "0",
         "0",
         "0"
        ],
        [
         "1",
         "26",
         "261",
         "0",
         "0",
         "0",
         "0"
        ],
        [
         "2",
         "0",
         "0",
         "677",
         "0",
         "18",
         "3"
        ],
        [
         "3",
         "0",
         "0",
         "0",
         "140",
         "0",
         "0"
        ],
        [
         "4",
         "0",
         "0",
         "13",
         "0",
         "563",
         "23"
        ],
        [
         "5",
         "2",
         "7",
         "2",
         "0",
         "13",
         "620"
        ]
       ],
       "shape": {
        "columns": 6,
        "rows": 6
       }
      },
      "text/html": [
       "<div>\n",
       "<style scoped>\n",
       "    .dataframe tbody tr th:only-of-type {\n",
       "        vertical-align: middle;\n",
       "    }\n",
       "\n",
       "    .dataframe tbody tr th {\n",
       "        vertical-align: top;\n",
       "    }\n",
       "\n",
       "    .dataframe thead th {\n",
       "        text-align: right;\n",
       "    }\n",
       "</style>\n",
       "<table border=\"1\" class=\"dataframe\">\n",
       "  <thead>\n",
       "    <tr style=\"text-align: right;\">\n",
       "      <th></th>\n",
       "      <th>0</th>\n",
       "      <th>1</th>\n",
       "      <th>2</th>\n",
       "      <th>3</th>\n",
       "      <th>4</th>\n",
       "      <th>5</th>\n",
       "    </tr>\n",
       "  </thead>\n",
       "  <tbody>\n",
       "    <tr>\n",
       "      <th>0</th>\n",
       "      <td>356</td>\n",
       "      <td>52</td>\n",
       "      <td>0</td>\n",
       "      <td>0</td>\n",
       "      <td>0</td>\n",
       "      <td>0</td>\n",
       "    </tr>\n",
       "    <tr>\n",
       "      <th>1</th>\n",
       "      <td>26</td>\n",
       "      <td>261</td>\n",
       "      <td>0</td>\n",
       "      <td>0</td>\n",
       "      <td>0</td>\n",
       "      <td>0</td>\n",
       "    </tr>\n",
       "    <tr>\n",
       "      <th>2</th>\n",
       "      <td>0</td>\n",
       "      <td>0</td>\n",
       "      <td>677</td>\n",
       "      <td>0</td>\n",
       "      <td>18</td>\n",
       "      <td>3</td>\n",
       "    </tr>\n",
       "    <tr>\n",
       "      <th>3</th>\n",
       "      <td>0</td>\n",
       "      <td>0</td>\n",
       "      <td>0</td>\n",
       "      <td>140</td>\n",
       "      <td>0</td>\n",
       "      <td>0</td>\n",
       "    </tr>\n",
       "    <tr>\n",
       "      <th>4</th>\n",
       "      <td>0</td>\n",
       "      <td>0</td>\n",
       "      <td>13</td>\n",
       "      <td>0</td>\n",
       "      <td>563</td>\n",
       "      <td>23</td>\n",
       "    </tr>\n",
       "    <tr>\n",
       "      <th>5</th>\n",
       "      <td>2</td>\n",
       "      <td>7</td>\n",
       "      <td>2</td>\n",
       "      <td>0</td>\n",
       "      <td>13</td>\n",
       "      <td>620</td>\n",
       "    </tr>\n",
       "  </tbody>\n",
       "</table>\n",
       "</div>"
      ],
      "text/plain": [
       "     0    1    2    3    4    5\n",
       "0  356   52    0    0    0    0\n",
       "1   26  261    0    0    0    0\n",
       "2    0    0  677    0   18    3\n",
       "3    0    0    0  140    0    0\n",
       "4    0    0   13    0  563   23\n",
       "5    2    7    2    0   13  620"
      ]
     },
     "metadata": {},
     "output_type": "display_data"
    },
    {
     "name": "stdout",
     "output_type": "stream",
     "text": [
      "Matriz de confusión (OOF-CV):\n"
     ]
    },
    {
     "data": {
      "application/vnd.microsoft.datawrangler.viewer.v0+json": {
       "columns": [
        {
         "name": "index",
         "rawType": "int64",
         "type": "integer"
        },
        {
         "name": "0",
         "rawType": "int64",
         "type": "integer"
        },
        {
         "name": "1",
         "rawType": "int64",
         "type": "integer"
        },
        {
         "name": "2",
         "rawType": "int64",
         "type": "integer"
        },
        {
         "name": "3",
         "rawType": "int64",
         "type": "integer"
        },
        {
         "name": "4",
         "rawType": "int64",
         "type": "integer"
        },
        {
         "name": "5",
         "rawType": "int64",
         "type": "integer"
        }
       ],
       "ref": "317055d4-f02c-4f5e-9866-c64238d2dd9b",
       "rows": [
        [
         "0",
         "1243",
         "159",
         "0",
         "0",
         "0",
         "1"
        ],
        [
         "1",
         "79",
         "855",
         "0",
         "0",
         "0",
         "2"
        ],
        [
         "2",
         "0",
         "0",
         "2168",
         "0",
         "71",
         "13"
        ],
        [
         "3",
         "0",
         "0",
         "0",
         "469",
         "0",
         "0"
        ],
        [
         "4",
         "0",
         "0",
         "29",
         "0",
         "1944",
         "86"
        ],
        [
         "5",
         "9",
         "22",
         "10",
         "0",
         "44",
         "2048"
        ]
       ],
       "shape": {
        "columns": 6,
        "rows": 6
       }
      },
      "text/html": [
       "<div>\n",
       "<style scoped>\n",
       "    .dataframe tbody tr th:only-of-type {\n",
       "        vertical-align: middle;\n",
       "    }\n",
       "\n",
       "    .dataframe tbody tr th {\n",
       "        vertical-align: top;\n",
       "    }\n",
       "\n",
       "    .dataframe thead th {\n",
       "        text-align: right;\n",
       "    }\n",
       "</style>\n",
       "<table border=\"1\" class=\"dataframe\">\n",
       "  <thead>\n",
       "    <tr style=\"text-align: right;\">\n",
       "      <th></th>\n",
       "      <th>0</th>\n",
       "      <th>1</th>\n",
       "      <th>2</th>\n",
       "      <th>3</th>\n",
       "      <th>4</th>\n",
       "      <th>5</th>\n",
       "    </tr>\n",
       "  </thead>\n",
       "  <tbody>\n",
       "    <tr>\n",
       "      <th>0</th>\n",
       "      <td>1243</td>\n",
       "      <td>159</td>\n",
       "      <td>0</td>\n",
       "      <td>0</td>\n",
       "      <td>0</td>\n",
       "      <td>1</td>\n",
       "    </tr>\n",
       "    <tr>\n",
       "      <th>1</th>\n",
       "      <td>79</td>\n",
       "      <td>855</td>\n",
       "      <td>0</td>\n",
       "      <td>0</td>\n",
       "      <td>0</td>\n",
       "      <td>2</td>\n",
       "    </tr>\n",
       "    <tr>\n",
       "      <th>2</th>\n",
       "      <td>0</td>\n",
       "      <td>0</td>\n",
       "      <td>2168</td>\n",
       "      <td>0</td>\n",
       "      <td>71</td>\n",
       "      <td>13</td>\n",
       "    </tr>\n",
       "    <tr>\n",
       "      <th>3</th>\n",
       "      <td>0</td>\n",
       "      <td>0</td>\n",
       "      <td>0</td>\n",
       "      <td>469</td>\n",
       "      <td>0</td>\n",
       "      <td>0</td>\n",
       "    </tr>\n",
       "    <tr>\n",
       "      <th>4</th>\n",
       "      <td>0</td>\n",
       "      <td>0</td>\n",
       "      <td>29</td>\n",
       "      <td>0</td>\n",
       "      <td>1944</td>\n",
       "      <td>86</td>\n",
       "    </tr>\n",
       "    <tr>\n",
       "      <th>5</th>\n",
       "      <td>9</td>\n",
       "      <td>22</td>\n",
       "      <td>10</td>\n",
       "      <td>0</td>\n",
       "      <td>44</td>\n",
       "      <td>2048</td>\n",
       "    </tr>\n",
       "  </tbody>\n",
       "</table>\n",
       "</div>"
      ],
      "text/plain": [
       "      0    1     2    3     4     5\n",
       "0  1243  159     0    0     0     1\n",
       "1    79  855     0    0     0     2\n",
       "2     0    0  2168    0    71    13\n",
       "3     0    0     0  469     0     0\n",
       "4     0    0    29    0  1944    86\n",
       "5     9   22    10    0    44  2048"
      ]
     },
     "metadata": {},
     "output_type": "display_data"
    },
    {
     "name": "stdout",
     "output_type": "stream",
     "text": [
      "\n",
      "=== MLP ===\n",
      "Mejores params CV: {'model__activation': 'tanh', 'model__alpha': 0.01, 'model__hidden_layer_sizes': (128, 64, 32), 'model__solver': 'adam'}\n",
      "Tiempo entrenamiento: 15.563s | Tiempo OOF-predict: 22.056s\n",
      "[TEST]   ACC=0.977  F1=0.977\n",
      "[OOF-CV] ACC=0.974  F1=0.974\n",
      "Reporte de clasificación (TEST):\n"
     ]
    },
    {
     "data": {
      "application/vnd.microsoft.datawrangler.viewer.v0+json": {
       "columns": [
        {
         "name": "index",
         "rawType": "object",
         "type": "string"
        },
        {
         "name": "precision",
         "rawType": "float64",
         "type": "float"
        },
        {
         "name": "recall",
         "rawType": "float64",
         "type": "float"
        },
        {
         "name": "f1-score",
         "rawType": "float64",
         "type": "float"
        },
        {
         "name": "support",
         "rawType": "float64",
         "type": "float"
        }
       ],
       "ref": "3ecd9641-8800-439d-b04e-fc964056ad0d",
       "rows": [
        [
         "0",
         "0.966",
         "0.978",
         "0.972",
         "408.0"
        ],
        [
         "1",
         "0.964",
         "0.944",
         "0.954",
         "287.0"
        ],
        [
         "2",
         "0.983",
         "0.989",
         "0.986",
         "698.0"
        ],
        [
         "3",
         "1.0",
         "1.0",
         "1.0",
         "140.0"
        ],
        [
         "4",
         "0.981",
         "0.965",
         "0.973",
         "599.0"
        ],
        [
         "5",
         "0.974",
         "0.984",
         "0.979",
         "644.0"
        ],
        [
         "accuracy",
         "0.977",
         "0.977",
         "0.977",
         "0.977"
        ],
        [
         "macro avg",
         "0.978",
         "0.977",
         "0.977",
         "2776.0"
        ],
        [
         "weighted avg",
         "0.977",
         "0.977",
         "0.977",
         "2776.0"
        ]
       ],
       "shape": {
        "columns": 4,
        "rows": 9
       }
      },
      "text/html": [
       "<div>\n",
       "<style scoped>\n",
       "    .dataframe tbody tr th:only-of-type {\n",
       "        vertical-align: middle;\n",
       "    }\n",
       "\n",
       "    .dataframe tbody tr th {\n",
       "        vertical-align: top;\n",
       "    }\n",
       "\n",
       "    .dataframe thead th {\n",
       "        text-align: right;\n",
       "    }\n",
       "</style>\n",
       "<table border=\"1\" class=\"dataframe\">\n",
       "  <thead>\n",
       "    <tr style=\"text-align: right;\">\n",
       "      <th></th>\n",
       "      <th>precision</th>\n",
       "      <th>recall</th>\n",
       "      <th>f1-score</th>\n",
       "      <th>support</th>\n",
       "    </tr>\n",
       "  </thead>\n",
       "  <tbody>\n",
       "    <tr>\n",
       "      <th>0</th>\n",
       "      <td>0.966</td>\n",
       "      <td>0.978</td>\n",
       "      <td>0.972</td>\n",
       "      <td>408.000</td>\n",
       "    </tr>\n",
       "    <tr>\n",
       "      <th>1</th>\n",
       "      <td>0.964</td>\n",
       "      <td>0.944</td>\n",
       "      <td>0.954</td>\n",
       "      <td>287.000</td>\n",
       "    </tr>\n",
       "    <tr>\n",
       "      <th>2</th>\n",
       "      <td>0.983</td>\n",
       "      <td>0.989</td>\n",
       "      <td>0.986</td>\n",
       "      <td>698.000</td>\n",
       "    </tr>\n",
       "    <tr>\n",
       "      <th>3</th>\n",
       "      <td>1.000</td>\n",
       "      <td>1.000</td>\n",
       "      <td>1.000</td>\n",
       "      <td>140.000</td>\n",
       "    </tr>\n",
       "    <tr>\n",
       "      <th>4</th>\n",
       "      <td>0.981</td>\n",
       "      <td>0.965</td>\n",
       "      <td>0.973</td>\n",
       "      <td>599.000</td>\n",
       "    </tr>\n",
       "    <tr>\n",
       "      <th>5</th>\n",
       "      <td>0.974</td>\n",
       "      <td>0.984</td>\n",
       "      <td>0.979</td>\n",
       "      <td>644.000</td>\n",
       "    </tr>\n",
       "    <tr>\n",
       "      <th>accuracy</th>\n",
       "      <td>0.977</td>\n",
       "      <td>0.977</td>\n",
       "      <td>0.977</td>\n",
       "      <td>0.977</td>\n",
       "    </tr>\n",
       "    <tr>\n",
       "      <th>macro avg</th>\n",
       "      <td>0.978</td>\n",
       "      <td>0.977</td>\n",
       "      <td>0.977</td>\n",
       "      <td>2776.000</td>\n",
       "    </tr>\n",
       "    <tr>\n",
       "      <th>weighted avg</th>\n",
       "      <td>0.977</td>\n",
       "      <td>0.977</td>\n",
       "      <td>0.977</td>\n",
       "      <td>2776.000</td>\n",
       "    </tr>\n",
       "  </tbody>\n",
       "</table>\n",
       "</div>"
      ],
      "text/plain": [
       "              precision  recall  f1-score   support\n",
       "0                 0.966   0.978     0.972   408.000\n",
       "1                 0.964   0.944     0.954   287.000\n",
       "2                 0.983   0.989     0.986   698.000\n",
       "3                 1.000   1.000     1.000   140.000\n",
       "4                 0.981   0.965     0.973   599.000\n",
       "5                 0.974   0.984     0.979   644.000\n",
       "accuracy          0.977   0.977     0.977     0.977\n",
       "macro avg         0.978   0.977     0.977  2776.000\n",
       "weighted avg      0.977   0.977     0.977  2776.000"
      ]
     },
     "metadata": {},
     "output_type": "display_data"
    },
    {
     "name": "stdout",
     "output_type": "stream",
     "text": [
      "Matriz de confusión (TEST):\n"
     ]
    },
    {
     "data": {
      "application/vnd.microsoft.datawrangler.viewer.v0+json": {
       "columns": [
        {
         "name": "index",
         "rawType": "int64",
         "type": "integer"
        },
        {
         "name": "0",
         "rawType": "int64",
         "type": "integer"
        },
        {
         "name": "1",
         "rawType": "int64",
         "type": "integer"
        },
        {
         "name": "2",
         "rawType": "int64",
         "type": "integer"
        },
        {
         "name": "3",
         "rawType": "int64",
         "type": "integer"
        },
        {
         "name": "4",
         "rawType": "int64",
         "type": "integer"
        },
        {
         "name": "5",
         "rawType": "int64",
         "type": "integer"
        }
       ],
       "ref": "f88edc6c-b89d-4a6a-a07e-be0c93bbdc9c",
       "rows": [
        [
         "0",
         "399",
         "9",
         "0",
         "0",
         "0",
         "0"
        ],
        [
         "1",
         "14",
         "271",
         "0",
         "0",
         "0",
         "2"
        ],
        [
         "2",
         "0",
         "0",
         "690",
         "0",
         "4",
         "4"
        ],
        [
         "3",
         "0",
         "0",
         "0",
         "140",
         "0",
         "0"
        ],
        [
         "4",
         "0",
         "0",
         "10",
         "0",
         "578",
         "11"
        ],
        [
         "5",
         "0",
         "1",
         "2",
         "0",
         "7",
         "634"
        ]
       ],
       "shape": {
        "columns": 6,
        "rows": 6
       }
      },
      "text/html": [
       "<div>\n",
       "<style scoped>\n",
       "    .dataframe tbody tr th:only-of-type {\n",
       "        vertical-align: middle;\n",
       "    }\n",
       "\n",
       "    .dataframe tbody tr th {\n",
       "        vertical-align: top;\n",
       "    }\n",
       "\n",
       "    .dataframe thead th {\n",
       "        text-align: right;\n",
       "    }\n",
       "</style>\n",
       "<table border=\"1\" class=\"dataframe\">\n",
       "  <thead>\n",
       "    <tr style=\"text-align: right;\">\n",
       "      <th></th>\n",
       "      <th>0</th>\n",
       "      <th>1</th>\n",
       "      <th>2</th>\n",
       "      <th>3</th>\n",
       "      <th>4</th>\n",
       "      <th>5</th>\n",
       "    </tr>\n",
       "  </thead>\n",
       "  <tbody>\n",
       "    <tr>\n",
       "      <th>0</th>\n",
       "      <td>399</td>\n",
       "      <td>9</td>\n",
       "      <td>0</td>\n",
       "      <td>0</td>\n",
       "      <td>0</td>\n",
       "      <td>0</td>\n",
       "    </tr>\n",
       "    <tr>\n",
       "      <th>1</th>\n",
       "      <td>14</td>\n",
       "      <td>271</td>\n",
       "      <td>0</td>\n",
       "      <td>0</td>\n",
       "      <td>0</td>\n",
       "      <td>2</td>\n",
       "    </tr>\n",
       "    <tr>\n",
       "      <th>2</th>\n",
       "      <td>0</td>\n",
       "      <td>0</td>\n",
       "      <td>690</td>\n",
       "      <td>0</td>\n",
       "      <td>4</td>\n",
       "      <td>4</td>\n",
       "    </tr>\n",
       "    <tr>\n",
       "      <th>3</th>\n",
       "      <td>0</td>\n",
       "      <td>0</td>\n",
       "      <td>0</td>\n",
       "      <td>140</td>\n",
       "      <td>0</td>\n",
       "      <td>0</td>\n",
       "    </tr>\n",
       "    <tr>\n",
       "      <th>4</th>\n",
       "      <td>0</td>\n",
       "      <td>0</td>\n",
       "      <td>10</td>\n",
       "      <td>0</td>\n",
       "      <td>578</td>\n",
       "      <td>11</td>\n",
       "    </tr>\n",
       "    <tr>\n",
       "      <th>5</th>\n",
       "      <td>0</td>\n",
       "      <td>1</td>\n",
       "      <td>2</td>\n",
       "      <td>0</td>\n",
       "      <td>7</td>\n",
       "      <td>634</td>\n",
       "    </tr>\n",
       "  </tbody>\n",
       "</table>\n",
       "</div>"
      ],
      "text/plain": [
       "     0    1    2    3    4    5\n",
       "0  399    9    0    0    0    0\n",
       "1   14  271    0    0    0    2\n",
       "2    0    0  690    0    4    4\n",
       "3    0    0    0  140    0    0\n",
       "4    0    0   10    0  578   11\n",
       "5    0    1    2    0    7  634"
      ]
     },
     "metadata": {},
     "output_type": "display_data"
    },
    {
     "name": "stdout",
     "output_type": "stream",
     "text": [
      "Matriz de confusión (OOF-CV):\n"
     ]
    },
    {
     "data": {
      "application/vnd.microsoft.datawrangler.viewer.v0+json": {
       "columns": [
        {
         "name": "index",
         "rawType": "int64",
         "type": "integer"
        },
        {
         "name": "0",
         "rawType": "int64",
         "type": "integer"
        },
        {
         "name": "1",
         "rawType": "int64",
         "type": "integer"
        },
        {
         "name": "2",
         "rawType": "int64",
         "type": "integer"
        },
        {
         "name": "3",
         "rawType": "int64",
         "type": "integer"
        },
        {
         "name": "4",
         "rawType": "int64",
         "type": "integer"
        },
        {
         "name": "5",
         "rawType": "int64",
         "type": "integer"
        }
       ],
       "ref": "6f7359f3-4b35-4e7c-9c11-f9450be694f2",
       "rows": [
        [
         "0",
         "1343",
         "55",
         "0",
         "0",
         "2",
         "3"
        ],
        [
         "1",
         "33",
         "897",
         "0",
         "0",
         "0",
         "6"
        ],
        [
         "2",
         "0",
         "0",
         "2202",
         "0",
         "39",
         "11"
        ],
        [
         "3",
         "0",
         "0",
         "0",
         "469",
         "0",
         "0"
        ],
        [
         "4",
         "0",
         "0",
         "20",
         "0",
         "2009",
         "30"
        ],
        [
         "5",
         "0",
         "7",
         "7",
         "0",
         "30",
         "2089"
        ]
       ],
       "shape": {
        "columns": 6,
        "rows": 6
       }
      },
      "text/html": [
       "<div>\n",
       "<style scoped>\n",
       "    .dataframe tbody tr th:only-of-type {\n",
       "        vertical-align: middle;\n",
       "    }\n",
       "\n",
       "    .dataframe tbody tr th {\n",
       "        vertical-align: top;\n",
       "    }\n",
       "\n",
       "    .dataframe thead th {\n",
       "        text-align: right;\n",
       "    }\n",
       "</style>\n",
       "<table border=\"1\" class=\"dataframe\">\n",
       "  <thead>\n",
       "    <tr style=\"text-align: right;\">\n",
       "      <th></th>\n",
       "      <th>0</th>\n",
       "      <th>1</th>\n",
       "      <th>2</th>\n",
       "      <th>3</th>\n",
       "      <th>4</th>\n",
       "      <th>5</th>\n",
       "    </tr>\n",
       "  </thead>\n",
       "  <tbody>\n",
       "    <tr>\n",
       "      <th>0</th>\n",
       "      <td>1343</td>\n",
       "      <td>55</td>\n",
       "      <td>0</td>\n",
       "      <td>0</td>\n",
       "      <td>2</td>\n",
       "      <td>3</td>\n",
       "    </tr>\n",
       "    <tr>\n",
       "      <th>1</th>\n",
       "      <td>33</td>\n",
       "      <td>897</td>\n",
       "      <td>0</td>\n",
       "      <td>0</td>\n",
       "      <td>0</td>\n",
       "      <td>6</td>\n",
       "    </tr>\n",
       "    <tr>\n",
       "      <th>2</th>\n",
       "      <td>0</td>\n",
       "      <td>0</td>\n",
       "      <td>2202</td>\n",
       "      <td>0</td>\n",
       "      <td>39</td>\n",
       "      <td>11</td>\n",
       "    </tr>\n",
       "    <tr>\n",
       "      <th>3</th>\n",
       "      <td>0</td>\n",
       "      <td>0</td>\n",
       "      <td>0</td>\n",
       "      <td>469</td>\n",
       "      <td>0</td>\n",
       "      <td>0</td>\n",
       "    </tr>\n",
       "    <tr>\n",
       "      <th>4</th>\n",
       "      <td>0</td>\n",
       "      <td>0</td>\n",
       "      <td>20</td>\n",
       "      <td>0</td>\n",
       "      <td>2009</td>\n",
       "      <td>30</td>\n",
       "    </tr>\n",
       "    <tr>\n",
       "      <th>5</th>\n",
       "      <td>0</td>\n",
       "      <td>7</td>\n",
       "      <td>7</td>\n",
       "      <td>0</td>\n",
       "      <td>30</td>\n",
       "      <td>2089</td>\n",
       "    </tr>\n",
       "  </tbody>\n",
       "</table>\n",
       "</div>"
      ],
      "text/plain": [
       "      0    1     2    3     4     5\n",
       "0  1343   55     0    0     2     3\n",
       "1    33  897     0    0     0     6\n",
       "2     0    0  2202    0    39    11\n",
       "3     0    0     0  469     0     0\n",
       "4     0    0    20    0  2009    30\n",
       "5     0    7     7    0    30  2089"
      ]
     },
     "metadata": {},
     "output_type": "display_data"
    },
    {
     "name": "stdout",
     "output_type": "stream",
     "text": [
      "\n",
      "Resumen (ordenado por score CV):\n"
     ]
    },
    {
     "data": {
      "application/vnd.microsoft.datawrangler.viewer.v0+json": {
       "columns": [
        {
         "name": "index",
         "rawType": "int64",
         "type": "integer"
        },
        {
         "name": "modelo",
         "rawType": "object",
         "type": "string"
        },
        {
         "name": "best_cv_score",
         "rawType": "float64",
         "type": "float"
        },
        {
         "name": "ACC_test",
         "rawType": "float64",
         "type": "float"
        },
        {
         "name": "F1_test",
         "rawType": "float64",
         "type": "float"
        },
        {
         "name": "ACC_oof",
         "rawType": "float64",
         "type": "float"
        },
        {
         "name": "F1_oof",
         "rawType": "float64",
         "type": "float"
        },
        {
         "name": "fit_time_s",
         "rawType": "float64",
         "type": "float"
        },
        {
         "name": "cv_pred_time_s",
         "rawType": "float64",
         "type": "float"
        }
       ],
       "ref": "6d9cf57c-f021-4be5-9b92-936baa4b0daa",
       "rows": [
        [
         "1",
         "ExtraTrees",
         "0.9748304138760089",
         "0.9780259365994236",
         "0.9804575512400039",
         "0.9783830523130134",
         "0.9818409283360868",
         "9.008",
         "1.63"
        ],
        [
         "2",
         "GradientBoosting",
         "0.9683460701814643",
         "0.9711815561959655",
         "0.9732273272689541",
         "0.9711413748378729",
         "0.9732236161181214",
         "103.265",
         "19.826"
        ],
        [
         "0",
         "RandomForest",
         "0.967728786230847",
         "0.9740634005763689",
         "0.9757061957432369",
         "0.9734111543450065",
         "0.9763262549404691",
         "9.083",
         "2.2"
        ],
        [
         "4",
         "MLP",
         "0.965720943767054",
         "0.9769452449567724",
         "0.9773565956199924",
         "0.9737354085603113",
         "0.9741358412479034",
         "15.563",
         "22.056"
        ],
        [
         "3",
         "SVC",
         "0.9382353502394718",
         "0.9427233429394812",
         "0.9396895067921659",
         "0.9432555123216602",
         "0.9415553958937881",
         "3.827",
         "1.066"
        ]
       ],
       "shape": {
        "columns": 8,
        "rows": 5
       }
      },
      "text/html": [
       "<div>\n",
       "<style scoped>\n",
       "    .dataframe tbody tr th:only-of-type {\n",
       "        vertical-align: middle;\n",
       "    }\n",
       "\n",
       "    .dataframe tbody tr th {\n",
       "        vertical-align: top;\n",
       "    }\n",
       "\n",
       "    .dataframe thead th {\n",
       "        text-align: right;\n",
       "    }\n",
       "</style>\n",
       "<table border=\"1\" class=\"dataframe\">\n",
       "  <thead>\n",
       "    <tr style=\"text-align: right;\">\n",
       "      <th></th>\n",
       "      <th>modelo</th>\n",
       "      <th>best_cv_score</th>\n",
       "      <th>ACC_test</th>\n",
       "      <th>F1_test</th>\n",
       "      <th>ACC_oof</th>\n",
       "      <th>F1_oof</th>\n",
       "      <th>fit_time_s</th>\n",
       "      <th>cv_pred_time_s</th>\n",
       "    </tr>\n",
       "  </thead>\n",
       "  <tbody>\n",
       "    <tr>\n",
       "      <th>1</th>\n",
       "      <td>ExtraTrees</td>\n",
       "      <td>0.974830</td>\n",
       "      <td>0.978026</td>\n",
       "      <td>0.980458</td>\n",
       "      <td>0.978383</td>\n",
       "      <td>0.981841</td>\n",
       "      <td>9.008</td>\n",
       "      <td>1.630</td>\n",
       "    </tr>\n",
       "    <tr>\n",
       "      <th>2</th>\n",
       "      <td>GradientBoosting</td>\n",
       "      <td>0.968346</td>\n",
       "      <td>0.971182</td>\n",
       "      <td>0.973227</td>\n",
       "      <td>0.971141</td>\n",
       "      <td>0.973224</td>\n",
       "      <td>103.265</td>\n",
       "      <td>19.826</td>\n",
       "    </tr>\n",
       "    <tr>\n",
       "      <th>0</th>\n",
       "      <td>RandomForest</td>\n",
       "      <td>0.967729</td>\n",
       "      <td>0.974063</td>\n",
       "      <td>0.975706</td>\n",
       "      <td>0.973411</td>\n",
       "      <td>0.976326</td>\n",
       "      <td>9.083</td>\n",
       "      <td>2.200</td>\n",
       "    </tr>\n",
       "    <tr>\n",
       "      <th>4</th>\n",
       "      <td>MLP</td>\n",
       "      <td>0.965721</td>\n",
       "      <td>0.976945</td>\n",
       "      <td>0.977357</td>\n",
       "      <td>0.973735</td>\n",
       "      <td>0.974136</td>\n",
       "      <td>15.563</td>\n",
       "      <td>22.056</td>\n",
       "    </tr>\n",
       "    <tr>\n",
       "      <th>3</th>\n",
       "      <td>SVC</td>\n",
       "      <td>0.938235</td>\n",
       "      <td>0.942723</td>\n",
       "      <td>0.939690</td>\n",
       "      <td>0.943256</td>\n",
       "      <td>0.941555</td>\n",
       "      <td>3.827</td>\n",
       "      <td>1.066</td>\n",
       "    </tr>\n",
       "  </tbody>\n",
       "</table>\n",
       "</div>"
      ],
      "text/plain": [
       "             modelo  best_cv_score  ACC_test   F1_test   ACC_oof    F1_oof  \\\n",
       "1        ExtraTrees       0.974830  0.978026  0.980458  0.978383  0.981841   \n",
       "2  GradientBoosting       0.968346  0.971182  0.973227  0.971141  0.973224   \n",
       "0      RandomForest       0.967729  0.974063  0.975706  0.973411  0.976326   \n",
       "4               MLP       0.965721  0.976945  0.977357  0.973735  0.974136   \n",
       "3               SVC       0.938235  0.942723  0.939690  0.943256  0.941555   \n",
       "\n",
       "   fit_time_s  cv_pred_time_s  \n",
       "1       9.008           1.630  \n",
       "2     103.265          19.826  \n",
       "0       9.083           2.200  \n",
       "4      15.563          22.056  \n",
       "3       3.827           1.066  "
      ]
     },
     "metadata": {},
     "output_type": "display_data"
    }
   ],
   "source": [
    "k          = 10\n",
    "cv         = StratifiedKFold(n_splits=k, shuffle=True, random_state=42)\n",
    "\n",
    "results = []\n",
    "best_models = {}\n",
    "labels = np.unique(y)\n",
    "\n",
    "for name, (pipe, param_grid) in models.items():\n",
    "    gs = GridSearchCV(pipe, param_grid, scoring=\"accuracy\", cv=cv, n_jobs=-1, refit=True)\n",
    "    tic = time.perf_counter()\n",
    "    gs.fit(X_train, y_train)\n",
    "    fit_time = round(time.perf_counter() - tic, 3)\n",
    "\n",
    "    # ---- Predicción en TEST (hold-out) ----\n",
    "    y_pred_test = gs.predict(X_test)\n",
    "    acc_test = accuracy_score(y_test, y_pred_test)\n",
    "    f1_test  = f1_score(y_test, y_pred_test, average=\"macro\", zero_division=0)\n",
    "    cm_test  = confusion_matrix(y_test, y_pred_test, labels=labels)\n",
    "\n",
    "    # ---- OOF predict (CV sobre TODO X,y) cronometrado ----\n",
    "    with parallel_backend(\"threading\"):\n",
    "        tic = time.perf_counter()\n",
    "        y_pred_oof = cross_val_predict(gs.best_estimator_, X, y, cv=cv, n_jobs=-1)\n",
    "        cv_time = round(time.perf_counter() - tic, 3)\n",
    "\n",
    "    acc_oof = accuracy_score(y, y_pred_oof)\n",
    "    f1_oof  = f1_score(y, y_pred_oof, average=\"macro\", zero_division=0)\n",
    "    cm_oof  = confusion_matrix(y, y_pred_oof, labels=labels)\n",
    "\n",
    "    # ---- Imprimir como NB1 (simple y directo) ----\n",
    "    print(f\"\\n=== {name} ===\")\n",
    "    print(\"Mejores params CV:\", gs.best_params_)\n",
    "    print(f\"Tiempo entrenamiento: {fit_time:.3f}s | Tiempo OOF-predict: {cv_time:.3f}s\")\n",
    "    print(f\"[TEST]   ACC={acc_test:.3f}  F1={f1_test:.3f}\")\n",
    "    print(f\"[OOF-CV] ACC={acc_oof:.3f}  F1={f1_oof:.3f}\")\n",
    "\n",
    "    print(\"Reporte de clasificación (TEST):\")\n",
    "    display(pd.DataFrame(classification_report(y_test, y_pred_test, output_dict=True, zero_division=0)).T.round(3))\n",
    "    print(\"Matriz de confusión (TEST):\")\n",
    "    display(pd.DataFrame(cm_test, index=labels, columns=labels))\n",
    "    print(\"Matriz de confusión (OOF-CV):\")\n",
    "    display(pd.DataFrame(cm_oof, index=labels, columns=labels))\n",
    "\n",
    "    # ---- Guardar resumen y mejor estimador ----\n",
    "    results.append({\n",
    "        \"modelo\": name,\n",
    "        \"best_cv_score\": float(gs.best_score_),\n",
    "        \"ACC_test\": float(acc_test),\n",
    "        \"F1_test\": float(f1_test),\n",
    "        \"ACC_oof\": float(acc_oof),\n",
    "        \"F1_oof\": float(f1_oof),\n",
    "        \"fit_time_s\": fit_time,\n",
    "        \"cv_pred_time_s\": cv_time\n",
    "    })\n",
    "    best_models[name] = gs.best_estimator_\n",
    "\n",
    "res_df = pd.DataFrame(results).sort_values(\"best_cv_score\", ascending=False)\n",
    "print(\"\\nResumen (ordenado por score CV):\")\n",
    "display(res_df)"
   ]
  },
  {
   "cell_type": "code",
   "execution_count": 69,
   "id": "959642c4",
   "metadata": {},
   "outputs": [
    {
     "name": "stdout",
     "output_type": "stream",
     "text": [
      "feature_order: ['b2', 'b3', 'b4', 'b6', 'lst', 'ndvi', 'ndbi']\n"
     ]
    }
   ],
   "source": [
    "feature_order = list(X.columns)\n",
    "print(\"feature_order:\", feature_order)"
   ]
  },
  {
   "cell_type": "code",
   "execution_count": 70,
   "id": "19ce439d",
   "metadata": {},
   "outputs": [],
   "source": [
    "def cargar_banda(path):\n",
    "    with rasterio.open(path) as src:\n",
    "        return src.read(), src.profile\n",
    "\n",
    "def clasificar_rasters(path_raiz, best_models, le, feature_order):\n",
    "\n",
    "    for folder_name in os.listdir(path_raiz):\n",
    "        folder_path = os.path.join(path_raiz, folder_name)\n",
    "        if os.path.isdir(folder_path):\n",
    "            b2 = b3 =b4 = b6 = lst = ndvi = ndbi = ndwi = None\n",
    "            for file_name in os.listdir(folder_path):\n",
    "                if file_name.endswith(\"B2.TIF\"):\n",
    "                    b2 = os.path.join(folder_path,file_name)\n",
    "                elif file_name.endswith(\"B3.TIF\"):\n",
    "                    b3 = os.path.join(folder_path,file_name)\n",
    "                elif file_name.endswith(\"B4.TIF\"):\n",
    "                    b4 = os.path.join(folder_path,file_name)\n",
    "                elif file_name.endswith(\"B6.TIF\"):\n",
    "                    b6 = os.path.join(folder_path,file_name)                      \n",
    "                elif file_name.endswith(\"LST.TIF\"):\n",
    "                    lst = os.path.join(folder_path,file_name)           \n",
    "                elif file_name.endswith(\"NDVI.TIF\"):\n",
    "                    ndvi = os.path.join(folder_path,file_name)\n",
    "                elif file_name.endswith(\"NDBI.TIF\"):\n",
    "                    ndbi = os.path.join(folder_path,file_name)\n",
    "                elif file_name.endswith(\"NDWI.TIF\"):\n",
    "                    ndwi = os.path.join(folder_path,file_name)\n",
    "\n",
    "        # cargar y apilar\n",
    "            b2, profile = cargar_banda(b2)   # 3×H×W\n",
    "            b3, _ = cargar_banda(b3)\n",
    "            b4, _ = cargar_banda(b4)\n",
    "            b6, _ = cargar_banda(b6)\n",
    "            lst, _  = cargar_banda(lst)\n",
    "            ndvi, _ = cargar_banda(ndvi)\n",
    "            ndbi, _ = cargar_banda(ndbi)\n",
    "            ndwi, _ = cargar_banda(ndwi)\n",
    "\n",
    "            capa = {\n",
    "                \"b2\": b2, \"b3\": b3, \"b4\": b4, \"b6\": b6,\n",
    "                \"banda2\": b2, \"banda3\": b3, \"banda4\": b4, \"banda6\": b6,\n",
    "                \"lst\": lst, \"ndvi\": ndvi, \"ndbi\": ndbi, \"ndwi\": ndwi,\n",
    "            }\n",
    "\n",
    "            arrays = [capa[f] for f in feature_order]  # cada uno es (1, H, W)\n",
    "\n",
    "            multiband = np.concatenate((arrays), axis=0)\n",
    "            num_bands, alto, ancho = multiband.shape\n",
    "        \n",
    "            data = multiband.reshape(num_bands, -1).T\n",
    "            df_pix = pd.DataFrame(data, columns=feature_order)\n",
    "\n",
    "            profile_out = profile.copy()\n",
    "            profile_out.update(dtype=rasterio.uint8, count=1, height=int(alto), width=int(ancho))\n",
    "\n",
    "            for name, model in best_models.items():\n",
    "                preds = model.predict(df_pix)\n",
    "                classification = preds.reshape(alto, ancho)\n",
    "\n",
    "                out_path = os.path.join(folder_path, f\"Land_Cover_{name}.TIF\")\n",
    "\n",
    "                with rasterio.open(out_path, \"w\", **profile) as dst:\n",
    "                    dst.write(classification.astype(np.uint8), 1)\n",
    "                    \n",
    "                print(\"Procesado: \", out_path)"
   ]
  },
  {
   "cell_type": "code",
   "execution_count": 75,
   "id": "6186b29b",
   "metadata": {},
   "outputs": [
    {
     "name": "stdout",
     "output_type": "stream",
     "text": [
      "Procesado:  /Users/jonny.sanchez/Documents/tesis/8-classification/barranquilla/LC08_L2SP_009052_20180204_20200902_02_T1/Land_Cover_RandomForest.TIF\n",
      "Procesado:  /Users/jonny.sanchez/Documents/tesis/8-classification/barranquilla/LC08_L2SP_009052_20180204_20200902_02_T1/Land_Cover_ExtraTrees.TIF\n",
      "Procesado:  /Users/jonny.sanchez/Documents/tesis/8-classification/barranquilla/LC08_L2SP_009052_20180204_20200902_02_T1/Land_Cover_GradientBoosting.TIF\n",
      "Procesado:  /Users/jonny.sanchez/Documents/tesis/8-classification/barranquilla/LC08_L2SP_009052_20180204_20200902_02_T1/Land_Cover_SVC.TIF\n",
      "Procesado:  /Users/jonny.sanchez/Documents/tesis/8-classification/barranquilla/LC08_L2SP_009052_20180204_20200902_02_T1/Land_Cover_MLP.TIF\n",
      "Procesado:  /Users/jonny.sanchez/Documents/tesis/8-classification/barranquilla/LC08_L2SP_009052_20170116_20200905_02_T1/Land_Cover_RandomForest.TIF\n",
      "Procesado:  /Users/jonny.sanchez/Documents/tesis/8-classification/barranquilla/LC08_L2SP_009052_20170116_20200905_02_T1/Land_Cover_ExtraTrees.TIF\n",
      "Procesado:  /Users/jonny.sanchez/Documents/tesis/8-classification/barranquilla/LC08_L2SP_009052_20170116_20200905_02_T1/Land_Cover_GradientBoosting.TIF\n",
      "Procesado:  /Users/jonny.sanchez/Documents/tesis/8-classification/barranquilla/LC08_L2SP_009052_20170116_20200905_02_T1/Land_Cover_SVC.TIF\n",
      "Procesado:  /Users/jonny.sanchez/Documents/tesis/8-classification/barranquilla/LC08_L2SP_009052_20170116_20200905_02_T1/Land_Cover_MLP.TIF\n",
      "Procesado:  /Users/jonny.sanchez/Documents/tesis/8-classification/barranquilla/LC08_L2SP_009052_20150401_20200909_02_T1/Land_Cover_RandomForest.TIF\n",
      "Procesado:  /Users/jonny.sanchez/Documents/tesis/8-classification/barranquilla/LC08_L2SP_009052_20150401_20200909_02_T1/Land_Cover_ExtraTrees.TIF\n",
      "Procesado:  /Users/jonny.sanchez/Documents/tesis/8-classification/barranquilla/LC08_L2SP_009052_20150401_20200909_02_T1/Land_Cover_GradientBoosting.TIF\n",
      "Procesado:  /Users/jonny.sanchez/Documents/tesis/8-classification/barranquilla/LC08_L2SP_009052_20150401_20200909_02_T1/Land_Cover_SVC.TIF\n",
      "Procesado:  /Users/jonny.sanchez/Documents/tesis/8-classification/barranquilla/LC08_L2SP_009052_20150401_20200909_02_T1/Land_Cover_MLP.TIF\n",
      "Procesado:  /Users/jonny.sanchez/Documents/tesis/8-classification/barranquilla/LC08_L2SP_009052_20200329_20200822_02_T1/Land_Cover_RandomForest.TIF\n",
      "Procesado:  /Users/jonny.sanchez/Documents/tesis/8-classification/barranquilla/LC08_L2SP_009052_20200329_20200822_02_T1/Land_Cover_ExtraTrees.TIF\n",
      "Procesado:  /Users/jonny.sanchez/Documents/tesis/8-classification/barranquilla/LC08_L2SP_009052_20200329_20200822_02_T1/Land_Cover_GradientBoosting.TIF\n",
      "Procesado:  /Users/jonny.sanchez/Documents/tesis/8-classification/barranquilla/LC08_L2SP_009052_20200329_20200822_02_T1/Land_Cover_SVC.TIF\n",
      "Procesado:  /Users/jonny.sanchez/Documents/tesis/8-classification/barranquilla/LC08_L2SP_009052_20200329_20200822_02_T1/Land_Cover_MLP.TIF\n",
      "Procesado:  /Users/jonny.sanchez/Documents/tesis/8-classification/barranquilla/LC08_L2SP_009052_20240120_20240129_02_T1/Land_Cover_RandomForest.TIF\n",
      "Procesado:  /Users/jonny.sanchez/Documents/tesis/8-classification/barranquilla/LC08_L2SP_009052_20240120_20240129_02_T1/Land_Cover_ExtraTrees.TIF\n",
      "Procesado:  /Users/jonny.sanchez/Documents/tesis/8-classification/barranquilla/LC08_L2SP_009052_20240120_20240129_02_T1/Land_Cover_GradientBoosting.TIF\n",
      "Procesado:  /Users/jonny.sanchez/Documents/tesis/8-classification/barranquilla/LC08_L2SP_009052_20240120_20240129_02_T1/Land_Cover_SVC.TIF\n",
      "Procesado:  /Users/jonny.sanchez/Documents/tesis/8-classification/barranquilla/LC08_L2SP_009052_20240120_20240129_02_T1/Land_Cover_MLP.TIF\n",
      "Procesado:  /Users/jonny.sanchez/Documents/tesis/8-classification/barranquilla/LC09_L2SP_009052_20220223_20230427_02_T1/Land_Cover_RandomForest.TIF\n",
      "Procesado:  /Users/jonny.sanchez/Documents/tesis/8-classification/barranquilla/LC09_L2SP_009052_20220223_20230427_02_T1/Land_Cover_ExtraTrees.TIF\n",
      "Procesado:  /Users/jonny.sanchez/Documents/tesis/8-classification/barranquilla/LC09_L2SP_009052_20220223_20230427_02_T1/Land_Cover_GradientBoosting.TIF\n",
      "Procesado:  /Users/jonny.sanchez/Documents/tesis/8-classification/barranquilla/LC09_L2SP_009052_20220223_20230427_02_T1/Land_Cover_SVC.TIF\n",
      "Procesado:  /Users/jonny.sanchez/Documents/tesis/8-classification/barranquilla/LC09_L2SP_009052_20220223_20230427_02_T1/Land_Cover_MLP.TIF\n",
      "Procesado:  /Users/jonny.sanchez/Documents/tesis/8-classification/barranquilla/LC08_L2SP_009052_20210212_20220526_02_T1/Land_Cover_RandomForest.TIF\n",
      "Procesado:  /Users/jonny.sanchez/Documents/tesis/8-classification/barranquilla/LC08_L2SP_009052_20210212_20220526_02_T1/Land_Cover_ExtraTrees.TIF\n",
      "Procesado:  /Users/jonny.sanchez/Documents/tesis/8-classification/barranquilla/LC08_L2SP_009052_20210212_20220526_02_T1/Land_Cover_GradientBoosting.TIF\n",
      "Procesado:  /Users/jonny.sanchez/Documents/tesis/8-classification/barranquilla/LC08_L2SP_009052_20210212_20220526_02_T1/Land_Cover_SVC.TIF\n",
      "Procesado:  /Users/jonny.sanchez/Documents/tesis/8-classification/barranquilla/LC08_L2SP_009052_20210212_20220526_02_T1/Land_Cover_MLP.TIF\n",
      "Procesado:  /Users/jonny.sanchez/Documents/tesis/8-classification/barranquilla/LC08_L2SP_009052_20230117_20230131_02_T1/Land_Cover_RandomForest.TIF\n",
      "Procesado:  /Users/jonny.sanchez/Documents/tesis/8-classification/barranquilla/LC08_L2SP_009052_20230117_20230131_02_T1/Land_Cover_ExtraTrees.TIF\n",
      "Procesado:  /Users/jonny.sanchez/Documents/tesis/8-classification/barranquilla/LC08_L2SP_009052_20230117_20230131_02_T1/Land_Cover_GradientBoosting.TIF\n",
      "Procesado:  /Users/jonny.sanchez/Documents/tesis/8-classification/barranquilla/LC08_L2SP_009052_20230117_20230131_02_T1/Land_Cover_SVC.TIF\n",
      "Procesado:  /Users/jonny.sanchez/Documents/tesis/8-classification/barranquilla/LC08_L2SP_009052_20230117_20230131_02_T1/Land_Cover_MLP.TIF\n",
      "Procesado:  /Users/jonny.sanchez/Documents/tesis/8-classification/barranquilla/LC08_L2SP_009052_20160114_20200907_02_T1/Land_Cover_RandomForest.TIF\n",
      "Procesado:  /Users/jonny.sanchez/Documents/tesis/8-classification/barranquilla/LC08_L2SP_009052_20160114_20200907_02_T1/Land_Cover_ExtraTrees.TIF\n",
      "Procesado:  /Users/jonny.sanchez/Documents/tesis/8-classification/barranquilla/LC08_L2SP_009052_20160114_20200907_02_T1/Land_Cover_GradientBoosting.TIF\n",
      "Procesado:  /Users/jonny.sanchez/Documents/tesis/8-classification/barranquilla/LC08_L2SP_009052_20160114_20200907_02_T1/Land_Cover_SVC.TIF\n",
      "Procesado:  /Users/jonny.sanchez/Documents/tesis/8-classification/barranquilla/LC08_L2SP_009052_20160114_20200907_02_T1/Land_Cover_MLP.TIF\n",
      "Procesado:  /Users/jonny.sanchez/Documents/tesis/8-classification/barranquilla/LC08_L2SP_009052_20190106_20200830_02_T1/Land_Cover_RandomForest.TIF\n",
      "Procesado:  /Users/jonny.sanchez/Documents/tesis/8-classification/barranquilla/LC08_L2SP_009052_20190106_20200830_02_T1/Land_Cover_ExtraTrees.TIF\n",
      "Procesado:  /Users/jonny.sanchez/Documents/tesis/8-classification/barranquilla/LC08_L2SP_009052_20190106_20200830_02_T1/Land_Cover_GradientBoosting.TIF\n",
      "Procesado:  /Users/jonny.sanchez/Documents/tesis/8-classification/barranquilla/LC08_L2SP_009052_20190106_20200830_02_T1/Land_Cover_SVC.TIF\n",
      "Procesado:  /Users/jonny.sanchez/Documents/tesis/8-classification/barranquilla/LC08_L2SP_009052_20190106_20200830_02_T1/Land_Cover_MLP.TIF\n"
     ]
    }
   ],
   "source": [
    "path = '/Users/jonny.sanchez/Documents/tesis/8-classification/barranquilla'\n",
    "\n",
    "clasificar_rasters(\n",
    "    path_raiz     = path,\n",
    "    best_models   = best_models,   \n",
    "    le            = le,          \n",
    "    feature_order = feature_order\n",
    ")"
   ]
  },
  {
   "cell_type": "code",
   "execution_count": 72,
   "id": "5d80c6eb",
   "metadata": {},
   "outputs": [
    {
     "name": "stdout",
     "output_type": "stream",
     "text": [
      "Codificación de 'cobertura': {'Agua de mar': 0, 'Agua dulce': 1, 'Construcciones': 2, 'Nubes': 3, 'Suelo desnudo': 4, 'Vegetación': 5}\n"
     ]
    }
   ],
   "source": [
    "mapping = dict(zip(le.classes_, range(len(le.classes_))))\n",
    "print(\"Codificación de 'cobertura':\", mapping)"
   ]
  }
 ],
 "metadata": {
  "kernelspec": {
   "display_name": "Python 3",
   "language": "python",
   "name": "python3"
  },
  "language_info": {
   "codemirror_mode": {
    "name": "ipython",
    "version": 3
   },
   "file_extension": ".py",
   "mimetype": "text/x-python",
   "name": "python",
   "nbconvert_exporter": "python",
   "pygments_lexer": "ipython3",
   "version": "3.13.7"
  }
 },
 "nbformat": 4,
 "nbformat_minor": 5
}
