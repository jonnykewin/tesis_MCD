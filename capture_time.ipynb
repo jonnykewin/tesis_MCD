{
 "cells": [
  {
   "cell_type": "code",
   "execution_count": 5,
   "id": "1d8f5449",
   "metadata": {},
   "outputs": [
    {
     "name": "stdout",
     "output_type": "stream",
     "text": [
      "LC08_L2SP_009052_20180204_20200902_02_T1 - 15:16:47.8443770Z\n",
      "LC08_L2SP_009052_20170116_20200905_02_T1 - 15:17:05.2422700Z\n",
      "LC08_L2SP_009052_20150401_20200909_02_T1 - 15:16:20.2502900Z\n",
      "LC08_L2SP_009052_20200329_20200822_02_T1 - 15:16:39.4346740Z\n",
      "LC08_L2SP_009052_20240120_20240129_02_T1 - 15:17:01.5401750Z\n",
      "LC09_L2SP_009052_20220223_20230427_02_T1 - 15:17:02.3349580Z\n",
      "LC08_L2SP_009052_20210212_20220526_02_T1 - 15:17:01.5214350Z\n",
      "LC08_L2SP_009052_20230117_20230131_02_T1 - 15:17:12.2102389Z\n",
      "LC08_L2SP_009052_20160114_20200907_02_T1 - 15:17:01.0501610Z\n",
      "LC08_L2SP_009052_20190106_20200830_02_T1 - 15:16:47.9287590Z\n"
     ]
    }
   ],
   "source": [
    "import json\n",
    "import os\n",
    "\n",
    "path = '/Users/jonny.sanchez/Documents/tesis/8-classification/santa_marta'\n",
    "\n",
    "for folder_name in os.listdir(path):\n",
    "    folder_path = os.path.join(path,folder_name)\n",
    "    if os.path.isdir(folder_path):\n",
    "        data = None\n",
    "        for file_name in os.listdir(folder_path):\n",
    "            if file_name.endswith(\"MTL.json\"):\n",
    "                json_file = os.path.join(folder_path,file_name)\n",
    "                with open(json_file,'r') as json_file:\n",
    "                    data = json.load(json_file)\n",
    "        print(\"{} - {}\".format(folder_name,data[\"LANDSAT_METADATA_FILE\"][\"IMAGE_ATTRIBUTES\"][\"SCENE_CENTER_TIME\"]))"
   ]
  },
  {
   "cell_type": "code",
   "execution_count": 6,
   "id": "3d591965",
   "metadata": {},
   "outputs": [
    {
     "name": "stdout",
     "output_type": "stream",
     "text": [
      "LC08_L2SP_009052_20180204_20200902_02_T1 - 15:16:47.8443770Z\n",
      "LC08_L2SP_009052_20170116_20200905_02_T1 - 15:17:05.2422700Z\n",
      "LC08_L2SP_009052_20150401_20200909_02_T1 - 15:16:20.2502900Z\n",
      "LC08_L2SP_009052_20200329_20200822_02_T1 - 15:16:39.4346740Z\n",
      "LC08_L2SP_009052_20240120_20240129_02_T1 - 15:17:01.5401750Z\n",
      "LC09_L2SP_009052_20220223_20230427_02_T1 - 15:17:02.3349580Z\n",
      "LC08_L2SP_009052_20210212_20220526_02_T1 - 15:17:01.5214350Z\n",
      "LC08_L2SP_009052_20230117_20230131_02_T1 - 15:17:12.2102389Z\n",
      "LC08_L2SP_009052_20160114_20200907_02_T1 - 15:17:01.0501610Z\n",
      "LC08_L2SP_009052_20190106_20200830_02_T1 - 15:16:47.9287590Z\n"
     ]
    }
   ],
   "source": [
    "path = '/Users/jonny.sanchez/Documents/tesis/8-classification/barranquilla'\n",
    "\n",
    "for folder_name in os.listdir(path):\n",
    "    folder_path = os.path.join(path,folder_name)\n",
    "    if os.path.isdir(folder_path):\n",
    "        data = None\n",
    "        for file_name in os.listdir(folder_path):\n",
    "            if file_name.endswith(\"MTL.json\"):\n",
    "                json_file = os.path.join(folder_path,file_name)\n",
    "                with open(json_file,'r') as json_file:\n",
    "                    data = json.load(json_file)\n",
    "        print(\"{} - {}\".format(folder_name,data[\"LANDSAT_METADATA_FILE\"][\"IMAGE_ATTRIBUTES\"][\"SCENE_CENTER_TIME\"]))"
   ]
  },
  {
   "cell_type": "code",
   "execution_count": 7,
   "id": "8622f253",
   "metadata": {},
   "outputs": [
    {
     "name": "stdout",
     "output_type": "stream",
     "text": [
      "LC08_L2SP_009053_20230117_20230131_02_T1 - 15:17:36.1182230Z\n",
      "LC08_L2SP_009053_20210212_20220526_02_T1 - 15:17:25.4294180Z\n",
      "LC08_L2SP_009053_20240120_20240129_02_T1 - 15:17:25.4439230Z\n",
      "LC08_L2SP_009053_20200329_20200822_02_T1 - 15:17:03.3426580Z\n",
      "LC08_L2SP_009053_20160114_20200907_02_T1 - 15:17:24.9581420Z\n",
      "LC08_L2SP_010053_20220222_20220302_02_T1 - 15:23:32.5979770Z\n",
      "LC08_L2SP_009053_20180204_20200902_02_T1 - 15:17:11.7523590Z\n",
      "LC08_L2SP_009053_20190122_20200830_02_T1 - 15:17:08.2899020Z\n",
      "LC08_L2SP_009053_20150401_20200909_02_T1 - 15:16:44.1540360Z\n",
      "LC08_L2SP_009053_20170116_20200905_02_T1 - 15:17:29.1502520Z\n"
     ]
    }
   ],
   "source": [
    "path = '/Users/jonny.sanchez/Documents/tesis/8-classification/cartagena'\n",
    "\n",
    "for folder_name in os.listdir(path):\n",
    "    folder_path = os.path.join(path,folder_name)\n",
    "    if os.path.isdir(folder_path):\n",
    "        data = None\n",
    "        for file_name in os.listdir(folder_path):\n",
    "            if file_name.endswith(\"MTL.json\"):\n",
    "                json_file = os.path.join(folder_path,file_name)\n",
    "                with open(json_file,'r') as json_file:\n",
    "                    data = json.load(json_file)\n",
    "        print(\"{} - {}\".format(folder_name,data[\"LANDSAT_METADATA_FILE\"][\"IMAGE_ATTRIBUTES\"][\"SCENE_CENTER_TIME\"]))"
   ]
  }
 ],
 "metadata": {
  "kernelspec": {
   "display_name": ".venv (3.13.5)",
   "language": "python",
   "name": "python3"
  },
  "language_info": {
   "codemirror_mode": {
    "name": "ipython",
    "version": 3
   },
   "file_extension": ".py",
   "mimetype": "text/x-python",
   "name": "python",
   "nbconvert_exporter": "python",
   "pygments_lexer": "ipython3",
   "version": "3.13.5"
  }
 },
 "nbformat": 4,
 "nbformat_minor": 5
}
