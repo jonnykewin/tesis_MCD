{
 "cells": [
  {
   "cell_type": "code",
   "execution_count": 119,
   "id": "a6a8525a",
   "metadata": {},
   "outputs": [],
   "source": [
    "import time\n",
    "import pandas as pd\n",
    "import numpy as np\n",
    "import matplotlib.pyplot as plt\n",
    "import seaborn as sns\n",
    "from joblib import parallel_backend\n",
    "from sklearn.preprocessing import LabelEncoder\n",
    "from sklearn.model_selection import StratifiedKFold, cross_val_predict\n",
    "from sklearn.metrics import confusion_matrix, classification_report\n",
    "from sklearn.ensemble import RandomForestClassifier, GradientBoostingClassifier, ExtraTreesClassifier"
   ]
  },
  {
   "cell_type": "code",
   "execution_count": 120,
   "id": "4ab1cc83",
   "metadata": {},
   "outputs": [
    {
     "name": "stdout",
     "output_type": "stream",
     "text": [
      "                id         anio           b2           b3           b4  \\\n",
      "count  9252.000000  9252.000000  9252.000000  9252.000000  9252.000000   \n",
      "mean   4626.500000  2019.366732     0.081777     0.111034     0.113503   \n",
      "std    2670.966679     3.075961     0.128197     0.126808     0.136314   \n",
      "min       1.000000  2015.000000     0.000104     0.004600    -0.009776   \n",
      "25%    2313.750000  2018.000000     0.024785     0.054623     0.037071   \n",
      "50%    4626.500000  2020.000000     0.048765     0.077200     0.084817   \n",
      "75%    6939.250000  2022.000000     0.086199     0.119227     0.138223   \n",
      "max    9252.000000  2024.000000     1.089833     1.118130     1.158033   \n",
      "\n",
      "                b5           b6           b7           b8          lst  \\\n",
      "count  9252.000000  9252.000000  9252.000000  9252.000000  9252.000000   \n",
      "mean      0.232624     0.206552     0.141613     0.136371    36.220818   \n",
      "std       0.165465     0.152703     0.124779     0.111441     8.529719   \n",
      "min      -0.131928     0.000282     0.002070     0.040454     4.620483   \n",
      "25%       0.104824     0.041938     0.030643     0.086204    29.820709   \n",
      "50%       0.250450     0.214865     0.120898     0.109192    37.597534   \n",
      "75%       0.298548     0.298156     0.219684     0.143431    43.295380   \n",
      "max       1.203325     0.949775     0.780842     1.129176    54.014313   \n",
      "\n",
      "              ndvi         ndbi         ndwi  \n",
      "count  9252.000000  9252.000000  9252.000000  \n",
      "mean      0.282519    -0.019948    -0.177700  \n",
      "std       3.976252     4.191280     0.475624  \n",
      "min     -96.701500  -100.333740    -0.682541  \n",
      "25%       0.084664    -0.266390    -0.536502  \n",
      "50%       0.307721     0.007169    -0.373530  \n",
      "75%       0.581080     0.099563     0.043207  \n",
      "max     320.664551   338.000366     0.984275  \n"
     ]
    }
   ],
   "source": [
    "df = pd.read_csv('/Users/jonny.sanchez/Documents/tesis/data_maestria_final.csv')\n",
    "print(df.describe())"
   ]
  },
  {
   "cell_type": "code",
   "execution_count": 185,
   "id": "6a0dbdae",
   "metadata": {},
   "outputs": [],
   "source": [
    "le = LabelEncoder()\n",
    "df['cobertura_le'] = le.fit_transform(df['cobertura'])\n",
    "y = df['cobertura_le'].values\n",
    "X = df.drop(columns=['id','ciudad','cobertura','geometria','anio','cobertura_le','ndwi','b8','b5','b7'])\n",
    "labels = le.classes_"
   ]
  },
  {
   "cell_type": "code",
   "execution_count": 186,
   "id": "1fce082a",
   "metadata": {},
   "outputs": [
    {
     "name": "stdout",
     "output_type": "stream",
     "text": [
      "            b2        b3        b4        b6        lst      ndvi      ndbi\n",
      "0     0.029048  0.058033  0.017965  0.008698  29.910431 -0.493971  0.176729\n",
      "1     0.050772  0.078548  0.103930  0.290408  39.039948  0.492904 -0.026099\n",
      "2     0.073185  0.100107  0.114655  0.243410  42.495575  0.409558 -0.058603\n",
      "3     0.065348  0.093150  0.097220  0.010127  31.759583 -0.387866 -0.617884\n",
      "4     0.085560  0.119935  0.141220  0.264998  43.469696  0.274451  0.033018\n",
      "...        ...       ...       ...       ...        ...       ...       ...\n",
      "9247  0.070270  0.109017  0.141082  0.393147  51.703705  0.309870  0.189693\n",
      "9248  0.069307  0.093700  0.097605  0.020467  30.679474 -0.101994 -0.590670\n",
      "9249  0.056823  0.082975  0.103188  0.283258  40.554138  0.437969  0.035175\n",
      "9250  0.015738  0.030917  0.021320  0.035152  27.845947  0.138368  0.110313\n",
      "9251  0.671420  0.700405  0.730490  0.772263  19.430786  0.058466 -0.030719\n",
      "\n",
      "[9252 rows x 7 columns]\n"
     ]
    }
   ],
   "source": [
    "print(X)"
   ]
  },
  {
   "cell_type": "code",
   "execution_count": 187,
   "id": "13ebf3f8",
   "metadata": {},
   "outputs": [],
   "source": [
    "models = {\n",
    "    'RandomForest': RandomForestClassifier(\n",
    "        n_estimators=200,\n",
    "        max_features='sqrt',\n",
    "        random_state=42,\n",
    "        n_jobs=-1\n",
    "    ),\n",
    "    'GradientBoosting': GradientBoostingClassifier(\n",
    "        n_estimators=250,\n",
    "        learning_rate=0.05,\n",
    "        max_depth=3,\n",
    "        random_state=42\n",
    "    ),\n",
    "    'ExtraTrees': ExtraTreesClassifier(\n",
    "        n_estimators=300,\n",
    "        max_features='sqrt',\n",
    "        random_state=42,\n",
    "        n_jobs=-1\n",
    "    )\n",
    "}"
   ]
  },
  {
   "cell_type": "code",
   "execution_count": 188,
   "id": "1afeea35",
   "metadata": {},
   "outputs": [],
   "source": [
    "k          = 10\n",
    "cv         = StratifiedKFold(n_splits=k, shuffle=True, random_state=42)\n",
    "confusion  = {}   # Guardará las matrices de confusión\n",
    "run_times  = {}   # Guardará el tiempo de proceso (s)\n",
    "reports    = {}   # Métricas detalladas\n",
    "best_models = {}\n",
    "\n",
    "for name, clf in models.items():\n",
    "    tic = time.perf_counter()\n",
    "\n",
    "    with parallel_backend('threading'):\n",
    "        y_pred = cross_val_predict(clf, X, y, cv=cv, n_jobs=-1)\n",
    "\n",
    "    toc = time.perf_counter()\n",
    "    run_times[name] = round(toc - tic, 2)\n",
    "\n",
    "    # matriz de confusión\n",
    "    cm_df = pd.DataFrame(\n",
    "        confusion_matrix(y, y_pred),\n",
    "        index=labels, columns=labels\n",
    "    )\n",
    "    confusion[name] = cm_df\n",
    "\n",
    "    # reporte (como DataFrame para evitar truncado)\n",
    "    report_df = pd.DataFrame(\n",
    "        classification_report(\n",
    "            y, y_pred, target_names=labels, output_dict=True\n",
    "        )\n",
    "    ).T\n",
    "    reports[name] = report_df"
   ]
  },
  {
   "cell_type": "code",
   "execution_count": 194,
   "id": "e9316abf",
   "metadata": {},
   "outputs": [
    {
     "name": "stdout",
     "output_type": "stream",
     "text": [
      "================ TIEMPOS DE PROCESAMIENTO ================\n",
      "RandomForest         2.95\n",
      "GradientBoosting    20.45\n",
      "ExtraTrees           3.39\n",
      "Name: segundos, dtype: float64 \n",
      "\n"
     ]
    }
   ],
   "source": [
    "print('================ TIEMPOS DE PROCESAMIENTO ================')\n",
    "print(pd.Series(run_times, name='segundos'), '\\n')"
   ]
  },
  {
   "cell_type": "code",
   "execution_count": 195,
   "id": "41e2c0aa",
   "metadata": {},
   "outputs": [
    {
     "name": "stdout",
     "output_type": "stream",
     "text": [
      "================ RandomForest ================\n",
      "                Agua de mar  Agua dulce  Construcciones  Nubes  Suelo desnudo  \\\n",
      "Agua de mar            1372          29               0      0              1   \n",
      "Agua dulce               37         896               0      0              0   \n",
      "Construcciones            0           0            2189      0             48   \n",
      "Nubes                     0           0               0    469              0   \n",
      "Suelo desnudo             0           0              28      0           1987   \n",
      "Vegetación                0           7               8      0             35   \n",
      "\n",
      "                Vegetación  \n",
      "Agua de mar              1  \n",
      "Agua dulce               3  \n",
      "Construcciones          15  \n",
      "Nubes                    0  \n",
      "Suelo desnudo           44  \n",
      "Vegetación            2083  \n",
      "                precision    recall  f1-score     support\n",
      "Agua de mar      0.973740  0.977904  0.975818  1403.00000\n",
      "Agua dulce       0.961373  0.957265  0.959315   936.00000\n",
      "Construcciones   0.983820  0.972025  0.977887  2252.00000\n",
      "Nubes            1.000000  1.000000  1.000000   469.00000\n",
      "Suelo desnudo    0.959440  0.965032  0.962228  2059.00000\n",
      "Vegetación       0.970643  0.976559  0.973592  2133.00000\n",
      "accuracy         0.972330  0.972330  0.972330     0.97233\n",
      "macro avg        0.974836  0.974797  0.974807  9252.00000\n",
      "weighted avg     0.972377  0.972330  0.972340  9252.00000\n"
     ]
    }
   ],
   "source": [
    "print(f'================ RandomForest ================')\n",
    "print(confusion['RandomForest'])\n",
    "print(reports['RandomForest'])"
   ]
  },
  {
   "cell_type": "code",
   "execution_count": 196,
   "id": "bd6bd4a8",
   "metadata": {},
   "outputs": [
    {
     "name": "stdout",
     "output_type": "stream",
     "text": [
      "================ GradientBoosting ================\n",
      "                Agua de mar  Agua dulce  Construcciones  Nubes  Suelo desnudo  \\\n",
      "Agua de mar            1358          43               0      0              1   \n",
      "Agua dulce               37         890               1      0              3   \n",
      "Construcciones            0           0            2184      0             52   \n",
      "Nubes                     0           0               1    467              1   \n",
      "Suelo desnudo             0           0              37      0           1989   \n",
      "Vegetación                1          10              10      0             33   \n",
      "\n",
      "                Vegetación  \n",
      "Agua de mar              1  \n",
      "Agua dulce               5  \n",
      "Construcciones          16  \n",
      "Nubes                    0  \n",
      "Suelo desnudo           33  \n",
      "Vegetación            2079  \n",
      "                precision    recall  f1-score      support\n",
      "Agua de mar      0.972779  0.967926  0.970347  1403.000000\n",
      "Agua dulce       0.943796  0.950855  0.947312   936.000000\n",
      "Construcciones   0.978056  0.969805  0.973913  2252.000000\n",
      "Nubes            1.000000  0.995736  0.997863   469.000000\n",
      "Suelo desnudo    0.956710  0.966003  0.961334  2059.000000\n",
      "Vegetación       0.974227  0.974684  0.974455  2133.000000\n",
      "accuracy         0.969196  0.969196  0.969196     0.969196\n",
      "macro avg        0.970928  0.970835  0.970871  9252.000000\n",
      "weighted avg     0.969269  0.969196  0.969221  9252.000000\n"
     ]
    }
   ],
   "source": [
    "print(f'================ GradientBoosting ================')\n",
    "print(confusion['GradientBoosting'])\n",
    "print(reports['GradientBoosting'])"
   ]
  },
  {
   "cell_type": "code",
   "execution_count": 197,
   "id": "b70c4527",
   "metadata": {},
   "outputs": [
    {
     "name": "stdout",
     "output_type": "stream",
     "text": [
      "================ ExtraTrees ================\n",
      "                Agua de mar  Agua dulce  Construcciones  Nubes  Suelo desnudo  \\\n",
      "Agua de mar            1390          11               0      0              1   \n",
      "Agua dulce               20         913               0      0              0   \n",
      "Construcciones            0           0            2182      0             52   \n",
      "Nubes                     0           0               0    469              0   \n",
      "Suelo desnudo             0           0              20      0           2005   \n",
      "Vegetación                0           5               7      0             28   \n",
      "\n",
      "                Vegetación  \n",
      "Agua de mar              1  \n",
      "Agua dulce               3  \n",
      "Construcciones          18  \n",
      "Nubes                    0  \n",
      "Suelo desnudo           34  \n",
      "Vegetación            2093  \n",
      "                precision    recall  f1-score      support\n",
      "Agua de mar      0.985816  0.990734  0.988269  1403.000000\n",
      "Agua dulce       0.982777  0.975427  0.979088   936.000000\n",
      "Construcciones   0.987777  0.968917  0.978256  2252.000000\n",
      "Nubes            1.000000  1.000000  1.000000   469.000000\n",
      "Suelo desnudo    0.961170  0.973774  0.967431  2059.000000\n",
      "Vegetación       0.973941  0.981247  0.977581  2133.000000\n",
      "accuracy         0.978383  0.978383  0.978383     0.978383\n",
      "macro avg        0.981914  0.981683  0.981771  9252.000000\n",
      "weighted avg     0.978482  0.978383  0.978396  9252.000000\n"
     ]
    }
   ],
   "source": [
    "print(f'================ ExtraTrees ================')\n",
    "print(confusion['ExtraTrees'])\n",
    "print(reports['ExtraTrees'])"
   ]
  },
  {
   "cell_type": "code",
   "execution_count": 198,
   "id": "47b3d2cc",
   "metadata": {},
   "outputs": [
    {
     "name": "stdout",
     "output_type": "stream",
     "text": [
      "RandomForest almacenado en best_models[\"RandomForest\"]\n",
      "GradientBoosting almacenado en best_models[\"GradientBoosting\"]\n",
      "ExtraTrees almacenado en best_models[\"ExtraTrees\"]\n",
      "\n",
      "Modelos disponibles en memoria: ['RandomForest', 'GradientBoosting', 'ExtraTrees']\n"
     ]
    }
   ],
   "source": [
    "for name, clf in models.items():\n",
    "    clf.fit(X, y)          # usa el 100 % de los datos\n",
    "    best_models[name] = clf        # queda disponible en memoria\n",
    "    print(f'{name} almacenado en best_models[\"{name}\"]')\n",
    "\n",
    "print(\"\\nModelos disponibles en memoria:\", list(best_models.keys()))"
   ]
  },
  {
   "cell_type": "code",
   "execution_count": 204,
   "id": "19ce439d",
   "metadata": {},
   "outputs": [],
   "source": [
    "import rasterio\n",
    "import os\n",
    "\n",
    "def cargar_banda(path):\n",
    "    with rasterio.open(path) as src:\n",
    "        return src.read(), src.profile\n",
    "\n",
    "def clasificar_rasters(path_raiz, best_models, le, feature_order):\n",
    "    \"\"\"\n",
    "    Clasifica cada stack raster en 'path_raiz' con los modelos de best_models.\n",
    "    Devuelve un diccionario de tiempos: {carpeta: {modelo: segs}}.\n",
    "    \"\"\"\n",
    "    \n",
    "    for folder_name in os.listdir(path_raiz):\n",
    "        folder_path = os.path.join(path_raiz, folder_name)\n",
    "        if os.path.isdir(folder_path):\n",
    "            b2 = b3 =b4 = b6 = lst = ndvi = ndbi = None\n",
    "            for file_name in os.listdir(folder_path):\n",
    "                if file_name.endswith(\"B2.TIF\"):\n",
    "                    b2 = os.path.join(folder_path,file_name)\n",
    "                elif file_name.endswith(\"B3.TIF\"):\n",
    "                    b3 = os.path.join(folder_path,file_name)\n",
    "                elif file_name.endswith(\"B4.TIF\"):\n",
    "                    b4 = os.path.join(folder_path,file_name)\n",
    "                elif file_name.endswith(\"B6.TIF\"):\n",
    "                    b6 = os.path.join(folder_path,file_name)                      \n",
    "                elif file_name.endswith(\"LST.TIF\"):\n",
    "                    lst = os.path.join(folder_path,file_name)           \n",
    "                elif file_name.endswith(\"NDVI.TIF\"):\n",
    "                    ndvi = os.path.join(folder_path,file_name)\n",
    "                elif file_name.endswith(\"NDBI.TIF\"):\n",
    "                    ndbi = os.path.join(folder_path,file_name)\n",
    "\n",
    "        # cargar y apilar\n",
    "            b2, profile = cargar_banda(b2)   # 3×H×W\n",
    "            b3, _ = cargar_banda(b3)\n",
    "            b4, _ = cargar_banda(b4)\n",
    "            b6, _ = cargar_banda(b6)\n",
    "            lst, _  = cargar_banda(lst)\n",
    "            ndvi, _ = cargar_banda(ndvi)\n",
    "            ndbi, _ = cargar_banda(ndbi)\n",
    "\n",
    "            assert b2.shape[1:] == b3.shape[1:] == b4.shape[1:] == b6.shape[1:] == lst.shape[1:] == ndvi.shape[1:] == ndbi.shape[1:], \"Las dimensiones no coinciden.\"\n",
    "\n",
    "            multiband = np.concatenate((b2, b3, b4, b6, lst, ndvi, ndbi), axis=0)\n",
    "            num_bands, alto, ancho = multiband.shape\n",
    "        \n",
    "            data = multiband.reshape(num_bands, -1).T\n",
    "            columns = ['banda2', 'banda3', 'banda4', 'banda6', 'lst', 'ndvi', 'ndbi']\n",
    "            df = pd.DataFrame(data, columns=columns)\n",
    "\n",
    "            for name, model in best_models.items():\n",
    "                preds = model.predict(df)\n",
    "                classification = preds.reshape(alto, ancho)\n",
    "\n",
    "                profile.update(dtype=rasterio.uint8, count=1, height=int(alto), width=int(ancho))\n",
    "\n",
    "                with rasterio.open(os.path.join(folder_path,\"{}.TIF\".format(name)), \"w\", **profile) as dst:\n",
    "                    dst.write(classification.astype(np.uint8), 1)\n",
    "                    print(\"Procesado: \", folder_path, \"{}.TIF\".format(name))"
   ]
  },
  {
   "cell_type": "code",
   "execution_count": 207,
   "id": "6186b29b",
   "metadata": {},
   "outputs": [
    {
     "name": "stdout",
     "output_type": "stream",
     "text": [
      "['b2', 'b3', 'b4', 'b6', 'lst', 'ndvi', 'ndbi']\n",
      "Procesado:  /Users/jonny.sanchez/Documents/tesis/8-clasification/santa_marta/LC08_L2SP_009052_20180204_20200902_02_T1 RandomForest.TIF\n",
      "Procesado:  /Users/jonny.sanchez/Documents/tesis/8-clasification/santa_marta/LC08_L2SP_009052_20180204_20200902_02_T1 GradientBoosting.TIF\n",
      "Procesado:  /Users/jonny.sanchez/Documents/tesis/8-clasification/santa_marta/LC08_L2SP_009052_20180204_20200902_02_T1 ExtraTrees.TIF\n",
      "Procesado:  /Users/jonny.sanchez/Documents/tesis/8-clasification/santa_marta/LC08_L2SP_009052_20170116_20200905_02_T1 RandomForest.TIF\n",
      "Procesado:  /Users/jonny.sanchez/Documents/tesis/8-clasification/santa_marta/LC08_L2SP_009052_20170116_20200905_02_T1 GradientBoosting.TIF\n",
      "Procesado:  /Users/jonny.sanchez/Documents/tesis/8-clasification/santa_marta/LC08_L2SP_009052_20170116_20200905_02_T1 ExtraTrees.TIF\n",
      "Procesado:  /Users/jonny.sanchez/Documents/tesis/8-clasification/santa_marta/LC08_L2SP_009052_20150401_20200909_02_T1 RandomForest.TIF\n",
      "Procesado:  /Users/jonny.sanchez/Documents/tesis/8-clasification/santa_marta/LC08_L2SP_009052_20150401_20200909_02_T1 GradientBoosting.TIF\n",
      "Procesado:  /Users/jonny.sanchez/Documents/tesis/8-clasification/santa_marta/LC08_L2SP_009052_20150401_20200909_02_T1 ExtraTrees.TIF\n",
      "Procesado:  /Users/jonny.sanchez/Documents/tesis/8-clasification/santa_marta/LC08_L2SP_009052_20200329_20200822_02_T1 RandomForest.TIF\n",
      "Procesado:  /Users/jonny.sanchez/Documents/tesis/8-clasification/santa_marta/LC08_L2SP_009052_20200329_20200822_02_T1 GradientBoosting.TIF\n",
      "Procesado:  /Users/jonny.sanchez/Documents/tesis/8-clasification/santa_marta/LC08_L2SP_009052_20200329_20200822_02_T1 ExtraTrees.TIF\n",
      "Procesado:  /Users/jonny.sanchez/Documents/tesis/8-clasification/santa_marta/LC08_L2SP_009052_20240120_20240129_02_T1 RandomForest.TIF\n",
      "Procesado:  /Users/jonny.sanchez/Documents/tesis/8-clasification/santa_marta/LC08_L2SP_009052_20240120_20240129_02_T1 GradientBoosting.TIF\n",
      "Procesado:  /Users/jonny.sanchez/Documents/tesis/8-clasification/santa_marta/LC08_L2SP_009052_20240120_20240129_02_T1 ExtraTrees.TIF\n",
      "Procesado:  /Users/jonny.sanchez/Documents/tesis/8-clasification/santa_marta/LC09_L2SP_009052_20220223_20230427_02_T1 RandomForest.TIF\n",
      "Procesado:  /Users/jonny.sanchez/Documents/tesis/8-clasification/santa_marta/LC09_L2SP_009052_20220223_20230427_02_T1 GradientBoosting.TIF\n",
      "Procesado:  /Users/jonny.sanchez/Documents/tesis/8-clasification/santa_marta/LC09_L2SP_009052_20220223_20230427_02_T1 ExtraTrees.TIF\n",
      "Procesado:  /Users/jonny.sanchez/Documents/tesis/8-clasification/santa_marta/LC08_L2SP_009052_20210212_20220526_02_T1 RandomForest.TIF\n",
      "Procesado:  /Users/jonny.sanchez/Documents/tesis/8-clasification/santa_marta/LC08_L2SP_009052_20210212_20220526_02_T1 GradientBoosting.TIF\n",
      "Procesado:  /Users/jonny.sanchez/Documents/tesis/8-clasification/santa_marta/LC08_L2SP_009052_20210212_20220526_02_T1 ExtraTrees.TIF\n",
      "Procesado:  /Users/jonny.sanchez/Documents/tesis/8-clasification/santa_marta/LC08_L2SP_009052_20230117_20230131_02_T1 RandomForest.TIF\n",
      "Procesado:  /Users/jonny.sanchez/Documents/tesis/8-clasification/santa_marta/LC08_L2SP_009052_20230117_20230131_02_T1 GradientBoosting.TIF\n",
      "Procesado:  /Users/jonny.sanchez/Documents/tesis/8-clasification/santa_marta/LC08_L2SP_009052_20230117_20230131_02_T1 ExtraTrees.TIF\n",
      "Procesado:  /Users/jonny.sanchez/Documents/tesis/8-clasification/santa_marta/LC08_L2SP_009052_20160114_20200907_02_T1 RandomForest.TIF\n",
      "Procesado:  /Users/jonny.sanchez/Documents/tesis/8-clasification/santa_marta/LC08_L2SP_009052_20160114_20200907_02_T1 GradientBoosting.TIF\n",
      "Procesado:  /Users/jonny.sanchez/Documents/tesis/8-clasification/santa_marta/LC08_L2SP_009052_20160114_20200907_02_T1 ExtraTrees.TIF\n",
      "Procesado:  /Users/jonny.sanchez/Documents/tesis/8-clasification/santa_marta/LC08_L2SP_009052_20190106_20200830_02_T1 RandomForest.TIF\n",
      "Procesado:  /Users/jonny.sanchez/Documents/tesis/8-clasification/santa_marta/LC08_L2SP_009052_20190106_20200830_02_T1 GradientBoosting.TIF\n",
      "Procesado:  /Users/jonny.sanchez/Documents/tesis/8-clasification/santa_marta/LC08_L2SP_009052_20190106_20200830_02_T1 ExtraTrees.TIF\n"
     ]
    }
   ],
   "source": [
    "path = '/Users/jonny.sanchez/Documents/tesis/8-clasification/santa_marta'\n",
    "feature_order = list(X.columns)    # ['banda1', 'banda2', 'banda3', 'lst','ndwi', 'ndvi', 'ndbi']\n",
    "print(feature_order)\n",
    "clasificar_rasters(\n",
    "    path_raiz     = path,\n",
    "    best_models   = best_models,   # RandomForest, GradientBoosting, ExtraTrees\n",
    "    le            = le,           # LabelEncoder con las clases\n",
    "    feature_order = feature_order\n",
    ")"
   ]
  },
  {
   "cell_type": "code",
   "execution_count": 76,
   "id": "5d80c6eb",
   "metadata": {},
   "outputs": [
    {
     "name": "stdout",
     "output_type": "stream",
     "text": [
      "Codificación de 'cobertura': {'Agua de mar': 0, 'Agua dulce': 1, 'Construcciones': 2, 'Nubes': 3, 'Suelo desnudo': 4, 'Vegetación': 5}\n"
     ]
    }
   ],
   "source": [
    "mapping = dict(zip(le.classes_, range(len(le.classes_))))\n",
    "print(\"Codificación de 'cobertura':\", mapping)"
   ]
  }
 ],
 "metadata": {
  "kernelspec": {
   "display_name": "Python 3",
   "language": "python",
   "name": "python3"
  },
  "language_info": {
   "codemirror_mode": {
    "name": "ipython",
    "version": 3
   },
   "file_extension": ".py",
   "mimetype": "text/x-python",
   "name": "python",
   "nbconvert_exporter": "python",
   "pygments_lexer": "ipython3",
   "version": "3.13.7"
  }
 },
 "nbformat": 4,
 "nbformat_minor": 5
}
