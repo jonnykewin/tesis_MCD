{
 "cells": [
  {
   "cell_type": "code",
   "execution_count": 1,
   "id": "4ebe0e57",
   "metadata": {},
   "outputs": [],
   "source": [
    "import os\n",
    "from pathlib import Path\n",
    "import numpy as np\n",
    "import rasterio\n",
    "from rasterio.mask import mask\n",
    "from shapely.geometry import mapping\n",
    "\n",
    "# --- GeoDataFrames si está disponible (reproyección), si no: fiona (sin reproyección) ---\n",
    "try:\n",
    "    import geopandas as gpd\n",
    "    _HAVE_GPD = True\n",
    "except Exception:\n",
    "    import fiona\n",
    "    _HAVE_GPD = False\n",
    "\n",
    "\n",
    "# 1) Buscar escenas ya procesadas (donde existen outputs raster)\n",
    "def buscar_escenas_con_outputs(root_rasters: Path):\n",
    "    \"\"\"\n",
    "    Recorre recursivamente root_rasters y devuelve una lista de dicts:\n",
    "    {\"carpeta\": Path, \"ICU_intensity\": Path|None, \"ICU_mask\": Path|None, \"DeltaT\": Path|None}\n",
    "    \"\"\"\n",
    "    root_rasters = Path(root_rasters)\n",
    "    escenas = []\n",
    "    for r, d, files in os.walk(root_rasters):\n",
    "        files_set_lower = {f.lower() for f in files}\n",
    "        if \"icu_intensity.tif\" in files_set_lower:\n",
    "            folder = Path(r)\n",
    "            def _p(name):\n",
    "                for f in files:\n",
    "                    if f.lower() == name.lower():\n",
    "                        return folder / f\n",
    "                return None\n",
    "            escenas.append({\n",
    "                \"carpeta\": folder,\n",
    "                \"ICU_intensity\": _p(\"ICU_intensity.TIF\"),\n",
    "                \"ICU_mask\": _p(\"ICU_mask.TIF\"),\n",
    "                \"DeltaT\": _p(\"DeltaT.TIF\"),\n",
    "            })\n",
    "    return escenas\n",
    "\n",
    "\n",
    "# 2) Indexar GPKG de límites en otra carpeta\n",
    "def indexar_gpkgs(gpkg_root: Path):\n",
    "    \"\"\"\n",
    "    Recorre recursivamente gpkg_root y devuelve lista de todos los .gpkg que contengan 'limite' en el nombre.\n",
    "    \"\"\"\n",
    "    gpkg_root = Path(gpkg_root)\n",
    "    lista = []\n",
    "    for r, d, files in os.walk(gpkg_root):\n",
    "        for f in files:\n",
    "            if f.lower().endswith(\".gpkg\") and \"limite\" in f.lower():\n",
    "                lista.append(Path(r) / f)\n",
    "    return lista\n",
    "\n",
    "\n",
    "# 3) Elegir el GPKG por escena (por nombre de ciudad = carpeta padre de la escena)\n",
    "def elegir_gpkg_para_escena(scene_folder: Path, gpkg_paths: list[Path]):\n",
    "    \"\"\"\n",
    "    Intenta emparejar por nombre de ciudad (carpeta padre de la escena).\n",
    "    Si hay 1 solo gpkg en total, usa ese.\n",
    "    Si hay varios y no matchea, lanza error (mejor pedir override).\n",
    "    \"\"\"\n",
    "    city = scene_folder.parent.name.lower()  # p.ej. cartagena / barranquilla\n",
    "    if not gpkg_paths:\n",
    "        raise FileNotFoundError(\"No se encontraron GPKG de límite en la carpeta indicada.\")\n",
    "\n",
    "    # 1) Coincidencia por nombre de ciudad en el path del GPKG\n",
    "    candidatos = [g for g in gpkg_paths if city in str(g.parent).lower() or city in g.name.lower()]\n",
    "    if len(candidatos) == 1:\n",
    "        return candidatos[0]\n",
    "    if len(candidatos) > 1:\n",
    "        # Si hay varios, elige el de carpeta más cercana (path más corto) o el más recientemente modificado\n",
    "        candidatos.sort(key=lambda p: (len(str(p).split(os.sep)), -p.stat().st_mtime))\n",
    "        return candidatos[0]\n",
    "\n",
    "    # 2) Si no hubo match y solo hay 1 gpkg total, usa ese\n",
    "    if len(gpkg_paths) == 1:\n",
    "        return gpkg_paths[0]\n",
    "\n",
    "    # 3) No se pudo decidir\n",
    "    raise ValueError(f\"No se pudo elegir un GPKG para la escena '{scene_folder.name}'. \"\n",
    "                     f\"Provee gpkg_override o acomoda nombres/carpeta por ciudad.\")\n",
    "\n",
    "\n",
    "# Helper: leer geometrías del GPKG en el CRS del raster\n",
    "def _geoms_en_crs(gpkg_path: Path, dst_crs):\n",
    "    if _HAVE_GPD:\n",
    "        gdf = gpd.read_file(gpkg_path)\n",
    "        if gdf.empty:\n",
    "            raise ValueError(f\"El GPKG {gpkg_path} no tiene geometrías.\")\n",
    "        gdf = gdf.to_crs(dst_crs)\n",
    "        geom_union = gdf.unary_union\n",
    "        if geom_union.is_empty:\n",
    "            raise ValueError(f\"Geometría vacía tras reproyección: {gpkg_path}\")\n",
    "        if geom_union.geom_type == \"MultiPolygon\":\n",
    "            return [mapping(g) for g in geom_union.geoms]\n",
    "        return [mapping(geom_union)]\n",
    "    else:\n",
    "        # Fallback: se asume que el CRS ya coincide (no reproyecta)\n",
    "        with fiona.open(gpkg_path) as src:\n",
    "            if src.crs is None:\n",
    "                raise ValueError(f\"El GPKG {gpkg_path} no tiene CRS definido.\")\n",
    "            return [feat[\"geometry\"] for feat in src]\n",
    "\n",
    "\n",
    "# 4) Clip genérico de un raster contra un límite (lista de shapes)\n",
    "def _clip_raster(in_tif: Path, shapes, out_tif: Path, nodata_default=None, compress=\"lzw\"):\n",
    "    in_tif = Path(in_tif)\n",
    "    out_tif = Path(out_tif)\n",
    "    out_tif.parent.mkdir(parents=True, exist_ok=True)\n",
    "\n",
    "    with rasterio.open(in_tif) as src:\n",
    "        try:\n",
    "            out_img, out_transform = mask(\n",
    "                src, shapes, crop=True, nodata=(src.nodata if src.nodata is not None else nodata_default)\n",
    "            )\n",
    "        except ValueError as e:\n",
    "            print(f\"ℹ️ Clip omitido ({in_tif.name}): {e}\")\n",
    "            return None\n",
    "\n",
    "        meta = src.meta.copy()\n",
    "        meta.update({\n",
    "            \"height\": out_img.shape[1],\n",
    "            \"width\":  out_img.shape[2],\n",
    "            \"transform\": out_transform,\n",
    "            \"compress\": compress\n",
    "        })\n",
    "        if nodata_default is not None and (meta.get(\"nodata\") is None):\n",
    "            meta.update({\"nodata\": nodata_default})\n",
    "\n",
    "    with rasterio.open(out_tif, \"w\", **meta) as dst:\n",
    "        dst.write(out_img)\n",
    "    print(f\"✂️  {out_tif.name} escrito en {out_tif.parent}\")\n",
    "    return out_tif\n",
    "\n",
    "\n",
    "# 5) Clip de outputs de una escena (paths pueden estar en otra raíz)\n",
    "def clip_outputs_de_escena(scene: dict, gpkg_path: Path, out_dir: Path | None = None):\n",
    "    \"\"\"\n",
    "    scene: {\"carpeta\": Path, \"ICU_intensity\": Path|None, \"ICU_mask\": Path|None, \"DeltaT\": Path|None}\n",
    "    gpkg_path: GPKG del límite (puede estar en otra ruta).\n",
    "    out_dir: carpeta destino para los *_clip.TIF. Por defecto, la carpeta de la escena.\n",
    "    \"\"\"\n",
    "    carpeta = Path(scene[\"carpeta\"])\n",
    "    out_dir = Path(out_dir) if out_dir else carpeta      # <-- guardar en la carpeta de la escena\n",
    "    out_dir.mkdir(parents=True, exist_ok=True)\n",
    "\n",
    "    resultados = {}\n",
    "\n",
    "    def _clip_one(in_path: Path, out_name: str, nodata_default):\n",
    "        if in_path is None or not Path(in_path).exists():\n",
    "            return None\n",
    "        with rasterio.open(in_path) as src:\n",
    "            shapes = _geoms_en_crs(gpkg_path, src.crs)\n",
    "\n",
    "            out_img, out_transform = mask(\n",
    "                src, shapes, crop=True,\n",
    "                nodata=(src.nodata if src.nodata is not None else nodata_default)\n",
    "            )\n",
    "            meta = src.meta.copy()\n",
    "            meta.update({\n",
    "                \"height\": out_img.shape[1],\n",
    "                \"width\":  out_img.shape[2],\n",
    "                \"transform\": out_transform,\n",
    "                \"compress\": \"lzw\"\n",
    "            })\n",
    "            if nodata_default is not None and (meta.get(\"nodata\") is None):\n",
    "                meta.update({\"nodata\": nodata_default})\n",
    "\n",
    "        out_path = out_dir / out_name                    # <-- aquí cambia el destino\n",
    "        with rasterio.open(out_path, \"w\", **meta) as dst:\n",
    "            dst.write(out_img)\n",
    "        print(f\"✂️  {out_name} escrito en {out_path}\")\n",
    "        return out_path\n",
    "\n",
    "    if scene.get(\"DeltaT\"):\n",
    "        resultados[\"DeltaT_clip\"] = str(_clip_one(scene[\"DeltaT\"], \"DeltaT_clip.TIF\", nodata_default=np.nan) or \"\")\n",
    "    if scene.get(\"ICU_mask\"):\n",
    "        resultados[\"ICU_mask_clip\"] = str(_clip_one(scene[\"ICU_mask\"], \"ICU_mask_clip.TIF\", nodata_default=0) or \"\")\n",
    "    if scene.get(\"ICU_intensity\"):\n",
    "        resultados[\"ICU_intensity_clip\"] = str(_clip_one(scene[\"ICU_intensity\"], \"ICU_intensity_clip.TIF\", nodata_default=0) or \"\")\n",
    "\n",
    "    return resultados\n",
    "\n",
    "\n",
    "\n",
    "# 6) Orquestador: raíz de ráster distinta a raíz de GPKG\n",
    "def clip_lote(root_rasters: Path, gpkg_root: Path, gpkg_override: Path | None = None):\n",
    "    \"\"\"\n",
    "    - root_rasters: raíz donde están todas las escenas con ICU_intensity/ICU_mask/DeltaT.\n",
    "    - gpkg_root: raíz donde están los GPKG (pueden estar en subcarpetas por ciudad).\n",
    "    - gpkg_override: si lo pasas, usa ese mismo GPKG para todas las escenas.\n",
    "    \"\"\"\n",
    "    escenas = buscar_escenas_con_outputs(root_rasters)\n",
    "    print(f\"🔎 Escenas con outputs encontradas: {len(escenas)}\")\n",
    "    if not escenas:\n",
    "        return []\n",
    "\n",
    "    if gpkg_override:\n",
    "        gpkg_paths = [Path(gpkg_override)]\n",
    "    else:\n",
    "        gpkg_paths = indexar_gpkgs(gpkg_root)\n",
    "\n",
    "    resultados_global = []\n",
    "    for sc in escenas:\n",
    "        try:\n",
    "            gpkg = Path(gpkg_override) if gpkg_override else elegir_gpkg_para_escena(sc[\"carpeta\"], gpkg_paths)\n",
    "            res = clip_outputs_de_escena(sc, gpkg)\n",
    "            resultados_global.append({\"carpeta\": str(sc[\"carpeta\"]), \"gpkg\": str(gpkg), **res})\n",
    "        except Exception as e:\n",
    "            print(f\"⚠️  Error clip en {sc['carpeta'].name}: {e}\")\n",
    "            resultados_global.append({\"carpeta\": str(sc[\"carpeta\"]), \"gpkg\": None, \"error\": str(e)})\n",
    "    return resultados_global\n"
   ]
  },
  {
   "cell_type": "code",
   "execution_count": 2,
   "id": "a87e3090",
   "metadata": {},
   "outputs": [
    {
     "name": "stdout",
     "output_type": "stream",
     "text": [
      "🔎 Escenas con outputs encontradas: 10\n"
     ]
    },
    {
     "name": "stderr",
     "output_type": "stream",
     "text": [
      "/tmp/ipykernel_325139/3622724031.py:93: DeprecationWarning: The 'unary_union' attribute is deprecated, use the 'union_all()' method instead.\n",
      "  geom_union = gdf.unary_union\n",
      "/tmp/ipykernel_325139/3622724031.py:93: DeprecationWarning: The 'unary_union' attribute is deprecated, use the 'union_all()' method instead.\n",
      "  geom_union = gdf.unary_union\n",
      "/tmp/ipykernel_325139/3622724031.py:93: DeprecationWarning: The 'unary_union' attribute is deprecated, use the 'union_all()' method instead.\n",
      "  geom_union = gdf.unary_union\n",
      "/tmp/ipykernel_325139/3622724031.py:93: DeprecationWarning: The 'unary_union' attribute is deprecated, use the 'union_all()' method instead.\n",
      "  geom_union = gdf.unary_union\n"
     ]
    },
    {
     "name": "stdout",
     "output_type": "stream",
     "text": [
      "✂️  DeltaT_clip.TIF escrito en /home/rohi/Downloads/maestria/10-heat_island/barranquilla/LC08_L2SP_009052_20210212_20220526_02_T1/DeltaT_clip.TIF\n",
      "✂️  ICU_mask_clip.TIF escrito en /home/rohi/Downloads/maestria/10-heat_island/barranquilla/LC08_L2SP_009052_20210212_20220526_02_T1/ICU_mask_clip.TIF\n",
      "✂️  ICU_intensity_clip.TIF escrito en /home/rohi/Downloads/maestria/10-heat_island/barranquilla/LC08_L2SP_009052_20210212_20220526_02_T1/ICU_intensity_clip.TIF\n",
      "✂️  DeltaT_clip.TIF escrito en /home/rohi/Downloads/maestria/10-heat_island/barranquilla/LC08_L2SP_009052_20160114_20200907_02_T1/DeltaT_clip.TIF\n"
     ]
    },
    {
     "name": "stderr",
     "output_type": "stream",
     "text": [
      "/tmp/ipykernel_325139/3622724031.py:93: DeprecationWarning: The 'unary_union' attribute is deprecated, use the 'union_all()' method instead.\n",
      "  geom_union = gdf.unary_union\n",
      "/tmp/ipykernel_325139/3622724031.py:93: DeprecationWarning: The 'unary_union' attribute is deprecated, use the 'union_all()' method instead.\n",
      "  geom_union = gdf.unary_union\n",
      "/tmp/ipykernel_325139/3622724031.py:93: DeprecationWarning: The 'unary_union' attribute is deprecated, use the 'union_all()' method instead.\n",
      "  geom_union = gdf.unary_union\n",
      "/tmp/ipykernel_325139/3622724031.py:93: DeprecationWarning: The 'unary_union' attribute is deprecated, use the 'union_all()' method instead.\n",
      "  geom_union = gdf.unary_union\n",
      "/tmp/ipykernel_325139/3622724031.py:93: DeprecationWarning: The 'unary_union' attribute is deprecated, use the 'union_all()' method instead.\n",
      "  geom_union = gdf.unary_union\n"
     ]
    },
    {
     "name": "stdout",
     "output_type": "stream",
     "text": [
      "✂️  ICU_mask_clip.TIF escrito en /home/rohi/Downloads/maestria/10-heat_island/barranquilla/LC08_L2SP_009052_20160114_20200907_02_T1/ICU_mask_clip.TIF\n",
      "✂️  ICU_intensity_clip.TIF escrito en /home/rohi/Downloads/maestria/10-heat_island/barranquilla/LC08_L2SP_009052_20160114_20200907_02_T1/ICU_intensity_clip.TIF\n",
      "✂️  DeltaT_clip.TIF escrito en /home/rohi/Downloads/maestria/10-heat_island/barranquilla/LC08_L2SP_009052_20230117_20230131_02_T1/DeltaT_clip.TIF\n",
      "✂️  ICU_mask_clip.TIF escrito en /home/rohi/Downloads/maestria/10-heat_island/barranquilla/LC08_L2SP_009052_20230117_20230131_02_T1/ICU_mask_clip.TIF\n",
      "✂️  ICU_intensity_clip.TIF escrito en /home/rohi/Downloads/maestria/10-heat_island/barranquilla/LC08_L2SP_009052_20230117_20230131_02_T1/ICU_intensity_clip.TIF\n"
     ]
    },
    {
     "name": "stderr",
     "output_type": "stream",
     "text": [
      "/tmp/ipykernel_325139/3622724031.py:93: DeprecationWarning: The 'unary_union' attribute is deprecated, use the 'union_all()' method instead.\n",
      "  geom_union = gdf.unary_union\n",
      "/tmp/ipykernel_325139/3622724031.py:93: DeprecationWarning: The 'unary_union' attribute is deprecated, use the 'union_all()' method instead.\n",
      "  geom_union = gdf.unary_union\n",
      "/tmp/ipykernel_325139/3622724031.py:93: DeprecationWarning: The 'unary_union' attribute is deprecated, use the 'union_all()' method instead.\n",
      "  geom_union = gdf.unary_union\n",
      "/tmp/ipykernel_325139/3622724031.py:93: DeprecationWarning: The 'unary_union' attribute is deprecated, use the 'union_all()' method instead.\n",
      "  geom_union = gdf.unary_union\n"
     ]
    },
    {
     "name": "stdout",
     "output_type": "stream",
     "text": [
      "✂️  DeltaT_clip.TIF escrito en /home/rohi/Downloads/maestria/10-heat_island/barranquilla/LC08_L2SP_009052_20240120_20240129_02_T1/DeltaT_clip.TIF\n",
      "✂️  ICU_mask_clip.TIF escrito en /home/rohi/Downloads/maestria/10-heat_island/barranquilla/LC08_L2SP_009052_20240120_20240129_02_T1/ICU_mask_clip.TIF\n",
      "✂️  ICU_intensity_clip.TIF escrito en /home/rohi/Downloads/maestria/10-heat_island/barranquilla/LC08_L2SP_009052_20240120_20240129_02_T1/ICU_intensity_clip.TIF\n",
      "✂️  DeltaT_clip.TIF escrito en /home/rohi/Downloads/maestria/10-heat_island/barranquilla/LC08_L2SP_009052_20150401_20200909_02_T1/DeltaT_clip.TIF\n",
      "✂️  ICU_mask_clip.TIF escrito en /home/rohi/Downloads/maestria/10-heat_island/barranquilla/LC08_L2SP_009052_20150401_20200909_02_T1/ICU_mask_clip.TIF\n"
     ]
    },
    {
     "name": "stderr",
     "output_type": "stream",
     "text": [
      "/tmp/ipykernel_325139/3622724031.py:93: DeprecationWarning: The 'unary_union' attribute is deprecated, use the 'union_all()' method instead.\n",
      "  geom_union = gdf.unary_union\n",
      "/tmp/ipykernel_325139/3622724031.py:93: DeprecationWarning: The 'unary_union' attribute is deprecated, use the 'union_all()' method instead.\n",
      "  geom_union = gdf.unary_union\n",
      "/tmp/ipykernel_325139/3622724031.py:93: DeprecationWarning: The 'unary_union' attribute is deprecated, use the 'union_all()' method instead.\n",
      "  geom_union = gdf.unary_union\n",
      "/tmp/ipykernel_325139/3622724031.py:93: DeprecationWarning: The 'unary_union' attribute is deprecated, use the 'union_all()' method instead.\n",
      "  geom_union = gdf.unary_union\n",
      "/tmp/ipykernel_325139/3622724031.py:93: DeprecationWarning: The 'unary_union' attribute is deprecated, use the 'union_all()' method instead.\n",
      "  geom_union = gdf.unary_union\n"
     ]
    },
    {
     "name": "stdout",
     "output_type": "stream",
     "text": [
      "✂️  ICU_intensity_clip.TIF escrito en /home/rohi/Downloads/maestria/10-heat_island/barranquilla/LC08_L2SP_009052_20150401_20200909_02_T1/ICU_intensity_clip.TIF\n",
      "✂️  DeltaT_clip.TIF escrito en /home/rohi/Downloads/maestria/10-heat_island/barranquilla/LC08_L2SP_009052_20170116_20200905_02_T1/DeltaT_clip.TIF\n",
      "✂️  ICU_mask_clip.TIF escrito en /home/rohi/Downloads/maestria/10-heat_island/barranquilla/LC08_L2SP_009052_20170116_20200905_02_T1/ICU_mask_clip.TIF\n",
      "✂️  ICU_intensity_clip.TIF escrito en /home/rohi/Downloads/maestria/10-heat_island/barranquilla/LC08_L2SP_009052_20170116_20200905_02_T1/ICU_intensity_clip.TIF\n"
     ]
    },
    {
     "name": "stderr",
     "output_type": "stream",
     "text": [
      "/tmp/ipykernel_325139/3622724031.py:93: DeprecationWarning: The 'unary_union' attribute is deprecated, use the 'union_all()' method instead.\n",
      "  geom_union = gdf.unary_union\n",
      "/tmp/ipykernel_325139/3622724031.py:93: DeprecationWarning: The 'unary_union' attribute is deprecated, use the 'union_all()' method instead.\n",
      "  geom_union = gdf.unary_union\n",
      "/tmp/ipykernel_325139/3622724031.py:93: DeprecationWarning: The 'unary_union' attribute is deprecated, use the 'union_all()' method instead.\n",
      "  geom_union = gdf.unary_union\n",
      "/tmp/ipykernel_325139/3622724031.py:93: DeprecationWarning: The 'unary_union' attribute is deprecated, use the 'union_all()' method instead.\n",
      "  geom_union = gdf.unary_union\n"
     ]
    },
    {
     "name": "stdout",
     "output_type": "stream",
     "text": [
      "✂️  DeltaT_clip.TIF escrito en /home/rohi/Downloads/maestria/10-heat_island/barranquilla/LC09_L2SP_009052_20220223_20230427_02_T1/DeltaT_clip.TIF\n",
      "✂️  ICU_mask_clip.TIF escrito en /home/rohi/Downloads/maestria/10-heat_island/barranquilla/LC09_L2SP_009052_20220223_20230427_02_T1/ICU_mask_clip.TIF\n",
      "✂️  ICU_intensity_clip.TIF escrito en /home/rohi/Downloads/maestria/10-heat_island/barranquilla/LC09_L2SP_009052_20220223_20230427_02_T1/ICU_intensity_clip.TIF\n",
      "✂️  DeltaT_clip.TIF escrito en /home/rohi/Downloads/maestria/10-heat_island/barranquilla/LC08_L2SP_009052_20190106_20200830_02_T1/DeltaT_clip.TIF\n"
     ]
    },
    {
     "name": "stderr",
     "output_type": "stream",
     "text": [
      "/tmp/ipykernel_325139/3622724031.py:93: DeprecationWarning: The 'unary_union' attribute is deprecated, use the 'union_all()' method instead.\n",
      "  geom_union = gdf.unary_union\n",
      "/tmp/ipykernel_325139/3622724031.py:93: DeprecationWarning: The 'unary_union' attribute is deprecated, use the 'union_all()' method instead.\n",
      "  geom_union = gdf.unary_union\n",
      "/tmp/ipykernel_325139/3622724031.py:93: DeprecationWarning: The 'unary_union' attribute is deprecated, use the 'union_all()' method instead.\n",
      "  geom_union = gdf.unary_union\n",
      "/tmp/ipykernel_325139/3622724031.py:93: DeprecationWarning: The 'unary_union' attribute is deprecated, use the 'union_all()' method instead.\n",
      "  geom_union = gdf.unary_union\n",
      "/tmp/ipykernel_325139/3622724031.py:93: DeprecationWarning: The 'unary_union' attribute is deprecated, use the 'union_all()' method instead.\n",
      "  geom_union = gdf.unary_union\n"
     ]
    },
    {
     "name": "stdout",
     "output_type": "stream",
     "text": [
      "✂️  ICU_mask_clip.TIF escrito en /home/rohi/Downloads/maestria/10-heat_island/barranquilla/LC08_L2SP_009052_20190106_20200830_02_T1/ICU_mask_clip.TIF\n",
      "✂️  ICU_intensity_clip.TIF escrito en /home/rohi/Downloads/maestria/10-heat_island/barranquilla/LC08_L2SP_009052_20190106_20200830_02_T1/ICU_intensity_clip.TIF\n",
      "✂️  DeltaT_clip.TIF escrito en /home/rohi/Downloads/maestria/10-heat_island/barranquilla/LC08_L2SP_009052_20200329_20200822_02_T1/DeltaT_clip.TIF\n",
      "✂️  ICU_mask_clip.TIF escrito en /home/rohi/Downloads/maestria/10-heat_island/barranquilla/LC08_L2SP_009052_20200329_20200822_02_T1/ICU_mask_clip.TIF\n",
      "✂️  ICU_intensity_clip.TIF escrito en /home/rohi/Downloads/maestria/10-heat_island/barranquilla/LC08_L2SP_009052_20200329_20200822_02_T1/ICU_intensity_clip.TIF\n",
      "✂️  DeltaT_clip.TIF escrito en /home/rohi/Downloads/maestria/10-heat_island/barranquilla/LC08_L2SP_009052_20180204_20200902_02_T1/DeltaT_clip.TIF\n",
      "✂️  ICU_mask_clip.TIF escrito en /home/rohi/Downloads/maestria/10-heat_island/barranquilla/LC08_L2SP_009052_20180204_20200902_02_T1/ICU_mask_clip.TIF\n",
      "✂️  ICU_intensity_clip.TIF escrito en /home/rohi/Downloads/maestria/10-heat_island/barranquilla/LC08_L2SP_009052_20180204_20200902_02_T1/ICU_intensity_clip.TIF\n"
     ]
    },
    {
     "name": "stderr",
     "output_type": "stream",
     "text": [
      "/tmp/ipykernel_325139/3622724031.py:93: DeprecationWarning: The 'unary_union' attribute is deprecated, use the 'union_all()' method instead.\n",
      "  geom_union = gdf.unary_union\n",
      "/tmp/ipykernel_325139/3622724031.py:93: DeprecationWarning: The 'unary_union' attribute is deprecated, use the 'union_all()' method instead.\n",
      "  geom_union = gdf.unary_union\n",
      "/tmp/ipykernel_325139/3622724031.py:93: DeprecationWarning: The 'unary_union' attribute is deprecated, use the 'union_all()' method instead.\n",
      "  geom_union = gdf.unary_union\n"
     ]
    }
   ],
   "source": [
    "root_rasters = Path(\"/home/rohi/Downloads/maestria/10-heat_island/barranquilla\")     # donde están las escenas con outputs\n",
    "gpkg_root    = Path(\"/home/rohi/Downloads/maestria/limites/barranquilla\")     # donde están los .gpkg (en subcarpetas por ciudad, por ej.)\n",
    "\n",
    "# A) Emparejar por ciudad automáticamente\n",
    "resultados = clip_lote(root_rasters, gpkg_root)\n",
    "# resultados es una lista de dicts con rutas *_clip.TIF o errores\n",
    "\n",
    "# B) Usar SIEMPRE el mismo GPKG para todas las escenas (override)\n",
    "# resultados = clip_lote(root_rasters, gpkg_root, gpkg_override=Path(\"/ruta/a/LIMITES/limite.gpkg\"))\n"
   ]
  },
  {
   "cell_type": "code",
   "execution_count": 3,
   "id": "6036980d",
   "metadata": {},
   "outputs": [
    {
     "name": "stdout",
     "output_type": "stream",
     "text": [
      "🔎 Escenas con outputs encontradas: 10\n",
      "✂️  DeltaT_clip.TIF escrito en /home/rohi/Downloads/maestria/10-heat_island/cartagena/LC08_L2SP_009053_20200329_20200822_02_T1/DeltaT_clip.TIF\n"
     ]
    },
    {
     "name": "stderr",
     "output_type": "stream",
     "text": [
      "/tmp/ipykernel_325139/3622724031.py:93: DeprecationWarning: The 'unary_union' attribute is deprecated, use the 'union_all()' method instead.\n",
      "  geom_union = gdf.unary_union\n",
      "/tmp/ipykernel_325139/3622724031.py:93: DeprecationWarning: The 'unary_union' attribute is deprecated, use the 'union_all()' method instead.\n",
      "  geom_union = gdf.unary_union\n"
     ]
    },
    {
     "name": "stdout",
     "output_type": "stream",
     "text": [
      "✂️  ICU_mask_clip.TIF escrito en /home/rohi/Downloads/maestria/10-heat_island/cartagena/LC08_L2SP_009053_20200329_20200822_02_T1/ICU_mask_clip.TIF\n",
      "✂️  ICU_intensity_clip.TIF escrito en /home/rohi/Downloads/maestria/10-heat_island/cartagena/LC08_L2SP_009053_20200329_20200822_02_T1/ICU_intensity_clip.TIF\n"
     ]
    },
    {
     "name": "stderr",
     "output_type": "stream",
     "text": [
      "/tmp/ipykernel_325139/3622724031.py:93: DeprecationWarning: The 'unary_union' attribute is deprecated, use the 'union_all()' method instead.\n",
      "  geom_union = gdf.unary_union\n",
      "/tmp/ipykernel_325139/3622724031.py:93: DeprecationWarning: The 'unary_union' attribute is deprecated, use the 'union_all()' method instead.\n",
      "  geom_union = gdf.unary_union\n"
     ]
    },
    {
     "name": "stdout",
     "output_type": "stream",
     "text": [
      "✂️  DeltaT_clip.TIF escrito en /home/rohi/Downloads/maestria/10-heat_island/cartagena/LC08_L2SP_009053_20240120_20240129_02_T1/DeltaT_clip.TIF\n",
      "✂️  ICU_mask_clip.TIF escrito en /home/rohi/Downloads/maestria/10-heat_island/cartagena/LC08_L2SP_009053_20240120_20240129_02_T1/ICU_mask_clip.TIF\n",
      "✂️  ICU_intensity_clip.TIF escrito en /home/rohi/Downloads/maestria/10-heat_island/cartagena/LC08_L2SP_009053_20240120_20240129_02_T1/ICU_intensity_clip.TIF\n"
     ]
    },
    {
     "name": "stderr",
     "output_type": "stream",
     "text": [
      "/tmp/ipykernel_325139/3622724031.py:93: DeprecationWarning: The 'unary_union' attribute is deprecated, use the 'union_all()' method instead.\n",
      "  geom_union = gdf.unary_union\n",
      "/tmp/ipykernel_325139/3622724031.py:93: DeprecationWarning: The 'unary_union' attribute is deprecated, use the 'union_all()' method instead.\n",
      "  geom_union = gdf.unary_union\n",
      "/tmp/ipykernel_325139/3622724031.py:93: DeprecationWarning: The 'unary_union' attribute is deprecated, use the 'union_all()' method instead.\n",
      "  geom_union = gdf.unary_union\n"
     ]
    },
    {
     "name": "stdout",
     "output_type": "stream",
     "text": [
      "✂️  DeltaT_clip.TIF escrito en /home/rohi/Downloads/maestria/10-heat_island/cartagena/LC08_L2SP_009053_20190122_20200830_02_T1/DeltaT_clip.TIF\n",
      "✂️  ICU_mask_clip.TIF escrito en /home/rohi/Downloads/maestria/10-heat_island/cartagena/LC08_L2SP_009053_20190122_20200830_02_T1/ICU_mask_clip.TIF\n",
      "✂️  ICU_intensity_clip.TIF escrito en /home/rohi/Downloads/maestria/10-heat_island/cartagena/LC08_L2SP_009053_20190122_20200830_02_T1/ICU_intensity_clip.TIF\n"
     ]
    },
    {
     "name": "stderr",
     "output_type": "stream",
     "text": [
      "/tmp/ipykernel_325139/3622724031.py:93: DeprecationWarning: The 'unary_union' attribute is deprecated, use the 'union_all()' method instead.\n",
      "  geom_union = gdf.unary_union\n",
      "/tmp/ipykernel_325139/3622724031.py:93: DeprecationWarning: The 'unary_union' attribute is deprecated, use the 'union_all()' method instead.\n",
      "  geom_union = gdf.unary_union\n",
      "/tmp/ipykernel_325139/3622724031.py:93: DeprecationWarning: The 'unary_union' attribute is deprecated, use the 'union_all()' method instead.\n",
      "  geom_union = gdf.unary_union\n"
     ]
    },
    {
     "name": "stdout",
     "output_type": "stream",
     "text": [
      "✂️  DeltaT_clip.TIF escrito en /home/rohi/Downloads/maestria/10-heat_island/cartagena/LC08_L2SP_009053_20170116_20200905_02_T1/DeltaT_clip.TIF\n",
      "✂️  ICU_mask_clip.TIF escrito en /home/rohi/Downloads/maestria/10-heat_island/cartagena/LC08_L2SP_009053_20170116_20200905_02_T1/ICU_mask_clip.TIF\n",
      "✂️  ICU_intensity_clip.TIF escrito en /home/rohi/Downloads/maestria/10-heat_island/cartagena/LC08_L2SP_009053_20170116_20200905_02_T1/ICU_intensity_clip.TIF\n"
     ]
    },
    {
     "name": "stderr",
     "output_type": "stream",
     "text": [
      "/tmp/ipykernel_325139/3622724031.py:93: DeprecationWarning: The 'unary_union' attribute is deprecated, use the 'union_all()' method instead.\n",
      "  geom_union = gdf.unary_union\n",
      "/tmp/ipykernel_325139/3622724031.py:93: DeprecationWarning: The 'unary_union' attribute is deprecated, use the 'union_all()' method instead.\n",
      "  geom_union = gdf.unary_union\n",
      "/tmp/ipykernel_325139/3622724031.py:93: DeprecationWarning: The 'unary_union' attribute is deprecated, use the 'union_all()' method instead.\n",
      "  geom_union = gdf.unary_union\n",
      "/tmp/ipykernel_325139/3622724031.py:93: DeprecationWarning: The 'unary_union' attribute is deprecated, use the 'union_all()' method instead.\n",
      "  geom_union = gdf.unary_union\n"
     ]
    },
    {
     "name": "stdout",
     "output_type": "stream",
     "text": [
      "✂️  DeltaT_clip.TIF escrito en /home/rohi/Downloads/maestria/10-heat_island/cartagena/LC08_L2SP_009053_20230117_20230131_02_T1/DeltaT_clip.TIF\n",
      "✂️  ICU_mask_clip.TIF escrito en /home/rohi/Downloads/maestria/10-heat_island/cartagena/LC08_L2SP_009053_20230117_20230131_02_T1/ICU_mask_clip.TIF\n",
      "✂️  ICU_intensity_clip.TIF escrito en /home/rohi/Downloads/maestria/10-heat_island/cartagena/LC08_L2SP_009053_20230117_20230131_02_T1/ICU_intensity_clip.TIF\n"
     ]
    },
    {
     "name": "stderr",
     "output_type": "stream",
     "text": [
      "/tmp/ipykernel_325139/3622724031.py:93: DeprecationWarning: The 'unary_union' attribute is deprecated, use the 'union_all()' method instead.\n",
      "  geom_union = gdf.unary_union\n",
      "/tmp/ipykernel_325139/3622724031.py:93: DeprecationWarning: The 'unary_union' attribute is deprecated, use the 'union_all()' method instead.\n",
      "  geom_union = gdf.unary_union\n"
     ]
    },
    {
     "name": "stdout",
     "output_type": "stream",
     "text": [
      "✂️  DeltaT_clip.TIF escrito en /home/rohi/Downloads/maestria/10-heat_island/cartagena/LC08_L2SP_009053_20180204_20200902_02_T1/DeltaT_clip.TIF\n",
      "✂️  ICU_mask_clip.TIF escrito en /home/rohi/Downloads/maestria/10-heat_island/cartagena/LC08_L2SP_009053_20180204_20200902_02_T1/ICU_mask_clip.TIF\n",
      "✂️  ICU_intensity_clip.TIF escrito en /home/rohi/Downloads/maestria/10-heat_island/cartagena/LC08_L2SP_009053_20180204_20200902_02_T1/ICU_intensity_clip.TIF\n"
     ]
    },
    {
     "name": "stderr",
     "output_type": "stream",
     "text": [
      "/tmp/ipykernel_325139/3622724031.py:93: DeprecationWarning: The 'unary_union' attribute is deprecated, use the 'union_all()' method instead.\n",
      "  geom_union = gdf.unary_union\n",
      "/tmp/ipykernel_325139/3622724031.py:93: DeprecationWarning: The 'unary_union' attribute is deprecated, use the 'union_all()' method instead.\n",
      "  geom_union = gdf.unary_union\n",
      "/tmp/ipykernel_325139/3622724031.py:93: DeprecationWarning: The 'unary_union' attribute is deprecated, use the 'union_all()' method instead.\n",
      "  geom_union = gdf.unary_union\n"
     ]
    },
    {
     "name": "stdout",
     "output_type": "stream",
     "text": [
      "✂️  DeltaT_clip.TIF escrito en /home/rohi/Downloads/maestria/10-heat_island/cartagena/LC08_L2SP_009053_20160114_20200907_02_T1/DeltaT_clip.TIF\n",
      "✂️  ICU_mask_clip.TIF escrito en /home/rohi/Downloads/maestria/10-heat_island/cartagena/LC08_L2SP_009053_20160114_20200907_02_T1/ICU_mask_clip.TIF\n"
     ]
    },
    {
     "name": "stderr",
     "output_type": "stream",
     "text": [
      "/tmp/ipykernel_325139/3622724031.py:93: DeprecationWarning: The 'unary_union' attribute is deprecated, use the 'union_all()' method instead.\n",
      "  geom_union = gdf.unary_union\n",
      "/tmp/ipykernel_325139/3622724031.py:93: DeprecationWarning: The 'unary_union' attribute is deprecated, use the 'union_all()' method instead.\n",
      "  geom_union = gdf.unary_union\n"
     ]
    },
    {
     "name": "stdout",
     "output_type": "stream",
     "text": [
      "✂️  ICU_intensity_clip.TIF escrito en /home/rohi/Downloads/maestria/10-heat_island/cartagena/LC08_L2SP_009053_20160114_20200907_02_T1/ICU_intensity_clip.TIF\n",
      "✂️  DeltaT_clip.TIF escrito en /home/rohi/Downloads/maestria/10-heat_island/cartagena/LC08_L2SP_009053_20150401_20200909_02_T1/DeltaT_clip.TIF\n"
     ]
    },
    {
     "name": "stderr",
     "output_type": "stream",
     "text": [
      "/tmp/ipykernel_325139/3622724031.py:93: DeprecationWarning: The 'unary_union' attribute is deprecated, use the 'union_all()' method instead.\n",
      "  geom_union = gdf.unary_union\n",
      "/tmp/ipykernel_325139/3622724031.py:93: DeprecationWarning: The 'unary_union' attribute is deprecated, use the 'union_all()' method instead.\n",
      "  geom_union = gdf.unary_union\n"
     ]
    },
    {
     "name": "stdout",
     "output_type": "stream",
     "text": [
      "✂️  ICU_mask_clip.TIF escrito en /home/rohi/Downloads/maestria/10-heat_island/cartagena/LC08_L2SP_009053_20150401_20200909_02_T1/ICU_mask_clip.TIF\n",
      "✂️  ICU_intensity_clip.TIF escrito en /home/rohi/Downloads/maestria/10-heat_island/cartagena/LC08_L2SP_009053_20150401_20200909_02_T1/ICU_intensity_clip.TIF\n"
     ]
    },
    {
     "name": "stderr",
     "output_type": "stream",
     "text": [
      "/tmp/ipykernel_325139/3622724031.py:93: DeprecationWarning: The 'unary_union' attribute is deprecated, use the 'union_all()' method instead.\n",
      "  geom_union = gdf.unary_union\n",
      "/tmp/ipykernel_325139/3622724031.py:93: DeprecationWarning: The 'unary_union' attribute is deprecated, use the 'union_all()' method instead.\n",
      "  geom_union = gdf.unary_union\n"
     ]
    },
    {
     "name": "stdout",
     "output_type": "stream",
     "text": [
      "✂️  DeltaT_clip.TIF escrito en /home/rohi/Downloads/maestria/10-heat_island/cartagena/LC08_L2SP_010053_20220222_20220302_02_T1/DeltaT_clip.TIF\n",
      "✂️  ICU_mask_clip.TIF escrito en /home/rohi/Downloads/maestria/10-heat_island/cartagena/LC08_L2SP_010053_20220222_20220302_02_T1/ICU_mask_clip.TIF\n",
      "✂️  ICU_intensity_clip.TIF escrito en /home/rohi/Downloads/maestria/10-heat_island/cartagena/LC08_L2SP_010053_20220222_20220302_02_T1/ICU_intensity_clip.TIF\n"
     ]
    },
    {
     "name": "stderr",
     "output_type": "stream",
     "text": [
      "/tmp/ipykernel_325139/3622724031.py:93: DeprecationWarning: The 'unary_union' attribute is deprecated, use the 'union_all()' method instead.\n",
      "  geom_union = gdf.unary_union\n",
      "/tmp/ipykernel_325139/3622724031.py:93: DeprecationWarning: The 'unary_union' attribute is deprecated, use the 'union_all()' method instead.\n",
      "  geom_union = gdf.unary_union\n",
      "/tmp/ipykernel_325139/3622724031.py:93: DeprecationWarning: The 'unary_union' attribute is deprecated, use the 'union_all()' method instead.\n",
      "  geom_union = gdf.unary_union\n"
     ]
    },
    {
     "name": "stdout",
     "output_type": "stream",
     "text": [
      "✂️  DeltaT_clip.TIF escrito en /home/rohi/Downloads/maestria/10-heat_island/cartagena/LC08_L2SP_009053_20210212_20220526_02_T1/DeltaT_clip.TIF\n",
      "✂️  ICU_mask_clip.TIF escrito en /home/rohi/Downloads/maestria/10-heat_island/cartagena/LC08_L2SP_009053_20210212_20220526_02_T1/ICU_mask_clip.TIF\n",
      "✂️  ICU_intensity_clip.TIF escrito en /home/rohi/Downloads/maestria/10-heat_island/cartagena/LC08_L2SP_009053_20210212_20220526_02_T1/ICU_intensity_clip.TIF\n"
     ]
    },
    {
     "name": "stderr",
     "output_type": "stream",
     "text": [
      "/tmp/ipykernel_325139/3622724031.py:93: DeprecationWarning: The 'unary_union' attribute is deprecated, use the 'union_all()' method instead.\n",
      "  geom_union = gdf.unary_union\n",
      "/tmp/ipykernel_325139/3622724031.py:93: DeprecationWarning: The 'unary_union' attribute is deprecated, use the 'union_all()' method instead.\n",
      "  geom_union = gdf.unary_union\n"
     ]
    }
   ],
   "source": [
    "root_rasters = Path(\"/home/rohi/Downloads/maestria/10-heat_island/cartagena\")     # donde están las escenas con outputs\n",
    "gpkg_root    = Path(\"/home/rohi/Downloads/maestria/limites/cartagena\")     # donde están los .gpkg (en subcarpetas por ciudad, por ej.)\n",
    "\n",
    "# A) Emparejar por ciudad automáticamente\n",
    "resultados = clip_lote(root_rasters, gpkg_root)\n",
    "# resultados es una lista de dicts con rutas *_clip.TIF o errores\n",
    "\n",
    "# B) Usar SIEMPRE el mismo GPKG para todas las escenas (override)\n",
    "# resultados = clip_lote(root_rasters, gpkg_root, gpkg_override=Path(\"/ruta/a/LIMITES/limite.gpkg\"))"
   ]
  },
  {
   "cell_type": "code",
   "execution_count": 4,
   "id": "bcf8d6db",
   "metadata": {},
   "outputs": [
    {
     "name": "stdout",
     "output_type": "stream",
     "text": [
      "🔎 Escenas con outputs encontradas: 10\n",
      "✂️  DeltaT_clip.TIF escrito en /home/rohi/Downloads/maestria/10-heat_island/santa_marta/LC08_L2SP_009052_20210212_20220526_02_T1/DeltaT_clip.TIF\n"
     ]
    },
    {
     "name": "stderr",
     "output_type": "stream",
     "text": [
      "/tmp/ipykernel_325139/3622724031.py:93: DeprecationWarning: The 'unary_union' attribute is deprecated, use the 'union_all()' method instead.\n",
      "  geom_union = gdf.unary_union\n",
      "/tmp/ipykernel_325139/3622724031.py:93: DeprecationWarning: The 'unary_union' attribute is deprecated, use the 'union_all()' method instead.\n",
      "  geom_union = gdf.unary_union\n"
     ]
    },
    {
     "name": "stdout",
     "output_type": "stream",
     "text": [
      "✂️  ICU_mask_clip.TIF escrito en /home/rohi/Downloads/maestria/10-heat_island/santa_marta/LC08_L2SP_009052_20210212_20220526_02_T1/ICU_mask_clip.TIF\n",
      "✂️  ICU_intensity_clip.TIF escrito en /home/rohi/Downloads/maestria/10-heat_island/santa_marta/LC08_L2SP_009052_20210212_20220526_02_T1/ICU_intensity_clip.TIF\n",
      "✂️  DeltaT_clip.TIF escrito en /home/rohi/Downloads/maestria/10-heat_island/santa_marta/LC08_L2SP_009052_20160114_20200907_02_T1/DeltaT_clip.TIF\n"
     ]
    },
    {
     "name": "stderr",
     "output_type": "stream",
     "text": [
      "/tmp/ipykernel_325139/3622724031.py:93: DeprecationWarning: The 'unary_union' attribute is deprecated, use the 'union_all()' method instead.\n",
      "  geom_union = gdf.unary_union\n",
      "/tmp/ipykernel_325139/3622724031.py:93: DeprecationWarning: The 'unary_union' attribute is deprecated, use the 'union_all()' method instead.\n",
      "  geom_union = gdf.unary_union\n",
      "/tmp/ipykernel_325139/3622724031.py:93: DeprecationWarning: The 'unary_union' attribute is deprecated, use the 'union_all()' method instead.\n",
      "  geom_union = gdf.unary_union\n"
     ]
    },
    {
     "name": "stdout",
     "output_type": "stream",
     "text": [
      "✂️  ICU_mask_clip.TIF escrito en /home/rohi/Downloads/maestria/10-heat_island/santa_marta/LC08_L2SP_009052_20160114_20200907_02_T1/ICU_mask_clip.TIF\n",
      "✂️  ICU_intensity_clip.TIF escrito en /home/rohi/Downloads/maestria/10-heat_island/santa_marta/LC08_L2SP_009052_20160114_20200907_02_T1/ICU_intensity_clip.TIF\n",
      "✂️  DeltaT_clip.TIF escrito en /home/rohi/Downloads/maestria/10-heat_island/santa_marta/LC08_L2SP_009052_20230117_20230131_02_T1/DeltaT_clip.TIF\n"
     ]
    },
    {
     "name": "stderr",
     "output_type": "stream",
     "text": [
      "/tmp/ipykernel_325139/3622724031.py:93: DeprecationWarning: The 'unary_union' attribute is deprecated, use the 'union_all()' method instead.\n",
      "  geom_union = gdf.unary_union\n",
      "/tmp/ipykernel_325139/3622724031.py:93: DeprecationWarning: The 'unary_union' attribute is deprecated, use the 'union_all()' method instead.\n",
      "  geom_union = gdf.unary_union\n",
      "/tmp/ipykernel_325139/3622724031.py:93: DeprecationWarning: The 'unary_union' attribute is deprecated, use the 'union_all()' method instead.\n",
      "  geom_union = gdf.unary_union\n"
     ]
    },
    {
     "name": "stdout",
     "output_type": "stream",
     "text": [
      "✂️  ICU_mask_clip.TIF escrito en /home/rohi/Downloads/maestria/10-heat_island/santa_marta/LC08_L2SP_009052_20230117_20230131_02_T1/ICU_mask_clip.TIF\n",
      "✂️  ICU_intensity_clip.TIF escrito en /home/rohi/Downloads/maestria/10-heat_island/santa_marta/LC08_L2SP_009052_20230117_20230131_02_T1/ICU_intensity_clip.TIF\n"
     ]
    },
    {
     "name": "stderr",
     "output_type": "stream",
     "text": [
      "/tmp/ipykernel_325139/3622724031.py:93: DeprecationWarning: The 'unary_union' attribute is deprecated, use the 'union_all()' method instead.\n",
      "  geom_union = gdf.unary_union\n",
      "/tmp/ipykernel_325139/3622724031.py:93: DeprecationWarning: The 'unary_union' attribute is deprecated, use the 'union_all()' method instead.\n",
      "  geom_union = gdf.unary_union\n"
     ]
    },
    {
     "name": "stdout",
     "output_type": "stream",
     "text": [
      "✂️  DeltaT_clip.TIF escrito en /home/rohi/Downloads/maestria/10-heat_island/santa_marta/LC08_L2SP_009052_20240120_20240129_02_T1/DeltaT_clip.TIF\n",
      "✂️  ICU_mask_clip.TIF escrito en /home/rohi/Downloads/maestria/10-heat_island/santa_marta/LC08_L2SP_009052_20240120_20240129_02_T1/ICU_mask_clip.TIF\n"
     ]
    },
    {
     "name": "stderr",
     "output_type": "stream",
     "text": [
      "/tmp/ipykernel_325139/3622724031.py:93: DeprecationWarning: The 'unary_union' attribute is deprecated, use the 'union_all()' method instead.\n",
      "  geom_union = gdf.unary_union\n",
      "/tmp/ipykernel_325139/3622724031.py:93: DeprecationWarning: The 'unary_union' attribute is deprecated, use the 'union_all()' method instead.\n",
      "  geom_union = gdf.unary_union\n"
     ]
    },
    {
     "name": "stdout",
     "output_type": "stream",
     "text": [
      "✂️  ICU_intensity_clip.TIF escrito en /home/rohi/Downloads/maestria/10-heat_island/santa_marta/LC08_L2SP_009052_20240120_20240129_02_T1/ICU_intensity_clip.TIF\n",
      "✂️  DeltaT_clip.TIF escrito en /home/rohi/Downloads/maestria/10-heat_island/santa_marta/LC08_L2SP_009052_20150401_20200909_02_T1/DeltaT_clip.TIF\n"
     ]
    },
    {
     "name": "stderr",
     "output_type": "stream",
     "text": [
      "/tmp/ipykernel_325139/3622724031.py:93: DeprecationWarning: The 'unary_union' attribute is deprecated, use the 'union_all()' method instead.\n",
      "  geom_union = gdf.unary_union\n",
      "/tmp/ipykernel_325139/3622724031.py:93: DeprecationWarning: The 'unary_union' attribute is deprecated, use the 'union_all()' method instead.\n",
      "  geom_union = gdf.unary_union\n"
     ]
    },
    {
     "name": "stdout",
     "output_type": "stream",
     "text": [
      "✂️  ICU_mask_clip.TIF escrito en /home/rohi/Downloads/maestria/10-heat_island/santa_marta/LC08_L2SP_009052_20150401_20200909_02_T1/ICU_mask_clip.TIF\n",
      "✂️  ICU_intensity_clip.TIF escrito en /home/rohi/Downloads/maestria/10-heat_island/santa_marta/LC08_L2SP_009052_20150401_20200909_02_T1/ICU_intensity_clip.TIF\n"
     ]
    },
    {
     "name": "stderr",
     "output_type": "stream",
     "text": [
      "/tmp/ipykernel_325139/3622724031.py:93: DeprecationWarning: The 'unary_union' attribute is deprecated, use the 'union_all()' method instead.\n",
      "  geom_union = gdf.unary_union\n",
      "/tmp/ipykernel_325139/3622724031.py:93: DeprecationWarning: The 'unary_union' attribute is deprecated, use the 'union_all()' method instead.\n",
      "  geom_union = gdf.unary_union\n"
     ]
    },
    {
     "name": "stdout",
     "output_type": "stream",
     "text": [
      "✂️  DeltaT_clip.TIF escrito en /home/rohi/Downloads/maestria/10-heat_island/santa_marta/LC08_L2SP_009052_20170116_20200905_02_T1/DeltaT_clip.TIF\n",
      "✂️  ICU_mask_clip.TIF escrito en /home/rohi/Downloads/maestria/10-heat_island/santa_marta/LC08_L2SP_009052_20170116_20200905_02_T1/ICU_mask_clip.TIF\n",
      "✂️  ICU_intensity_clip.TIF escrito en /home/rohi/Downloads/maestria/10-heat_island/santa_marta/LC08_L2SP_009052_20170116_20200905_02_T1/ICU_intensity_clip.TIF\n"
     ]
    },
    {
     "name": "stderr",
     "output_type": "stream",
     "text": [
      "/tmp/ipykernel_325139/3622724031.py:93: DeprecationWarning: The 'unary_union' attribute is deprecated, use the 'union_all()' method instead.\n",
      "  geom_union = gdf.unary_union\n",
      "/tmp/ipykernel_325139/3622724031.py:93: DeprecationWarning: The 'unary_union' attribute is deprecated, use the 'union_all()' method instead.\n",
      "  geom_union = gdf.unary_union\n",
      "/tmp/ipykernel_325139/3622724031.py:93: DeprecationWarning: The 'unary_union' attribute is deprecated, use the 'union_all()' method instead.\n",
      "  geom_union = gdf.unary_union\n"
     ]
    },
    {
     "name": "stdout",
     "output_type": "stream",
     "text": [
      "✂️  DeltaT_clip.TIF escrito en /home/rohi/Downloads/maestria/10-heat_island/santa_marta/LC09_L2SP_009052_20220223_20230427_02_T1/DeltaT_clip.TIF\n",
      "✂️  ICU_mask_clip.TIF escrito en /home/rohi/Downloads/maestria/10-heat_island/santa_marta/LC09_L2SP_009052_20220223_20230427_02_T1/ICU_mask_clip.TIF\n"
     ]
    },
    {
     "name": "stderr",
     "output_type": "stream",
     "text": [
      "/tmp/ipykernel_325139/3622724031.py:93: DeprecationWarning: The 'unary_union' attribute is deprecated, use the 'union_all()' method instead.\n",
      "  geom_union = gdf.unary_union\n",
      "/tmp/ipykernel_325139/3622724031.py:93: DeprecationWarning: The 'unary_union' attribute is deprecated, use the 'union_all()' method instead.\n",
      "  geom_union = gdf.unary_union\n",
      "/tmp/ipykernel_325139/3622724031.py:93: DeprecationWarning: The 'unary_union' attribute is deprecated, use the 'union_all()' method instead.\n",
      "  geom_union = gdf.unary_union\n"
     ]
    },
    {
     "name": "stdout",
     "output_type": "stream",
     "text": [
      "✂️  ICU_intensity_clip.TIF escrito en /home/rohi/Downloads/maestria/10-heat_island/santa_marta/LC09_L2SP_009052_20220223_20230427_02_T1/ICU_intensity_clip.TIF\n",
      "✂️  DeltaT_clip.TIF escrito en /home/rohi/Downloads/maestria/10-heat_island/santa_marta/LC08_L2SP_009052_20190106_20200830_02_T1/DeltaT_clip.TIF\n"
     ]
    },
    {
     "name": "stderr",
     "output_type": "stream",
     "text": [
      "/tmp/ipykernel_325139/3622724031.py:93: DeprecationWarning: The 'unary_union' attribute is deprecated, use the 'union_all()' method instead.\n",
      "  geom_union = gdf.unary_union\n",
      "/tmp/ipykernel_325139/3622724031.py:93: DeprecationWarning: The 'unary_union' attribute is deprecated, use the 'union_all()' method instead.\n",
      "  geom_union = gdf.unary_union\n",
      "/tmp/ipykernel_325139/3622724031.py:93: DeprecationWarning: The 'unary_union' attribute is deprecated, use the 'union_all()' method instead.\n",
      "  geom_union = gdf.unary_union\n"
     ]
    },
    {
     "name": "stdout",
     "output_type": "stream",
     "text": [
      "✂️  ICU_mask_clip.TIF escrito en /home/rohi/Downloads/maestria/10-heat_island/santa_marta/LC08_L2SP_009052_20190106_20200830_02_T1/ICU_mask_clip.TIF\n",
      "✂️  ICU_intensity_clip.TIF escrito en /home/rohi/Downloads/maestria/10-heat_island/santa_marta/LC08_L2SP_009052_20190106_20200830_02_T1/ICU_intensity_clip.TIF\n",
      "✂️  DeltaT_clip.TIF escrito en /home/rohi/Downloads/maestria/10-heat_island/santa_marta/LC08_L2SP_009052_20200329_20200822_02_T1/DeltaT_clip.TIF\n",
      "✂️  ICU_mask_clip.TIF escrito en /home/rohi/Downloads/maestria/10-heat_island/santa_marta/LC08_L2SP_009052_20200329_20200822_02_T1/ICU_mask_clip.TIF\n"
     ]
    },
    {
     "name": "stderr",
     "output_type": "stream",
     "text": [
      "/tmp/ipykernel_325139/3622724031.py:93: DeprecationWarning: The 'unary_union' attribute is deprecated, use the 'union_all()' method instead.\n",
      "  geom_union = gdf.unary_union\n",
      "/tmp/ipykernel_325139/3622724031.py:93: DeprecationWarning: The 'unary_union' attribute is deprecated, use the 'union_all()' method instead.\n",
      "  geom_union = gdf.unary_union\n"
     ]
    },
    {
     "name": "stdout",
     "output_type": "stream",
     "text": [
      "✂️  ICU_intensity_clip.TIF escrito en /home/rohi/Downloads/maestria/10-heat_island/santa_marta/LC08_L2SP_009052_20200329_20200822_02_T1/ICU_intensity_clip.TIF\n",
      "✂️  DeltaT_clip.TIF escrito en /home/rohi/Downloads/maestria/10-heat_island/santa_marta/LC08_L2SP_009052_20180204_20200902_02_T1/DeltaT_clip.TIF\n"
     ]
    },
    {
     "name": "stderr",
     "output_type": "stream",
     "text": [
      "/tmp/ipykernel_325139/3622724031.py:93: DeprecationWarning: The 'unary_union' attribute is deprecated, use the 'union_all()' method instead.\n",
      "  geom_union = gdf.unary_union\n",
      "/tmp/ipykernel_325139/3622724031.py:93: DeprecationWarning: The 'unary_union' attribute is deprecated, use the 'union_all()' method instead.\n",
      "  geom_union = gdf.unary_union\n"
     ]
    },
    {
     "name": "stdout",
     "output_type": "stream",
     "text": [
      "✂️  ICU_mask_clip.TIF escrito en /home/rohi/Downloads/maestria/10-heat_island/santa_marta/LC08_L2SP_009052_20180204_20200902_02_T1/ICU_mask_clip.TIF\n",
      "✂️  ICU_intensity_clip.TIF escrito en /home/rohi/Downloads/maestria/10-heat_island/santa_marta/LC08_L2SP_009052_20180204_20200902_02_T1/ICU_intensity_clip.TIF\n"
     ]
    },
    {
     "name": "stderr",
     "output_type": "stream",
     "text": [
      "/tmp/ipykernel_325139/3622724031.py:93: DeprecationWarning: The 'unary_union' attribute is deprecated, use the 'union_all()' method instead.\n",
      "  geom_union = gdf.unary_union\n"
     ]
    }
   ],
   "source": [
    "root_rasters = Path(\"/home/rohi/Downloads/maestria/10-heat_island/santa_marta\")     # donde están las escenas con outputs\n",
    "gpkg_root    = Path(\"/home/rohi/Downloads/maestria/limites/santa_marta\")     # donde están los .gpkg (en subcarpetas por ciudad, por ej.)\n",
    "\n",
    "# A) Emparejar por ciudad automáticamente\n",
    "resultados = clip_lote(root_rasters, gpkg_root)\n",
    "# resultados es una lista de dicts con rutas *_clip.TIF o errores\n",
    "\n",
    "# B) Usar SIEMPRE el mismo GPKG para todas las escenas (override)\n",
    "# resultados = clip_lote(root_rasters, gpkg_root, gpkg_override=Path(\"/ruta/a/LIMITES/limite.gpkg\"))\n"
   ]
  }
 ],
 "metadata": {
  "kernelspec": {
   "display_name": ".venv",
   "language": "python",
   "name": "python3"
  },
  "language_info": {
   "codemirror_mode": {
    "name": "ipython",
    "version": 3
   },
   "file_extension": ".py",
   "mimetype": "text/x-python",
   "name": "python",
   "nbconvert_exporter": "python",
   "pygments_lexer": "ipython3",
   "version": "3.12.3"
  }
 },
 "nbformat": 4,
 "nbformat_minor": 5
}
